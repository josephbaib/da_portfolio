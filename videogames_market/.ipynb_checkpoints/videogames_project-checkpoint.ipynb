{
 "cells": [
  {
   "cell_type": "markdown",
   "metadata": {},
   "source": [
    "# Video game sales analysis"
   ]
  },
  {
   "cell_type": "markdown",
   "metadata": {},
   "source": [
    "**Purpose of the research:**\n",
    "- Identify patterns that determine the success of the game, in order to bet on a potentially popular product and plan advertising campaigns\n",
    "\n",
    "**Input data from open sources**\n",
    "- Historical game sales data, user and expert evaluations, genres and platforms "
   ]
  },
  {
   "cell_type": "markdown",
   "metadata": {},
   "source": [
    "## 1. Overview of data"
   ]
  },
  {
   "cell_type": "code",
   "execution_count": 25,
   "metadata": {},
   "outputs": [],
   "source": [
    "import pandas as pd\n",
    "import matplotlib.pyplot as plt\n",
    "import numpy as np\n",
    "import matplotlib.ticker as mticker\n",
    "from scipy import stats as st\n",
    "import seaborn as sns"
   ]
  },
  {
   "cell_type": "code",
   "execution_count": 26,
   "metadata": {},
   "outputs": [],
   "source": [
    "df = pd.read_csv('/Users/yusuf/Desktop/Programming/Projects/Data/games.csv')"
   ]
  },
  {
   "cell_type": "code",
   "execution_count": 27,
   "metadata": {},
   "outputs": [],
   "source": [
    "pd.set_option('display.max_columns', 50)\n",
    "pd.set_option('max_colwidth', 400)\n",
    "sns.set(rc={'figure.figsize':(16, 7)})"
   ]
  },
  {
   "cell_type": "code",
   "execution_count": 28,
   "metadata": {},
   "outputs": [
    {
     "data": {
      "text/html": [
       "<div>\n",
       "<style scoped>\n",
       "    .dataframe tbody tr th:only-of-type {\n",
       "        vertical-align: middle;\n",
       "    }\n",
       "\n",
       "    .dataframe tbody tr th {\n",
       "        vertical-align: top;\n",
       "    }\n",
       "\n",
       "    .dataframe thead th {\n",
       "        text-align: right;\n",
       "    }\n",
       "</style>\n",
       "<table border=\"1\" class=\"dataframe\">\n",
       "  <thead>\n",
       "    <tr style=\"text-align: right;\">\n",
       "      <th></th>\n",
       "      <th>Name</th>\n",
       "      <th>Platform</th>\n",
       "      <th>Year_of_Release</th>\n",
       "      <th>Genre</th>\n",
       "      <th>NA_sales</th>\n",
       "      <th>EU_sales</th>\n",
       "      <th>JP_sales</th>\n",
       "      <th>Other_sales</th>\n",
       "      <th>Critic_Score</th>\n",
       "      <th>User_Score</th>\n",
       "      <th>Rating</th>\n",
       "    </tr>\n",
       "  </thead>\n",
       "  <tbody>\n",
       "    <tr>\n",
       "      <th>0</th>\n",
       "      <td>Wii Sports</td>\n",
       "      <td>Wii</td>\n",
       "      <td>2006.0</td>\n",
       "      <td>Sports</td>\n",
       "      <td>41.36</td>\n",
       "      <td>28.96</td>\n",
       "      <td>3.77</td>\n",
       "      <td>8.45</td>\n",
       "      <td>76.0</td>\n",
       "      <td>8</td>\n",
       "      <td>E</td>\n",
       "    </tr>\n",
       "    <tr>\n",
       "      <th>1</th>\n",
       "      <td>Super Mario Bros.</td>\n",
       "      <td>NES</td>\n",
       "      <td>1985.0</td>\n",
       "      <td>Platform</td>\n",
       "      <td>29.08</td>\n",
       "      <td>3.58</td>\n",
       "      <td>6.81</td>\n",
       "      <td>0.77</td>\n",
       "      <td>NaN</td>\n",
       "      <td>NaN</td>\n",
       "      <td>NaN</td>\n",
       "    </tr>\n",
       "    <tr>\n",
       "      <th>2</th>\n",
       "      <td>Mario Kart Wii</td>\n",
       "      <td>Wii</td>\n",
       "      <td>2008.0</td>\n",
       "      <td>Racing</td>\n",
       "      <td>15.68</td>\n",
       "      <td>12.76</td>\n",
       "      <td>3.79</td>\n",
       "      <td>3.29</td>\n",
       "      <td>82.0</td>\n",
       "      <td>8.3</td>\n",
       "      <td>E</td>\n",
       "    </tr>\n",
       "    <tr>\n",
       "      <th>3</th>\n",
       "      <td>Wii Sports Resort</td>\n",
       "      <td>Wii</td>\n",
       "      <td>2009.0</td>\n",
       "      <td>Sports</td>\n",
       "      <td>15.61</td>\n",
       "      <td>10.93</td>\n",
       "      <td>3.28</td>\n",
       "      <td>2.95</td>\n",
       "      <td>80.0</td>\n",
       "      <td>8</td>\n",
       "      <td>E</td>\n",
       "    </tr>\n",
       "    <tr>\n",
       "      <th>4</th>\n",
       "      <td>Pokemon Red/Pokemon Blue</td>\n",
       "      <td>GB</td>\n",
       "      <td>1996.0</td>\n",
       "      <td>Role-Playing</td>\n",
       "      <td>11.27</td>\n",
       "      <td>8.89</td>\n",
       "      <td>10.22</td>\n",
       "      <td>1.00</td>\n",
       "      <td>NaN</td>\n",
       "      <td>NaN</td>\n",
       "      <td>NaN</td>\n",
       "    </tr>\n",
       "    <tr>\n",
       "      <th>5</th>\n",
       "      <td>Tetris</td>\n",
       "      <td>GB</td>\n",
       "      <td>1989.0</td>\n",
       "      <td>Puzzle</td>\n",
       "      <td>23.20</td>\n",
       "      <td>2.26</td>\n",
       "      <td>4.22</td>\n",
       "      <td>0.58</td>\n",
       "      <td>NaN</td>\n",
       "      <td>NaN</td>\n",
       "      <td>NaN</td>\n",
       "    </tr>\n",
       "    <tr>\n",
       "      <th>6</th>\n",
       "      <td>New Super Mario Bros.</td>\n",
       "      <td>DS</td>\n",
       "      <td>2006.0</td>\n",
       "      <td>Platform</td>\n",
       "      <td>11.28</td>\n",
       "      <td>9.14</td>\n",
       "      <td>6.50</td>\n",
       "      <td>2.88</td>\n",
       "      <td>89.0</td>\n",
       "      <td>8.5</td>\n",
       "      <td>E</td>\n",
       "    </tr>\n",
       "    <tr>\n",
       "      <th>7</th>\n",
       "      <td>Wii Play</td>\n",
       "      <td>Wii</td>\n",
       "      <td>2006.0</td>\n",
       "      <td>Misc</td>\n",
       "      <td>13.96</td>\n",
       "      <td>9.18</td>\n",
       "      <td>2.93</td>\n",
       "      <td>2.84</td>\n",
       "      <td>58.0</td>\n",
       "      <td>6.6</td>\n",
       "      <td>E</td>\n",
       "    </tr>\n",
       "    <tr>\n",
       "      <th>8</th>\n",
       "      <td>New Super Mario Bros. Wii</td>\n",
       "      <td>Wii</td>\n",
       "      <td>2009.0</td>\n",
       "      <td>Platform</td>\n",
       "      <td>14.44</td>\n",
       "      <td>6.94</td>\n",
       "      <td>4.70</td>\n",
       "      <td>2.24</td>\n",
       "      <td>87.0</td>\n",
       "      <td>8.4</td>\n",
       "      <td>E</td>\n",
       "    </tr>\n",
       "    <tr>\n",
       "      <th>9</th>\n",
       "      <td>Duck Hunt</td>\n",
       "      <td>NES</td>\n",
       "      <td>1984.0</td>\n",
       "      <td>Shooter</td>\n",
       "      <td>26.93</td>\n",
       "      <td>0.63</td>\n",
       "      <td>0.28</td>\n",
       "      <td>0.47</td>\n",
       "      <td>NaN</td>\n",
       "      <td>NaN</td>\n",
       "      <td>NaN</td>\n",
       "    </tr>\n",
       "  </tbody>\n",
       "</table>\n",
       "</div>"
      ],
      "text/plain": [
       "                        Name Platform  Year_of_Release         Genre  \\\n",
       "0                 Wii Sports      Wii           2006.0        Sports   \n",
       "1          Super Mario Bros.      NES           1985.0      Platform   \n",
       "2             Mario Kart Wii      Wii           2008.0        Racing   \n",
       "3          Wii Sports Resort      Wii           2009.0        Sports   \n",
       "4   Pokemon Red/Pokemon Blue       GB           1996.0  Role-Playing   \n",
       "5                     Tetris       GB           1989.0        Puzzle   \n",
       "6      New Super Mario Bros.       DS           2006.0      Platform   \n",
       "7                   Wii Play      Wii           2006.0          Misc   \n",
       "8  New Super Mario Bros. Wii      Wii           2009.0      Platform   \n",
       "9                  Duck Hunt      NES           1984.0       Shooter   \n",
       "\n",
       "   NA_sales  EU_sales  JP_sales  Other_sales  Critic_Score User_Score Rating  \n",
       "0     41.36     28.96      3.77         8.45          76.0          8      E  \n",
       "1     29.08      3.58      6.81         0.77           NaN        NaN    NaN  \n",
       "2     15.68     12.76      3.79         3.29          82.0        8.3      E  \n",
       "3     15.61     10.93      3.28         2.95          80.0          8      E  \n",
       "4     11.27      8.89     10.22         1.00           NaN        NaN    NaN  \n",
       "5     23.20      2.26      4.22         0.58           NaN        NaN    NaN  \n",
       "6     11.28      9.14      6.50         2.88          89.0        8.5      E  \n",
       "7     13.96      9.18      2.93         2.84          58.0        6.6      E  \n",
       "8     14.44      6.94      4.70         2.24          87.0        8.4      E  \n",
       "9     26.93      0.63      0.28         0.47           NaN        NaN    NaN  "
      ]
     },
     "metadata": {},
     "output_type": "display_data"
    }
   ],
   "source": [
    "display(df.head(10))"
   ]
  },
  {
   "cell_type": "code",
   "execution_count": 29,
   "metadata": {},
   "outputs": [
    {
     "name": "stdout",
     "output_type": "stream",
     "text": [
      "<class 'pandas.core.frame.DataFrame'>\n",
      "RangeIndex: 16715 entries, 0 to 16714\n",
      "Data columns (total 11 columns):\n",
      " #   Column           Non-Null Count  Dtype  \n",
      "---  ------           --------------  -----  \n",
      " 0   Name             16713 non-null  object \n",
      " 1   Platform         16715 non-null  object \n",
      " 2   Year_of_Release  16446 non-null  float64\n",
      " 3   Genre            16713 non-null  object \n",
      " 4   NA_sales         16715 non-null  float64\n",
      " 5   EU_sales         16715 non-null  float64\n",
      " 6   JP_sales         16715 non-null  float64\n",
      " 7   Other_sales      16715 non-null  float64\n",
      " 8   Critic_Score     8137 non-null   float64\n",
      " 9   User_Score       10014 non-null  object \n",
      " 10  Rating           9949 non-null   object \n",
      "dtypes: float64(6), object(5)\n",
      "memory usage: 1.4+ MB\n"
     ]
    }
   ],
   "source": [
    "df.info()"
   ]
  },
  {
   "cell_type": "markdown",
   "metadata": {},
   "source": [
    "**Blanks:** a couple of blanks in the name of the game - they can be removed, because they are useless without the name; Blanks on ratings should try to be filled with markers, the averages here will not be correct to pick up. There are too many of them, it is not necessary to cut the data by them. \n",
    "\n",
    "**Data:** the year of the game's release should be brought to the format of the whole, because with the date will be January 1, and the game could be released on any other day of the year. The abbreviation tbd in the rating means that the game has not been rated yet "
   ]
  },
  {
   "cell_type": "markdown",
   "metadata": {},
   "source": [
    "## 2. Data preprocessing"
   ]
  },
  {
   "cell_type": "markdown",
   "metadata": {},
   "source": [
    "I will bring the names of columns to lower case, also some columns (given the human factor, there may be errors), close gaps and replace the type of data"
   ]
  },
  {
   "cell_type": "code",
   "execution_count": 30,
   "metadata": {},
   "outputs": [],
   "source": [
    "df.columns = map(str.lower, df.columns)\n",
    "df['name'] = df['name'].str.lower()\n",
    "df['platform'] = df['platform'].str.lower()\n",
    "df['genre'] = df['genre'].str.lower()\n",
    "df['rating'] = df['rating'].str.lower()\n",
    "df = df.dropna(subset = ['name'])"
   ]
  },
  {
   "cell_type": "markdown",
   "metadata": {},
   "source": [
    "I change the gaps and the tbd value in order to make it easier to read the correlation in the future"
   ]
  },
  {
   "cell_type": "code",
   "execution_count": 31,
   "metadata": {},
   "outputs": [],
   "source": [
    "df['critic_score'] = df['critic_score'].fillna(-77)\n",
    "df['user_score'] = df['user_score'].fillna(-77)\n",
    "df['rating'] = df['rating'].fillna(-77)\n",
    "df['user_score'] = df['user_score'].replace(\"tbd\", -10)"
   ]
  },
  {
   "cell_type": "markdown",
   "metadata": {},
   "source": [
    "I'm going to give the user ratings to a 100-point scale to make it easier to compare them with the critics' evaluations"
   ]
  },
  {
   "cell_type": "code",
   "execution_count": 32,
   "metadata": {},
   "outputs": [],
   "source": [
    "df['user_score'] = df['user_score'].astype(float)\n",
    "\n",
    "def score(number):\n",
    "    if (number <= 10) and (number >= 0):\n",
    "        number = number * 10\n",
    "    return number\n",
    " \n",
    "df['user_score'] = df['user_score'].apply(score)"
   ]
  },
  {
   "cell_type": "code",
   "execution_count": 33,
   "metadata": {},
   "outputs": [
    {
     "data": {
      "text/plain": [
       "-77     6764\n",
       "e       3990\n",
       "t       2961\n",
       "m       1563\n",
       "e10+    1420\n",
       "ec         8\n",
       "k-a        3\n",
       "rp         3\n",
       "ao         1\n",
       "Name: rating, dtype: int64"
      ]
     },
     "execution_count": 33,
     "metadata": {},
     "output_type": "execute_result"
    }
   ],
   "source": [
    "df['rating'].value_counts()"
   ]
  },
  {
   "cell_type": "code",
   "execution_count": 34,
   "metadata": {},
   "outputs": [],
   "source": [
    "df['rating'] = df['rating'].replace(\"ec\", \"e\") #early childhood часто имеет рейтинг everyone\n",
    "df['rating'] = df['rating'].replace(\"rp\", -77) #rating pending\n",
    "df['rating'] = df['rating'].replace(\"k-a\", \"e\") #kids to adults или everyone\n",
    "df['rating'] = df['rating'].replace(\"ao\", \"m\") #adults only или mature"
   ]
  },
  {
   "cell_type": "code",
   "execution_count": 35,
   "metadata": {
    "scrolled": true
   },
   "outputs": [
    {
     "data": {
      "text/html": [
       "<div>\n",
       "<style scoped>\n",
       "    .dataframe tbody tr th:only-of-type {\n",
       "        vertical-align: middle;\n",
       "    }\n",
       "\n",
       "    .dataframe tbody tr th {\n",
       "        vertical-align: top;\n",
       "    }\n",
       "\n",
       "    .dataframe thead th {\n",
       "        text-align: right;\n",
       "    }\n",
       "</style>\n",
       "<table border=\"1\" class=\"dataframe\">\n",
       "  <thead>\n",
       "    <tr style=\"text-align: right;\">\n",
       "      <th></th>\n",
       "      <th>name</th>\n",
       "      <th>platform</th>\n",
       "      <th>year_of_release</th>\n",
       "      <th>genre</th>\n",
       "      <th>na_sales</th>\n",
       "      <th>eu_sales</th>\n",
       "      <th>jp_sales</th>\n",
       "      <th>other_sales</th>\n",
       "      <th>critic_score</th>\n",
       "      <th>user_score</th>\n",
       "      <th>rating</th>\n",
       "    </tr>\n",
       "  </thead>\n",
       "  <tbody>\n",
       "    <tr>\n",
       "      <th>0</th>\n",
       "      <td>wii sports</td>\n",
       "      <td>wii</td>\n",
       "      <td>2006</td>\n",
       "      <td>sports</td>\n",
       "      <td>41.36</td>\n",
       "      <td>28.96</td>\n",
       "      <td>3.77</td>\n",
       "      <td>8.45</td>\n",
       "      <td>76</td>\n",
       "      <td>80</td>\n",
       "      <td>e</td>\n",
       "    </tr>\n",
       "    <tr>\n",
       "      <th>1</th>\n",
       "      <td>super mario bros.</td>\n",
       "      <td>nes</td>\n",
       "      <td>1985</td>\n",
       "      <td>platform</td>\n",
       "      <td>29.08</td>\n",
       "      <td>3.58</td>\n",
       "      <td>6.81</td>\n",
       "      <td>0.77</td>\n",
       "      <td>-77</td>\n",
       "      <td>-77</td>\n",
       "      <td>-77</td>\n",
       "    </tr>\n",
       "    <tr>\n",
       "      <th>2</th>\n",
       "      <td>mario kart wii</td>\n",
       "      <td>wii</td>\n",
       "      <td>2008</td>\n",
       "      <td>racing</td>\n",
       "      <td>15.68</td>\n",
       "      <td>12.76</td>\n",
       "      <td>3.79</td>\n",
       "      <td>3.29</td>\n",
       "      <td>82</td>\n",
       "      <td>83</td>\n",
       "      <td>e</td>\n",
       "    </tr>\n",
       "    <tr>\n",
       "      <th>3</th>\n",
       "      <td>wii sports resort</td>\n",
       "      <td>wii</td>\n",
       "      <td>2009</td>\n",
       "      <td>sports</td>\n",
       "      <td>15.61</td>\n",
       "      <td>10.93</td>\n",
       "      <td>3.28</td>\n",
       "      <td>2.95</td>\n",
       "      <td>80</td>\n",
       "      <td>80</td>\n",
       "      <td>e</td>\n",
       "    </tr>\n",
       "    <tr>\n",
       "      <th>4</th>\n",
       "      <td>pokemon red/pokemon blue</td>\n",
       "      <td>gb</td>\n",
       "      <td>1996</td>\n",
       "      <td>role-playing</td>\n",
       "      <td>11.27</td>\n",
       "      <td>8.89</td>\n",
       "      <td>10.22</td>\n",
       "      <td>1.00</td>\n",
       "      <td>-77</td>\n",
       "      <td>-77</td>\n",
       "      <td>-77</td>\n",
       "    </tr>\n",
       "  </tbody>\n",
       "</table>\n",
       "</div>"
      ],
      "text/plain": [
       "                       name platform  year_of_release         genre  na_sales  \\\n",
       "0                wii sports      wii             2006        sports     41.36   \n",
       "1         super mario bros.      nes             1985      platform     29.08   \n",
       "2            mario kart wii      wii             2008        racing     15.68   \n",
       "3         wii sports resort      wii             2009        sports     15.61   \n",
       "4  pokemon red/pokemon blue       gb             1996  role-playing     11.27   \n",
       "\n",
       "   eu_sales  jp_sales  other_sales  critic_score  user_score rating  \n",
       "0     28.96      3.77         8.45            76          80      e  \n",
       "1      3.58      6.81         0.77           -77         -77    -77  \n",
       "2     12.76      3.79         3.29            82          83      e  \n",
       "3     10.93      3.28         2.95            80          80      e  \n",
       "4      8.89     10.22         1.00           -77         -77    -77  "
      ]
     },
     "metadata": {},
     "output_type": "display_data"
    }
   ],
   "source": [
    "df = df.dropna(subset = ['year_of_release']) #удалю пропуски для того, чтобы привести данные к нужному виду, их количество незначительное\n",
    "df['year_of_release'] = df['year_of_release'].astype(int)\n",
    "df['critic_score'] = df['critic_score'].astype(int)\n",
    "df['user_score'] = df['user_score'].astype(int)\n",
    "display(df.head())"
   ]
  },
  {
   "cell_type": "markdown",
   "metadata": {},
   "source": [
    "Now I will add a column with total sales for all regions"
   ]
  },
  {
   "cell_type": "code",
   "execution_count": 36,
   "metadata": {
    "scrolled": true
   },
   "outputs": [
    {
     "data": {
      "text/html": [
       "<div>\n",
       "<style scoped>\n",
       "    .dataframe tbody tr th:only-of-type {\n",
       "        vertical-align: middle;\n",
       "    }\n",
       "\n",
       "    .dataframe tbody tr th {\n",
       "        vertical-align: top;\n",
       "    }\n",
       "\n",
       "    .dataframe thead th {\n",
       "        text-align: right;\n",
       "    }\n",
       "</style>\n",
       "<table border=\"1\" class=\"dataframe\">\n",
       "  <thead>\n",
       "    <tr style=\"text-align: right;\">\n",
       "      <th></th>\n",
       "      <th>name</th>\n",
       "      <th>platform</th>\n",
       "      <th>year_of_release</th>\n",
       "      <th>genre</th>\n",
       "      <th>na_sales</th>\n",
       "      <th>eu_sales</th>\n",
       "      <th>jp_sales</th>\n",
       "      <th>other_sales</th>\n",
       "      <th>critic_score</th>\n",
       "      <th>user_score</th>\n",
       "      <th>rating</th>\n",
       "      <th>sales_sum</th>\n",
       "    </tr>\n",
       "  </thead>\n",
       "  <tbody>\n",
       "    <tr>\n",
       "      <th>0</th>\n",
       "      <td>wii sports</td>\n",
       "      <td>wii</td>\n",
       "      <td>2006</td>\n",
       "      <td>sports</td>\n",
       "      <td>41.36</td>\n",
       "      <td>28.96</td>\n",
       "      <td>3.77</td>\n",
       "      <td>8.45</td>\n",
       "      <td>76</td>\n",
       "      <td>80</td>\n",
       "      <td>e</td>\n",
       "      <td>82.54</td>\n",
       "    </tr>\n",
       "    <tr>\n",
       "      <th>1</th>\n",
       "      <td>super mario bros.</td>\n",
       "      <td>nes</td>\n",
       "      <td>1985</td>\n",
       "      <td>platform</td>\n",
       "      <td>29.08</td>\n",
       "      <td>3.58</td>\n",
       "      <td>6.81</td>\n",
       "      <td>0.77</td>\n",
       "      <td>-77</td>\n",
       "      <td>-77</td>\n",
       "      <td>-77</td>\n",
       "      <td>40.24</td>\n",
       "    </tr>\n",
       "    <tr>\n",
       "      <th>2</th>\n",
       "      <td>mario kart wii</td>\n",
       "      <td>wii</td>\n",
       "      <td>2008</td>\n",
       "      <td>racing</td>\n",
       "      <td>15.68</td>\n",
       "      <td>12.76</td>\n",
       "      <td>3.79</td>\n",
       "      <td>3.29</td>\n",
       "      <td>82</td>\n",
       "      <td>83</td>\n",
       "      <td>e</td>\n",
       "      <td>35.52</td>\n",
       "    </tr>\n",
       "    <tr>\n",
       "      <th>3</th>\n",
       "      <td>wii sports resort</td>\n",
       "      <td>wii</td>\n",
       "      <td>2009</td>\n",
       "      <td>sports</td>\n",
       "      <td>15.61</td>\n",
       "      <td>10.93</td>\n",
       "      <td>3.28</td>\n",
       "      <td>2.95</td>\n",
       "      <td>80</td>\n",
       "      <td>80</td>\n",
       "      <td>e</td>\n",
       "      <td>32.77</td>\n",
       "    </tr>\n",
       "    <tr>\n",
       "      <th>4</th>\n",
       "      <td>pokemon red/pokemon blue</td>\n",
       "      <td>gb</td>\n",
       "      <td>1996</td>\n",
       "      <td>role-playing</td>\n",
       "      <td>11.27</td>\n",
       "      <td>8.89</td>\n",
       "      <td>10.22</td>\n",
       "      <td>1.00</td>\n",
       "      <td>-77</td>\n",
       "      <td>-77</td>\n",
       "      <td>-77</td>\n",
       "      <td>31.38</td>\n",
       "    </tr>\n",
       "  </tbody>\n",
       "</table>\n",
       "</div>"
      ],
      "text/plain": [
       "                       name platform  year_of_release         genre  na_sales  \\\n",
       "0                wii sports      wii             2006        sports     41.36   \n",
       "1         super mario bros.      nes             1985      platform     29.08   \n",
       "2            mario kart wii      wii             2008        racing     15.68   \n",
       "3         wii sports resort      wii             2009        sports     15.61   \n",
       "4  pokemon red/pokemon blue       gb             1996  role-playing     11.27   \n",
       "\n",
       "   eu_sales  jp_sales  other_sales  critic_score  user_score rating  sales_sum  \n",
       "0     28.96      3.77         8.45            76          80      e      82.54  \n",
       "1      3.58      6.81         0.77           -77         -77    -77      40.24  \n",
       "2     12.76      3.79         3.29            82          83      e      35.52  \n",
       "3     10.93      3.28         2.95            80          80      e      32.77  \n",
       "4      8.89     10.22         1.00           -77         -77    -77      31.38  "
      ]
     },
     "metadata": {},
     "output_type": "display_data"
    }
   ],
   "source": [
    "df['sales_sum'] = df['na_sales'] + df['eu_sales'] + df['jp_sales'] + df['other_sales']\n",
    "display(df.head())"
   ]
  },
  {
   "cell_type": "code",
   "execution_count": 37,
   "metadata": {},
   "outputs": [
    {
     "name": "stdout",
     "output_type": "stream",
     "text": [
      "<class 'pandas.core.frame.DataFrame'>\n",
      "Int64Index: 16444 entries, 0 to 16714\n",
      "Data columns (total 12 columns):\n",
      " #   Column           Non-Null Count  Dtype  \n",
      "---  ------           --------------  -----  \n",
      " 0   name             16444 non-null  object \n",
      " 1   platform         16444 non-null  object \n",
      " 2   year_of_release  16444 non-null  int64  \n",
      " 3   genre            16444 non-null  object \n",
      " 4   na_sales         16444 non-null  float64\n",
      " 5   eu_sales         16444 non-null  float64\n",
      " 6   jp_sales         16444 non-null  float64\n",
      " 7   other_sales      16444 non-null  float64\n",
      " 8   critic_score     16444 non-null  int64  \n",
      " 9   user_score       16444 non-null  int64  \n",
      " 10  rating           16444 non-null  object \n",
      " 11  sales_sum        16444 non-null  float64\n",
      "dtypes: float64(5), int64(3), object(4)\n",
      "memory usage: 1.6+ MB\n"
     ]
    }
   ],
   "source": [
    "df.info()"
   ]
  },
  {
   "cell_type": "markdown",
   "metadata": {},
   "source": [
    "No gaps left"
   ]
  },
  {
   "cell_type": "markdown",
   "metadata": {},
   "source": [
    "## 3. Data analysis"
   ]
  },
  {
   "cell_type": "markdown",
   "metadata": {},
   "source": [
    "### 3.1 Let's see how many games were released by year"
   ]
  },
  {
   "cell_type": "code",
   "execution_count": 38,
   "metadata": {},
   "outputs": [],
   "source": [
    "def decade(row):\n",
    "    year = row['year_of_release']\n",
    "    if year <= 1989:\n",
    "        return '80-e'\n",
    "    if year <= 1999:\n",
    "        return '90-e'\n",
    "    if year <= 2009:\n",
    "        return '00-e'\n",
    "    if year <= 2019:\n",
    "        return '10-e'\n",
    "    \n",
    "df['decade'] = df.apply(decade, axis = 1)"
   ]
  },
  {
   "cell_type": "code",
   "execution_count": 39,
   "metadata": {},
   "outputs": [
    {
     "data": {
      "text/plain": [
       "00-e    9193\n",
       "10-e    5277\n",
       "90-e    1769\n",
       "80-e     205\n",
       "Name: decade, dtype: int64"
      ]
     },
     "execution_count": 39,
     "metadata": {},
     "output_type": "execute_result"
    }
   ],
   "source": [
    "df['decade'].value_counts()"
   ]
  },
  {
   "cell_type": "markdown",
   "metadata": {},
   "source": [
    "The most games were released between 2000 and 2010. Twice as many games were released in the next decade, but it is limited to 2016, perhaps by the end of the decade with this trend has overtaken. Although, due to increased development costs, this figure may not have increased much. The number of games released in the eighties equaled about 2% of the games released in the noughties\n",
    "\n",
    "Let's look at a line graph by year."
   ]
  },
  {
   "cell_type": "code",
   "execution_count": 40,
   "metadata": {},
   "outputs": [
    {
     "data": {
      "text/plain": [
       "Text(0, 0.5, 'Sales of games, millions')"
      ]
     },
     "execution_count": 40,
     "metadata": {},
     "output_type": "execute_result"
    },
    {
     "data": {
      "image/png": "[encoded data removed]",
      "text/plain": [
       "<Figure size 1152x504 with 1 Axes>"
      ]
     },
     "metadata": {},
     "output_type": "display_data"
    }
   ],
   "source": [
    "df.pivot_table(index='year_of_release',values='sales_sum',aggfunc='sum').plot(grid=True)\n",
    "plt.title('Game sales on all platforms')\n",
    "plt.xlabel('Year of release')\n",
    "plt.ylabel('Sales of games, millions')"
   ]
  },
  {
   "cell_type": "markdown",
   "metadata": {},
   "source": [
    "Game sales were roughly flat for 15 years from 1980 to 1995, after which there was a boom that lasted until 2008 and a subsequent decline - which may have been due to the global crisis"
   ]
  },
  {
   "cell_type": "markdown",
   "metadata": {},
   "source": [
    "### 3.2 Let's look at sales by platform"
   ]
  },
  {
   "cell_type": "markdown",
   "metadata": {},
   "source": [
    "A quick look at the best-selling consoles in history"
   ]
  },
  {
   "cell_type": "code",
   "execution_count": 41,
   "metadata": {},
   "outputs": [
    {
     "data": {
      "text/html": [
       "<div>\n",
       "<style scoped>\n",
       "    .dataframe tbody tr th:only-of-type {\n",
       "        vertical-align: middle;\n",
       "    }\n",
       "\n",
       "    .dataframe tbody tr th {\n",
       "        vertical-align: top;\n",
       "    }\n",
       "\n",
       "    .dataframe thead th {\n",
       "        text-align: right;\n",
       "    }\n",
       "</style>\n",
       "<table border=\"1\" class=\"dataframe\">\n",
       "  <thead>\n",
       "    <tr style=\"text-align: right;\">\n",
       "      <th></th>\n",
       "      <th>sales_sum</th>\n",
       "    </tr>\n",
       "    <tr>\n",
       "      <th>platform</th>\n",
       "      <th></th>\n",
       "    </tr>\n",
       "  </thead>\n",
       "  <tbody>\n",
       "    <tr>\n",
       "      <th>ps2</th>\n",
       "      <td>1233.56</td>\n",
       "    </tr>\n",
       "    <tr>\n",
       "      <th>x360</th>\n",
       "      <td>961.24</td>\n",
       "    </tr>\n",
       "    <tr>\n",
       "      <th>ps3</th>\n",
       "      <td>931.34</td>\n",
       "    </tr>\n",
       "    <tr>\n",
       "      <th>wii</th>\n",
       "      <td>891.18</td>\n",
       "    </tr>\n",
       "    <tr>\n",
       "      <th>ds</th>\n",
       "      <td>802.78</td>\n",
       "    </tr>\n",
       "    <tr>\n",
       "      <th>ps</th>\n",
       "      <td>727.58</td>\n",
       "    </tr>\n",
       "    <tr>\n",
       "      <th>ps4</th>\n",
       "      <td>314.14</td>\n",
       "    </tr>\n",
       "    <tr>\n",
       "      <th>gba</th>\n",
       "      <td>312.88</td>\n",
       "    </tr>\n",
       "    <tr>\n",
       "      <th>psp</th>\n",
       "      <td>289.53</td>\n",
       "    </tr>\n",
       "    <tr>\n",
       "      <th>3ds</th>\n",
       "      <td>257.81</td>\n",
       "    </tr>\n",
       "    <tr>\n",
       "      <th>pc</th>\n",
       "      <td>255.76</td>\n",
       "    </tr>\n",
       "    <tr>\n",
       "      <th>gb</th>\n",
       "      <td>254.43</td>\n",
       "    </tr>\n",
       "    <tr>\n",
       "      <th>xb</th>\n",
       "      <td>251.57</td>\n",
       "    </tr>\n",
       "    <tr>\n",
       "      <th>nes</th>\n",
       "      <td>251.05</td>\n",
       "    </tr>\n",
       "    <tr>\n",
       "      <th>n64</th>\n",
       "      <td>218.01</td>\n",
       "    </tr>\n",
       "    <tr>\n",
       "      <th>snes</th>\n",
       "      <td>200.04</td>\n",
       "    </tr>\n",
       "    <tr>\n",
       "      <th>gc</th>\n",
       "      <td>196.73</td>\n",
       "    </tr>\n",
       "    <tr>\n",
       "      <th>xone</th>\n",
       "      <td>159.32</td>\n",
       "    </tr>\n",
       "    <tr>\n",
       "      <th>2600</th>\n",
       "      <td>86.48</td>\n",
       "    </tr>\n",
       "    <tr>\n",
       "      <th>wiiu</th>\n",
       "      <td>82.19</td>\n",
       "    </tr>\n",
       "    <tr>\n",
       "      <th>psv</th>\n",
       "      <td>53.81</td>\n",
       "    </tr>\n",
       "    <tr>\n",
       "      <th>sat</th>\n",
       "      <td>33.59</td>\n",
       "    </tr>\n",
       "    <tr>\n",
       "      <th>gen</th>\n",
       "      <td>28.35</td>\n",
       "    </tr>\n",
       "    <tr>\n",
       "      <th>dc</th>\n",
       "      <td>15.95</td>\n",
       "    </tr>\n",
       "    <tr>\n",
       "      <th>scd</th>\n",
       "      <td>1.86</td>\n",
       "    </tr>\n",
       "    <tr>\n",
       "      <th>ng</th>\n",
       "      <td>1.44</td>\n",
       "    </tr>\n",
       "    <tr>\n",
       "      <th>ws</th>\n",
       "      <td>1.42</td>\n",
       "    </tr>\n",
       "    <tr>\n",
       "      <th>tg16</th>\n",
       "      <td>0.16</td>\n",
       "    </tr>\n",
       "    <tr>\n",
       "      <th>3do</th>\n",
       "      <td>0.10</td>\n",
       "    </tr>\n",
       "    <tr>\n",
       "      <th>gg</th>\n",
       "      <td>0.04</td>\n",
       "    </tr>\n",
       "    <tr>\n",
       "      <th>pcfx</th>\n",
       "      <td>0.03</td>\n",
       "    </tr>\n",
       "  </tbody>\n",
       "</table>\n",
       "</div>"
      ],
      "text/plain": [
       "          sales_sum\n",
       "platform           \n",
       "ps2         1233.56\n",
       "x360         961.24\n",
       "ps3          931.34\n",
       "wii          891.18\n",
       "ds           802.78\n",
       "ps           727.58\n",
       "ps4          314.14\n",
       "gba          312.88\n",
       "psp          289.53\n",
       "3ds          257.81\n",
       "pc           255.76\n",
       "gb           254.43\n",
       "xb           251.57\n",
       "nes          251.05\n",
       "n64          218.01\n",
       "snes         200.04\n",
       "gc           196.73\n",
       "xone         159.32\n",
       "2600          86.48\n",
       "wiiu          82.19\n",
       "psv           53.81\n",
       "sat           33.59\n",
       "gen           28.35\n",
       "dc            15.95\n",
       "scd            1.86\n",
       "ng             1.44\n",
       "ws             1.42\n",
       "tg16           0.16\n",
       "3do            0.10\n",
       "gg             0.04\n",
       "pcfx           0.03"
      ]
     },
     "execution_count": 41,
     "metadata": {},
     "output_type": "execute_result"
    }
   ],
   "source": [
    "df.pivot_table(index = 'platform', values = 'sales_sum', aggfunc = 'sum').sort_values(by = 'sales_sum', ascending = False)"
   ]
  },
  {
   "cell_type": "markdown",
   "metadata": {},
   "source": [
    "Most of all sold copies of games on PS2, which is logical, because it is the best-selling game console in history. Now let's look at the sales of the top platforms by year, sales are dropping sharply starting with PS4, and we'll cut it off"
   ]
  },
  {
   "cell_type": "code",
   "execution_count": 42,
   "metadata": {},
   "outputs": [],
   "source": [
    "platform_filtered = ['ps2', 'x360', 'ps3', 'wii', 'ds', 'ps'] #creating a list with the top sales platforms\n",
    " \n",
    "df_top = df.query('platform in @platform_filtered and year_of_release >= 1990').pivot_table(index='year_of_release',columns='platform',values='sales_sum',aggfunc='sum')"
   ]
  },
  {
   "cell_type": "code",
   "execution_count": 43,
   "metadata": {},
   "outputs": [
    {
     "data": {
      "text/plain": [
       "Text(0, 0.5, 'Sales of games, millions')"
      ]
     },
     "execution_count": 43,
     "metadata": {},
     "output_type": "execute_result"
    },
    {
     "data": {
      "image/png": "[encoded data removed]",
      "text/plain": [
       "<Figure size 1152x504 with 1 Axes>"
      ]
     },
     "metadata": {},
     "output_type": "display_data"
    }
   ],
   "source": [
    "df_top.plot(grid=True)\n",
    "plt.gca().xaxis.set_major_locator(mticker.MultipleLocator(1))\n",
    "plt.title('Game sales on top platforms')\n",
    "plt.xlabel('Year of release')\n",
    "plt.ylabel('Sales of games, millions')"
   ]
  },
  {
   "cell_type": "markdown",
   "metadata": {},
   "source": [
    "Judging by the schedule, the life of the platform is about 7-10 years. During this time, the console has time to gain the peak of popularity and retire. I will calculate exactly, let's see what value we get"
   ]
  },
  {
   "cell_type": "code",
   "execution_count": 44,
   "metadata": {},
   "outputs": [
    {
     "data": {
      "text/html": [
       "<div>\n",
       "<style scoped>\n",
       "    .dataframe tbody tr th:only-of-type {\n",
       "        vertical-align: middle;\n",
       "    }\n",
       "\n",
       "    .dataframe tbody tr th {\n",
       "        vertical-align: top;\n",
       "    }\n",
       "\n",
       "    .dataframe thead tr th {\n",
       "        text-align: left;\n",
       "    }\n",
       "\n",
       "    .dataframe thead tr:last-of-type th {\n",
       "        text-align: right;\n",
       "    }\n",
       "</style>\n",
       "<table border=\"1\" class=\"dataframe\">\n",
       "  <thead>\n",
       "    <tr>\n",
       "      <th></th>\n",
       "      <th>max</th>\n",
       "      <th>min</th>\n",
       "    </tr>\n",
       "    <tr>\n",
       "      <th></th>\n",
       "      <th>year_of_release</th>\n",
       "      <th>year_of_release</th>\n",
       "    </tr>\n",
       "    <tr>\n",
       "      <th>platform</th>\n",
       "      <th></th>\n",
       "      <th></th>\n",
       "    </tr>\n",
       "  </thead>\n",
       "  <tbody>\n",
       "    <tr>\n",
       "      <th>ds</th>\n",
       "      <td>2013</td>\n",
       "      <td>2004</td>\n",
       "    </tr>\n",
       "    <tr>\n",
       "      <th>ps</th>\n",
       "      <td>2003</td>\n",
       "      <td>1994</td>\n",
       "    </tr>\n",
       "    <tr>\n",
       "      <th>ps2</th>\n",
       "      <td>2011</td>\n",
       "      <td>2000</td>\n",
       "    </tr>\n",
       "  </tbody>\n",
       "</table>\n",
       "</div>"
      ],
      "text/plain": [
       "                     max             min\n",
       "         year_of_release year_of_release\n",
       "platform                                \n",
       "ds                  2013            2004\n",
       "ps                  2003            1994\n",
       "ps2                 2011            2000"
      ]
     },
     "metadata": {},
     "output_type": "display_data"
    }
   ],
   "source": [
    "life_cycle = df.query('platform in [\"ps\",\"ps2\",\"ds\"] and year_of_release >= 1990').pivot_table(index = 'platform', values = 'year_of_release', aggfunc = ['max', 'min'])\n",
    "display(life_cycle)"
   ]
  },
  {
   "cell_type": "markdown",
   "metadata": {},
   "source": [
    "The average life expectancy of outdated consoles is 10 years"
   ]
  },
  {
   "cell_type": "markdown",
   "metadata": {},
   "source": [
    "### 3.3 Let's look at the same data, but for the current time period"
   ]
  },
  {
   "cell_type": "markdown",
   "metadata": {},
   "source": [
    "For further analysis I will take the data for the period from 2013, as we need to predict for 2017 and beyond, plus in 2013 is the sunset of consoles of the old generation. "
   ]
  },
  {
   "cell_type": "code",
   "execution_count": 45,
   "metadata": {},
   "outputs": [],
   "source": [
    "df_new = df.query('year_of_release >= 2013')"
   ]
  },
  {
   "cell_type": "code",
   "execution_count": 46,
   "metadata": {},
   "outputs": [
    {
     "data": {
      "text/html": [
       "<div>\n",
       "<style scoped>\n",
       "    .dataframe tbody tr th:only-of-type {\n",
       "        vertical-align: middle;\n",
       "    }\n",
       "\n",
       "    .dataframe tbody tr th {\n",
       "        vertical-align: top;\n",
       "    }\n",
       "\n",
       "    .dataframe thead th {\n",
       "        text-align: right;\n",
       "    }\n",
       "</style>\n",
       "<table border=\"1\" class=\"dataframe\">\n",
       "  <thead>\n",
       "    <tr style=\"text-align: right;\">\n",
       "      <th></th>\n",
       "      <th>sales_sum</th>\n",
       "    </tr>\n",
       "    <tr>\n",
       "      <th>platform</th>\n",
       "      <th></th>\n",
       "    </tr>\n",
       "  </thead>\n",
       "  <tbody>\n",
       "    <tr>\n",
       "      <th>ps4</th>\n",
       "      <td>314.14</td>\n",
       "    </tr>\n",
       "    <tr>\n",
       "      <th>ps3</th>\n",
       "      <td>181.43</td>\n",
       "    </tr>\n",
       "    <tr>\n",
       "      <th>xone</th>\n",
       "      <td>159.32</td>\n",
       "    </tr>\n",
       "    <tr>\n",
       "      <th>3ds</th>\n",
       "      <td>143.25</td>\n",
       "    </tr>\n",
       "    <tr>\n",
       "      <th>x360</th>\n",
       "      <td>136.80</td>\n",
       "    </tr>\n",
       "    <tr>\n",
       "      <th>wiiu</th>\n",
       "      <td>64.63</td>\n",
       "    </tr>\n",
       "    <tr>\n",
       "      <th>pc</th>\n",
       "      <td>39.43</td>\n",
       "    </tr>\n",
       "    <tr>\n",
       "      <th>psv</th>\n",
       "      <td>32.99</td>\n",
       "    </tr>\n",
       "    <tr>\n",
       "      <th>wii</th>\n",
       "      <td>13.66</td>\n",
       "    </tr>\n",
       "    <tr>\n",
       "      <th>psp</th>\n",
       "      <td>3.50</td>\n",
       "    </tr>\n",
       "    <tr>\n",
       "      <th>ds</th>\n",
       "      <td>1.54</td>\n",
       "    </tr>\n",
       "  </tbody>\n",
       "</table>\n",
       "</div>"
      ],
      "text/plain": [
       "          sales_sum\n",
       "platform           \n",
       "ps4          314.14\n",
       "ps3          181.43\n",
       "xone         159.32\n",
       "3ds          143.25\n",
       "x360         136.80\n",
       "wiiu          64.63\n",
       "pc            39.43\n",
       "psv           32.99\n",
       "wii           13.66\n",
       "psp            3.50\n",
       "ds             1.54"
      ]
     },
     "execution_count": 46,
     "metadata": {},
     "output_type": "execute_result"
    }
   ],
   "source": [
    "df_new.pivot_table(index = 'platform', values = 'sales_sum', aggfunc = 'sum').sort_values(by = 'sales_sum', ascending = False)"
   ]
  },
  {
   "cell_type": "markdown",
   "metadata": {},
   "source": [
    "According to the new data, we can see that the new generation consoles (PS4, XBOXone, 3DS and WiiU) are breaking into the leaders, while the sales of the \"old\" consoles are starting to fall\n",
    "\n",
    "Next, I'll visually analyze game sales by console using the \"mustache box\""
   ]
  },
  {
   "cell_type": "code",
   "execution_count": 47,
   "metadata": {},
   "outputs": [
    {
     "data": {
      "text/plain": [
       "Text(0, 0.5, 'Number of games sold, million')"
      ]
     },
     "execution_count": 47,
     "metadata": {},
     "output_type": "execute_result"
    },
    {
     "data": {
      "image/png": "[encoded data removed]",
      "text/plain": [
       "<Figure size 1152x504 with 1 Axes>"
      ]
     },
     "metadata": {},
     "output_type": "display_data"
    }
   ],
   "source": [
    "df_new.boxplot('sales_sum', by='platform').set_ylim(0, 5)\n",
    "plt.title('Game sales on top platforms')\n",
    "plt.xlabel('Gaming platforms')\n",
    "plt.ylabel('Number of games sold, million')"
   ]
  },
  {
   "cell_type": "markdown",
   "metadata": {},
   "source": [
    "The results within whiskers speak of the masses of games selling on consoles. And the outliers talk about blockbusters selling in huge numbers. There are quite a few on the PS4, since it is a console with exclusive content. It is noticeable that the PSP and PSVita are niche consoles, living out their time, as is the DS. Nintendo's Wii and WiiU platforms hardly attract any blockbusters, while their 3DS console has a huge number of them."
   ]
  },
  {
   "cell_type": "markdown",
   "metadata": {},
   "source": [
    "### 3.4 I'll look at the correlation between reviews and sales for the most promising console"
   ]
  },
  {
   "cell_type": "code",
   "execution_count": 48,
   "metadata": {},
   "outputs": [
    {
     "name": "stderr",
     "output_type": "stream",
     "text": [
      "*c* argument looks like a single numeric RGB or RGBA sequence, which should be avoided as value-mapping will have precedence in case its length matches with *x* & *y*.  Please use the *color* keyword-argument or provide a 2D array with a single row if you intend to specify the same RGB or RGBA value for all points.\n"
     ]
    },
    {
     "data": {
      "image/png": "[encoded data removed]",
      "text/plain": [
       "<Figure size 1152x504 with 1 Axes>"
      ]
     },
     "metadata": {},
     "output_type": "display_data"
    }
   ],
   "source": [
    "sorted_sum_df = df_new.sort_values('sales_sum')\n",
    "sorted_sum_df.query('(platform == \"ps4\") & (critic_score > 0)').plot(x='critic_score', y='sales_sum', kind='scatter', title='Relation between sales and critics score (PS4)', xlim=(0,100), ylim=(0, 70), grid=True)\n",
    "\n",
    "z = np.polyfit(sorted_sum_df['sales_sum'], sorted_sum_df['critic_score'], 2)\n",
    "p = np.poly1d(z)\n",
    "plt.plot(sorted_sum_df['critic_score'].sort_values(), p(sorted_sum_df['critic_score'].sort_values()) ,\"r--\")\n",
    "plt.xlabel('Critics score')\n",
    "plt.ylabel('Number of games sold, million')\n",
    "plt.show()"
   ]
  },
  {
   "cell_type": "markdown",
   "metadata": {},
   "source": [
    "Most of the games sold limited editions, which makes sense. That said, it is noticeable that the blockbusters with huge sales received the highest score. Starting with a score of 25, game sales began to increase proportionately "
   ]
  },
  {
   "cell_type": "code",
   "execution_count": 49,
   "metadata": {},
   "outputs": [
    {
     "name": "stderr",
     "output_type": "stream",
     "text": [
      "*c* argument looks like a single numeric RGB or RGBA sequence, which should be avoided as value-mapping will have precedence in case its length matches with *x* & *y*.  Please use the *color* keyword-argument or provide a 2D array with a single row if you intend to specify the same RGB or RGBA value for all points.\n"
     ]
    },
    {
     "data": {
      "text/plain": [
       "Text(0, 0.5, 'Number of games sold, million')"
      ]
     },
     "execution_count": 49,
     "metadata": {},
     "output_type": "execute_result"
    },
    {
     "data": {
      "image/png": "[encoded data removed]",
      "text/plain": [
       "<Figure size 1152x504 with 1 Axes>"
      ]
     },
     "metadata": {},
     "output_type": "display_data"
    }
   ],
   "source": [
    "sorted_sum_df.query('(platform == \"ps4\") & (user_score != -77) & (user_score != -10)').plot(x='user_score', y='sales_sum', kind='scatter', title='Relation between sales and player scores (PS4)', xlim=(0,100), ylim=(0, 90), grid=True)\n",
    "\n",
    "z = np.polyfit(sorted_sum_df['sales_sum'], sorted_sum_df['user_score'], 2)\n",
    "p = np.poly1d(z)\n",
    "plt.plot(sorted_sum_df['user_score'].sort_values(), p(sorted_sum_df['user_score'].sort_values()) ,\"r--\")\n",
    "plt.xlabel('Users score')\n",
    "plt.ylabel('Number of games sold, million')"
   ]
  },
  {
   "cell_type": "markdown",
   "metadata": {},
   "source": [
    "The best games on this console are sold in the average rating (4-5.5), as well as in the highest rating. Some kind of pattern is not clearly observed, apparently games are bought here not because of player ratings"
   ]
  },
  {
   "cell_type": "code",
   "execution_count": 50,
   "metadata": {},
   "outputs": [
    {
     "data": {
      "text/plain": [
       "Text(0, 0.5, 'Number of games sold, million')"
      ]
     },
     "execution_count": 50,
     "metadata": {},
     "output_type": "execute_result"
    },
    {
     "data": {
      "image/png": "[encoded data removed]",
      "text/plain": [
       "<Figure size 1152x504 with 1 Axes>"
      ]
     },
     "metadata": {},
     "output_type": "display_data"
    }
   ],
   "source": [
    "(sorted_sum_df.query('(platform == \"ps4\") & (rating != -77)').pivot_table(index='rating', values='sales_sum', aggfunc='median').sort_values(by='sales_sum', ascending=False)\n",
    "    .plot(kind = 'bar', grid=True))\n",
    "plt.title('Relation between sales and rating (age category)')\n",
    "plt.xlabel('Rating')\n",
    "plt.ylabel('Number of games sold, million')"
   ]
  },
  {
   "cell_type": "markdown",
   "metadata": {},
   "source": [
    "Most games are sold with a rating of Mature (blockbusters often with this rating), then go games for the whole family"
   ]
  },
  {
   "cell_type": "code",
   "execution_count": 51,
   "metadata": {},
   "outputs": [
    {
     "name": "stdout",
     "output_type": "stream",
     "text": [
      "Correlation of sales and critical reviews for PS4 games: 0.4058948014583661\n",
      "Correlation of sales and player reviews for PS4 games: -0.03362497596528883\n"
     ]
    },
    {
     "name": "stderr",
     "output_type": "stream",
     "text": [
      "/Users/yusuf/opt/anaconda3/envs/praktikum_env_macos2/lib/python3.7/site-packages/ipykernel_launcher.py:1: SettingWithCopyWarning: \n",
      "A value is trying to be set on a copy of a slice from a DataFrame.\n",
      "Try using .loc[row_indexer,col_indexer] = value instead\n",
      "\n",
      "See the caveats in the documentation: https://pandas.pydata.org/pandas-docs/stable/user_guide/indexing.html#returning-a-view-versus-a-copy\n",
      "  \"\"\"Entry point for launching an IPython kernel.\n"
     ]
    }
   ],
   "source": [
    "df_new['user_score'] = df_new['user_score'].astype(float)\n",
    "df_top = df_new.query('(critic_score > 0) & (user_score > 0)')\n",
    "\n",
    "print('Correlation of sales and critical reviews for PS4 games:', \n",
    "      (df_top.loc[df_top['platform'] == 'ps4']['critic_score']).corr(df_top.loc[df_top['platform'] == 'ps4']['sales_sum']))\n",
    "print('Correlation of sales and player reviews for PS4 games:', \n",
    "      (df_top.loc[df_top['platform'] == 'ps4']['user_score']).corr(df_top.loc[df_top['platform'] == 'ps4']['sales_sum']))"
   ]
  },
  {
   "cell_type": "markdown",
   "metadata": {},
   "source": [
    "Judging from the results, critics' reviews have a greater influence on sales than from players' reviews, which do not have any influence at all. Nevertheless, the coefficient of determination is quite low (less than 50%), which indicates a weak relationship"
   ]
  },
  {
   "cell_type": "markdown",
   "metadata": {},
   "source": [
    "### 3.5 I'll look at the correlation between reviews and sales for current consoles"
   ]
  },
  {
   "cell_type": "code",
   "execution_count": 52,
   "metadata": {},
   "outputs": [
    {
     "name": "stderr",
     "output_type": "stream",
     "text": [
      "*c* argument looks like a single numeric RGB or RGBA sequence, which should be avoided as value-mapping will have precedence in case its length matches with *x* & *y*.  Please use the *color* keyword-argument or provide a 2D array with a single row if you intend to specify the same RGB or RGBA value for all points.\n"
     ]
    },
    {
     "data": {
      "image/png": "[encoded data removed]",
      "text/plain": [
       "<Figure size 1152x504 with 1 Axes>"
      ]
     },
     "metadata": {},
     "output_type": "display_data"
    }
   ],
   "source": [
    "sorted_sum_df = df_new.sort_values('sales_sum')\n",
    "sorted_sum_df.query('critic_score > 0').plot(x='critic_score', y='sales_sum', kind='scatter', title='The relation between sales and critical score', xlim=(0,100), ylim=(0, 70), grid=True)\n",
    "\n",
    "z = np.polyfit(sorted_sum_df['sales_sum'], sorted_sum_df['critic_score'], 2)\n",
    "p = np.poly1d(z)\n",
    "plt.plot(sorted_sum_df['critic_score'].sort_values(), p(sorted_sum_df['critic_score'].sort_values()) ,\"r--\")\n",
    "plt.xlabel('Number of games sold, million')\n",
    "plt.ylabel('Critics score')\n",
    "plt.show()"
   ]
  },
  {
   "cell_type": "markdown",
   "metadata": {},
   "source": [
    "Indicators are similar to the leader console, only some blockbusters stand out, apparently the authorship of other platforms"
   ]
  },
  {
   "cell_type": "code",
   "execution_count": 53,
   "metadata": {},
   "outputs": [
    {
     "name": "stderr",
     "output_type": "stream",
     "text": [
      "*c* argument looks like a single numeric RGB or RGBA sequence, which should be avoided as value-mapping will have precedence in case its length matches with *x* & *y*.  Please use the *color* keyword-argument or provide a 2D array with a single row if you intend to specify the same RGB or RGBA value for all points.\n"
     ]
    },
    {
     "data": {
      "text/plain": [
       "Text(0, 0.5, 'Number of games sold, million')"
      ]
     },
     "execution_count": 53,
     "metadata": {},
     "output_type": "execute_result"
    },
    {
     "data": {
      "image/png": "[encoded data removed]",
      "text/plain": [
       "<Figure size 1152x504 with 1 Axes>"
      ]
     },
     "metadata": {},
     "output_type": "display_data"
    }
   ],
   "source": [
    "sorted_sum_df.query('(user_score != -77) & (user_score != -10)').plot(x='user_score', y='sales_sum', kind='scatter', title='Relationship between sales and players score', xlim=(0, 100), ylim=(0, 30), grid=True)\n",
    "\n",
    "z = np.polyfit(sorted_sum_df['user_score'], sorted_sum_df['sales_sum'], 2)\n",
    "p = np.poly1d(z)\n",
    "plt.plot(sorted_sum_df['user_score'].sort_values(), p(sorted_sum_df['user_score'].sort_values()) ,\"r--\")\n",
    "plt.xlabel('Players score')\n",
    "plt.ylabel('Number of games sold, million')"
   ]
  },
  {
   "cell_type": "markdown",
   "metadata": {},
   "source": [
    "There is an anomalous jump at a rating of 2.5. Then the games are sold evenly, and again the jump is around 9. Perhaps it is individual blockbusters that stand out from the rest. In general, it seems that the players' score does not affect the sales of games"
   ]
  },
  {
   "cell_type": "code",
   "execution_count": 54,
   "metadata": {},
   "outputs": [
    {
     "data": {
      "text/plain": [
       "Text(0, 0.5, 'Number of games sold, million')"
      ]
     },
     "execution_count": 54,
     "metadata": {},
     "output_type": "execute_result"
    },
    {
     "data": {
      "image/png": "[encoded data removed]",
      "text/plain": [
       "<Figure size 1152x504 with 1 Axes>"
      ]
     },
     "metadata": {},
     "output_type": "display_data"
    }
   ],
   "source": [
    "(sorted_sum_df.query('rating != -77').pivot_table(index='rating', values='sales_sum', aggfunc='median').sort_values(by='sales_sum', ascending=False)\n",
    "    .plot(kind = 'bar', grid=True))\n",
    "plt.title('Relation between sales and rating (age category)')\n",
    "plt.xlabel('Rating')\n",
    "plt.ylabel('Number of games sold, million')"
   ]
  },
  {
   "cell_type": "markdown",
   "metadata": {},
   "source": [
    "Most games are sold with a rating of M, then E10+, then E and T. That is, oddly enough, the best-selling games with a rating of 17+, the so-called blockbusters. Next comes the rating - for all from 10 - these are family games. Marker -77 shows that games with indefinite age restriction is very little\n",
    "\n",
    "\n",
    "I'll calculate the correlation:"
   ]
  },
  {
   "cell_type": "code",
   "execution_count": 55,
   "metadata": {},
   "outputs": [
    {
     "name": "stdout",
     "output_type": "stream",
     "text": [
      "Correlation of sales and critical scores for PS3 games: 0.33380663565061736\n",
      "Correlation of sales and players scores for PS3 games: 0.02269094327112421\n",
      "Correlation of sales and critical scores for XBOXOne games: 0.4104220356129637\n",
      "Correlation of sales and players scores for XBOXOne games: -0.09400318326920858\n",
      "Correlation of sales and critical scores for 3DS games: 0.33923492878531475\n",
      "Correlation of sales and players scores for 3DS games: 0.2729904366942444\n",
      "Correlation of sales and critical scores for XBOX360 games: 0.3503445460228666\n",
      "Correlation of sales and players scores for XBOX360 games: -0.0062381795323062416\n",
      "Correlation of sales and critical scores for WiiU games: 0.3795044989978414\n",
      "Correlation of sales and players scores for WiiU games: 0.4086917438492651\n",
      "Correlation of sales and critical scores for PC games: 0.19412407903472956\n",
      "Correlation of sales and players scores for PC games: -0.10923502736171778\n",
      "Correlation of sales and critical scores for PSVita games: 0.25409970218640765\n",
      "Correlation of sales and players scores for PSVita games: 0.26547827205094254\n",
      "Correlation of sales and critical scores for Wii games: nan\n",
      "Correlation of sales and players scores for Wii games: nan\n",
      "Correlation of sales and critical scores for PSP games: nan\n",
      "Correlation of sales and players scores for PSP games: nan\n",
      "Correlation of sales and critical scores for DS games: nan\n",
      "Correlation of sales and players scores for DS games: nan\n"
     ]
    },
    {
     "name": "stderr",
     "output_type": "stream",
     "text": [
      "/Users/yusuf/opt/anaconda3/envs/praktikum_env_macos2/lib/python3.7/site-packages/numpy/lib/function_base.py:2526: RuntimeWarning: Degrees of freedom <= 0 for slice\n",
      "  c = cov(x, y, rowvar)\n",
      "/Users/yusuf/opt/anaconda3/envs/praktikum_env_macos2/lib/python3.7/site-packages/numpy/lib/function_base.py:2455: RuntimeWarning: divide by zero encountered in true_divide\n",
      "  c *= np.true_divide(1, fact)\n"
     ]
    }
   ],
   "source": [
    "print('Correlation of sales and critical scores for PS3 games:', \n",
    "      (df_top.loc[df_top['platform'] == 'ps3']['critic_score']).corr(df_top.loc[df_top['platform'] == 'ps3']['sales_sum']))\n",
    "print('Correlation of sales and players scores for PS3 games:', \n",
    "      (df_top.loc[df_top['platform'] == 'ps3']['user_score']).corr(df_top.loc[df_top['platform'] == 'ps3']['sales_sum']))\n",
    "\n",
    "print('Correlation of sales and critical scores for XBOXOne games:', \n",
    "      (df_top.loc[df_top['platform'] == 'xone']['critic_score']).corr(df_top.loc[df_top['platform'] == 'xone']['sales_sum']))\n",
    "print('Correlation of sales and players scores for XBOXOne games:', \n",
    "      (df_top.loc[df_top['platform'] == 'xone']['user_score']).corr(df_top.loc[df_top['platform'] == 'xone']['sales_sum']))\n",
    "\n",
    "print('Correlation of sales and critical scores for 3DS games:', \n",
    "      (df_top.loc[df_top['platform'] == '3ds']['critic_score']).corr(df_top.loc[df_top['platform'] == '3ds']['sales_sum']))\n",
    "print('Correlation of sales and players scores for 3DS games:', \n",
    "      (df_top.loc[df_top['platform'] == '3ds']['user_score']).corr(df_top.loc[df_top['platform'] == '3ds']['sales_sum']))\n",
    "\n",
    "print('Correlation of sales and critical scores for XBOX360 games:', \n",
    "      (df_top.loc[df_top['platform'] == 'x360']['critic_score']).corr(df_top.loc[df_top['platform'] == 'x360']['sales_sum']))\n",
    "print('Correlation of sales and players scores for XBOX360 games:', \n",
    "      (df_top.loc[df_top['platform'] == 'x360']['user_score']).corr(df_top.loc[df_top['platform'] == 'x360']['sales_sum']))\n",
    "\n",
    "print('Correlation of sales and critical scores for WiiU games:', \n",
    "      (df_top.loc[df_top['platform'] == 'wiiu']['critic_score']).corr(df_top.loc[df_top['platform'] == 'wiiu']['sales_sum']))\n",
    "print('Correlation of sales and players scores for WiiU games:', \n",
    "      (df_top.loc[df_top['platform'] == 'wiiu']['user_score']).corr(df_top.loc[df_top['platform'] == 'wiiu']['sales_sum']))\n",
    "\n",
    "print('Correlation of sales and critical scores for PC games:', \n",
    "      (df_top.loc[df_top['platform'] == 'pc']['critic_score']).corr(df_top.loc[df_top['platform'] == 'pc']['sales_sum']))\n",
    "print('Correlation of sales and players scores for PC games:', \n",
    "      (df_top.loc[df_top['platform'] == 'pc']['user_score']).corr(df_top.loc[df_top['platform'] == 'pc']['sales_sum']))\n",
    "\n",
    "print('Correlation of sales and critical scores for PSVita games:', \n",
    "      (df_top.loc[df_top['platform'] == 'psv']['critic_score']).corr(df_top.loc[df_top['platform'] == 'psv']['sales_sum']))\n",
    "print('Correlation of sales and players scores for PSVita games:', \n",
    "      (df_top.loc[df_top['platform'] == 'psv']['user_score']).corr(df_top.loc[df_top['platform'] == 'psv']['sales_sum']))\n",
    "\n",
    "print('Correlation of sales and critical scores for Wii games:', \n",
    "      (df_top.loc[df_top['platform'] == 'wii']['critic_score']).corr(df_top.loc[df_top['platform'] == 'wii']['sales_sum']))\n",
    "print('Correlation of sales and players scores for Wii games:', \n",
    "      (df_top.loc[df_top['platform'] == 'wii']['user_score']).corr(df_top.loc[df_top['platform'] == 'wii']['sales_sum']))\n",
    "\n",
    "print('Correlation of sales and critical scores for PSP games:', \n",
    "      (df_top.loc[df_top['platform'] == 'psp']['critic_score']).corr(df_top.loc[df_top['platform'] == 'psp']['sales_sum']))\n",
    "print('Correlation of sales and players scores for PSP games:', \n",
    "      (df_top.loc[df_top['platform'] == 'psp']['user_score']).corr(df_top.loc[df_top['platform'] == 'psp']['sales_sum']))\n",
    "\n",
    "print('Correlation of sales and critical scores for DS games:', \n",
    "      (df_top.loc[df_top['platform'] == 'DS']['critic_score']).corr(df_top.loc[df_top['platform'] == 'ds']['sales_sum']))\n",
    "print('Correlation of sales and players scores for DS games:', \n",
    "      (df_top.loc[df_top['platform'] == 'DS']['user_score']).corr(df_top.loc[df_top['platform'] == 'ds']['sales_sum']))\n"
   ]
  },
  {
   "cell_type": "markdown",
   "metadata": {},
   "source": [
    "With the change of generations, critics' reviews have become more influential on game sales - the correlation coefficient between PS4 and PS3 differs by 0.07. At the same time, consoles from Microsoft and Sony have about the same correlation with critics' reviews. \n",
    " \n",
    " But player reviews many where (XboxOne, Xbox360, PC) have a correlation either close to zero or slightly negative. This suggests that buyers of games of these consoles do not look at the evaluations of other players, but read the press, before choosing a new game. At \n",
    "At the same time PC users are not interested in critics' reviews as well.\n",
    " \n",
    " Interestingly, the users of some consoles (PSVita, 3DS, WiiU) - look equally at the ratings of both critics and players before buying games."
   ]
  },
  {
   "cell_type": "markdown",
   "metadata": {},
   "source": [
    "### 3.6 Sales analysis by genre"
   ]
  },
  {
   "cell_type": "code",
   "execution_count": 56,
   "metadata": {},
   "outputs": [
    {
     "data": {
      "text/plain": [
       "Text(0, 0.5, 'Number of games sold, million')"
      ]
     },
     "execution_count": 56,
     "metadata": {},
     "output_type": "execute_result"
    },
    {
     "data": {
      "image/png": "[encoded data removed]",
      "text/plain": [
       "<Figure size 1152x504 with 1 Axes>"
      ]
     },
     "metadata": {},
     "output_type": "display_data"
    }
   ],
   "source": [
    "(sorted_sum_df.pivot_table(index='genre', values='sales_sum', aggfunc='median').sort_values(by='sales_sum', ascending=False)\n",
    "    .plot(kind = 'bar', grid=True))\n",
    "plt.title('Relation between sales and game genre')\n",
    "plt.xlabel('Genre')\n",
    "plt.ylabel('Number of games sold, million')"
   ]
  },
  {
   "cell_type": "markdown",
   "metadata": {},
   "source": [
    "Best sell shooters (simple shooters), they often belong to the blockbusters, then comes the genre of sports, so popular among not big fans of video games, but with great pleasure playing soccer in the company of friends. Next comes the genre of platformers - games of this genre are often family"
   ]
  },
  {
   "cell_type": "markdown",
   "metadata": {},
   "source": [
    "## 4. Portrait of users by region"
   ]
  },
  {
   "cell_type": "markdown",
   "metadata": {},
   "source": [
    "### 4.1 The most popular consoles"
   ]
  },
  {
   "cell_type": "code",
   "execution_count": 57,
   "metadata": {},
   "outputs": [
    {
     "data": {
      "text/html": [
       "<div>\n",
       "<style scoped>\n",
       "    .dataframe tbody tr th:only-of-type {\n",
       "        vertical-align: middle;\n",
       "    }\n",
       "\n",
       "    .dataframe tbody tr th {\n",
       "        vertical-align: top;\n",
       "    }\n",
       "\n",
       "    .dataframe thead th {\n",
       "        text-align: right;\n",
       "    }\n",
       "</style>\n",
       "<table border=\"1\" class=\"dataframe\">\n",
       "  <thead>\n",
       "    <tr style=\"text-align: right;\">\n",
       "      <th></th>\n",
       "      <th>na_sales</th>\n",
       "    </tr>\n",
       "    <tr>\n",
       "      <th>platform</th>\n",
       "      <th></th>\n",
       "    </tr>\n",
       "  </thead>\n",
       "  <tbody>\n",
       "    <tr>\n",
       "      <th>ps4</th>\n",
       "      <td>108.74</td>\n",
       "    </tr>\n",
       "    <tr>\n",
       "      <th>xone</th>\n",
       "      <td>93.12</td>\n",
       "    </tr>\n",
       "    <tr>\n",
       "      <th>x360</th>\n",
       "      <td>81.66</td>\n",
       "    </tr>\n",
       "    <tr>\n",
       "      <th>ps3</th>\n",
       "      <td>63.50</td>\n",
       "    </tr>\n",
       "    <tr>\n",
       "      <th>3ds</th>\n",
       "      <td>38.20</td>\n",
       "    </tr>\n",
       "    <tr>\n",
       "      <th>wiiu</th>\n",
       "      <td>29.21</td>\n",
       "    </tr>\n",
       "    <tr>\n",
       "      <th>pc</th>\n",
       "      <td>11.11</td>\n",
       "    </tr>\n",
       "    <tr>\n",
       "      <th>wii</th>\n",
       "      <td>6.56</td>\n",
       "    </tr>\n",
       "    <tr>\n",
       "      <th>psv</th>\n",
       "      <td>5.04</td>\n",
       "    </tr>\n",
       "    <tr>\n",
       "      <th>ds</th>\n",
       "      <td>0.57</td>\n",
       "    </tr>\n",
       "    <tr>\n",
       "      <th>psp</th>\n",
       "      <td>0.00</td>\n",
       "    </tr>\n",
       "  </tbody>\n",
       "</table>\n",
       "</div>"
      ],
      "text/plain": [
       "          na_sales\n",
       "platform          \n",
       "ps4         108.74\n",
       "xone         93.12\n",
       "x360         81.66\n",
       "ps3          63.50\n",
       "3ds          38.20\n",
       "wiiu         29.21\n",
       "pc           11.11\n",
       "wii           6.56\n",
       "psv           5.04\n",
       "ds            0.57\n",
       "psp           0.00"
      ]
     },
     "execution_count": 57,
     "metadata": {},
     "output_type": "execute_result"
    }
   ],
   "source": [
    "df_new.pivot_table(index = 'platform', values = 'na_sales', aggfunc = 'sum').sort_values(by = 'na_sales', ascending=False)"
   ]
  },
  {
   "cell_type": "markdown",
   "metadata": {},
   "source": [
    "The most popular platforms in North America are: PS4, XboxOne, Xbox360, PS3  и 3DS  "
   ]
  },
  {
   "cell_type": "code",
   "execution_count": 58,
   "metadata": {},
   "outputs": [
    {
     "data": {
      "image/png": "[encoded data removed]",
      "text/plain": [
       "<Figure size 1152x504 with 1 Axes>"
      ]
     },
     "metadata": {},
     "output_type": "display_data"
    }
   ],
   "source": [
    "na_filtered = ['ps4', 'xone', 'x360', 'ps3', '3ds'] #creating a list of the region's top platforms\n",
    " \n",
    "na_top = df_new.query('platform in @na_filtered')\n",
    "\n",
    "(na_top.groupby('platform')['na_sales'].agg('sum').sort_values(ascending=False)\n",
    " .plot(kind='pie', labels=None, label='', autopct='%1.0f%%', legend=True, \n",
    "       title='Customer breakdown by console (North America)', cmap='cool'))\n",
    "plt.show()"
   ]
  },
  {
   "cell_type": "code",
   "execution_count": 59,
   "metadata": {},
   "outputs": [
    {
     "data": {
      "text/html": [
       "<div>\n",
       "<style scoped>\n",
       "    .dataframe tbody tr th:only-of-type {\n",
       "        vertical-align: middle;\n",
       "    }\n",
       "\n",
       "    .dataframe tbody tr th {\n",
       "        vertical-align: top;\n",
       "    }\n",
       "\n",
       "    .dataframe thead th {\n",
       "        text-align: right;\n",
       "    }\n",
       "</style>\n",
       "<table border=\"1\" class=\"dataframe\">\n",
       "  <thead>\n",
       "    <tr style=\"text-align: right;\">\n",
       "      <th></th>\n",
       "      <th>jp_sales</th>\n",
       "    </tr>\n",
       "    <tr>\n",
       "      <th>platform</th>\n",
       "      <th></th>\n",
       "    </tr>\n",
       "  </thead>\n",
       "  <tbody>\n",
       "    <tr>\n",
       "      <th>3ds</th>\n",
       "      <td>67.81</td>\n",
       "    </tr>\n",
       "    <tr>\n",
       "      <th>ps3</th>\n",
       "      <td>23.35</td>\n",
       "    </tr>\n",
       "    <tr>\n",
       "      <th>psv</th>\n",
       "      <td>18.59</td>\n",
       "    </tr>\n",
       "    <tr>\n",
       "      <th>ps4</th>\n",
       "      <td>15.96</td>\n",
       "    </tr>\n",
       "    <tr>\n",
       "      <th>wiiu</th>\n",
       "      <td>10.88</td>\n",
       "    </tr>\n",
       "    <tr>\n",
       "      <th>psp</th>\n",
       "      <td>3.29</td>\n",
       "    </tr>\n",
       "    <tr>\n",
       "      <th>x360</th>\n",
       "      <td>0.51</td>\n",
       "    </tr>\n",
       "    <tr>\n",
       "      <th>xone</th>\n",
       "      <td>0.34</td>\n",
       "    </tr>\n",
       "    <tr>\n",
       "      <th>wii</th>\n",
       "      <td>0.05</td>\n",
       "    </tr>\n",
       "    <tr>\n",
       "      <th>ds</th>\n",
       "      <td>0.00</td>\n",
       "    </tr>\n",
       "    <tr>\n",
       "      <th>pc</th>\n",
       "      <td>0.00</td>\n",
       "    </tr>\n",
       "  </tbody>\n",
       "</table>\n",
       "</div>"
      ],
      "text/plain": [
       "          jp_sales\n",
       "platform          \n",
       "3ds          67.81\n",
       "ps3          23.35\n",
       "psv          18.59\n",
       "ps4          15.96\n",
       "wiiu         10.88\n",
       "psp           3.29\n",
       "x360          0.51\n",
       "xone          0.34\n",
       "wii           0.05\n",
       "ds            0.00\n",
       "pc            0.00"
      ]
     },
     "execution_count": 59,
     "metadata": {},
     "output_type": "execute_result"
    }
   ],
   "source": [
    "df_new.pivot_table(index = 'platform', values = 'jp_sales', aggfunc = 'sum').sort_values(by = 'jp_sales', ascending=False)"
   ]
  },
  {
   "cell_type": "markdown",
   "metadata": {},
   "source": [
    "Japan's most popular platforms are: 3DS, PS3, PSVita, PS4, and WiiU. Still, there they value handheld devices more than home devices.  "
   ]
  },
  {
   "cell_type": "code",
   "execution_count": 60,
   "metadata": {},
   "outputs": [
    {
     "data": {
      "image/png": "[encoded data removed]",
      "text/plain": [
       "<Figure size 1152x504 with 1 Axes>"
      ]
     },
     "metadata": {},
     "output_type": "display_data"
    }
   ],
   "source": [
    "jp_filtered = ['3ds', 'ps3', 'psv', 'ps4', 'wiiu'] #creating a list of the region's top platforms\n",
    " \n",
    "jp_top = df_new.query('platform in @jp_filtered')\n",
    "\n",
    "(jp_top.groupby('platform')['jp_sales'].agg('sum').sort_values(ascending=False)\n",
    " .plot(kind='pie', labels=None, label='', autopct='%1.0f%%', legend=True, \n",
    "       title='Customer breakdown by console (Japan)', cmap='cool'))\n",
    "plt.show()"
   ]
  },
  {
   "cell_type": "code",
   "execution_count": 61,
   "metadata": {},
   "outputs": [
    {
     "data": {
      "text/html": [
       "<div>\n",
       "<style scoped>\n",
       "    .dataframe tbody tr th:only-of-type {\n",
       "        vertical-align: middle;\n",
       "    }\n",
       "\n",
       "    .dataframe tbody tr th {\n",
       "        vertical-align: top;\n",
       "    }\n",
       "\n",
       "    .dataframe thead th {\n",
       "        text-align: right;\n",
       "    }\n",
       "</style>\n",
       "<table border=\"1\" class=\"dataframe\">\n",
       "  <thead>\n",
       "    <tr style=\"text-align: right;\">\n",
       "      <th></th>\n",
       "      <th>eu_sales</th>\n",
       "    </tr>\n",
       "    <tr>\n",
       "      <th>platform</th>\n",
       "      <th></th>\n",
       "    </tr>\n",
       "  </thead>\n",
       "  <tbody>\n",
       "    <tr>\n",
       "      <th>ps4</th>\n",
       "      <td>141.09</td>\n",
       "    </tr>\n",
       "    <tr>\n",
       "      <th>ps3</th>\n",
       "      <td>67.81</td>\n",
       "    </tr>\n",
       "    <tr>\n",
       "      <th>xone</th>\n",
       "      <td>51.59</td>\n",
       "    </tr>\n",
       "    <tr>\n",
       "      <th>x360</th>\n",
       "      <td>42.52</td>\n",
       "    </tr>\n",
       "    <tr>\n",
       "      <th>3ds</th>\n",
       "      <td>30.96</td>\n",
       "    </tr>\n",
       "    <tr>\n",
       "      <th>pc</th>\n",
       "      <td>25.36</td>\n",
       "    </tr>\n",
       "    <tr>\n",
       "      <th>wiiu</th>\n",
       "      <td>19.85</td>\n",
       "    </tr>\n",
       "    <tr>\n",
       "      <th>psv</th>\n",
       "      <td>6.10</td>\n",
       "    </tr>\n",
       "    <tr>\n",
       "      <th>wii</th>\n",
       "      <td>5.93</td>\n",
       "    </tr>\n",
       "    <tr>\n",
       "      <th>ds</th>\n",
       "      <td>0.85</td>\n",
       "    </tr>\n",
       "    <tr>\n",
       "      <th>psp</th>\n",
       "      <td>0.17</td>\n",
       "    </tr>\n",
       "  </tbody>\n",
       "</table>\n",
       "</div>"
      ],
      "text/plain": [
       "          eu_sales\n",
       "platform          \n",
       "ps4         141.09\n",
       "ps3          67.81\n",
       "xone         51.59\n",
       "x360         42.52\n",
       "3ds          30.96\n",
       "pc           25.36\n",
       "wiiu         19.85\n",
       "psv           6.10\n",
       "wii           5.93\n",
       "ds            0.85\n",
       "psp           0.17"
      ]
     },
     "execution_count": 61,
     "metadata": {},
     "output_type": "execute_result"
    }
   ],
   "source": [
    "df_new.pivot_table(index = 'platform', values = 'eu_sales', aggfunc = 'sum').sort_values(by = 'eu_sales', ascending=False)"
   ]
  },
  {
   "cell_type": "markdown",
   "metadata": {},
   "source": [
    "Самыми популярными платформами  Европы являются: PS4, PS3, XboxOne, Xbox360  и 3DS  "
   ]
  },
  {
   "cell_type": "code",
   "execution_count": 62,
   "metadata": {},
   "outputs": [
    {
     "data": {
      "image/png": "[encoded data removed]",
      "text/plain": [
       "<Figure size 1152x504 with 1 Axes>"
      ]
     },
     "metadata": {},
     "output_type": "display_data"
    }
   ],
   "source": [
    "eu_filtered = ['ps4', 'ps3', 'xone', 'x360', '3ds'] #creating a list of the region's top platforms\n",
    " \n",
    "eu_top = df_new.query('platform in @eu_filtered')\n",
    "\n",
    "(eu_top.groupby('platform')['eu_sales'].agg('sum').sort_values(ascending=False)\n",
    " .plot(kind='pie', labels=None, label='', autopct='%1.0f%%', legend=True, \n",
    "       title='Customer breakdown by console (Europe)', cmap='cool'))\n",
    "plt.show()"
   ]
  },
  {
   "cell_type": "markdown",
   "metadata": {},
   "source": [
    "### 4.2 The most popular genres"
   ]
  },
  {
   "cell_type": "code",
   "execution_count": 63,
   "metadata": {},
   "outputs": [
    {
     "data": {
      "text/plain": [
       "Text(0, 0.5, 'Number of games sold, million')"
      ]
     },
     "execution_count": 63,
     "metadata": {},
     "output_type": "execute_result"
    },
    {
     "data": {
      "image/png": "[encoded data removed]",
      "text/plain": [
       "<Figure size 1152x504 with 1 Axes>"
      ]
     },
     "metadata": {},
     "output_type": "display_data"
    }
   ],
   "source": [
    "(sorted_sum_df.pivot_table(index='genre', values='na_sales', aggfunc='median').sort_values(by='na_sales', ascending=False)\n",
    "    .plot(kind = 'bar', grid=True))\n",
    "plt.title('Relationship between sales and game genre (North America)')\n",
    "plt.xlabel('Genre')\n",
    "plt.ylabel('Number of games sold, million')"
   ]
  },
  {
   "cell_type": "code",
   "execution_count": 64,
   "metadata": {},
   "outputs": [
    {
     "data": {
      "text/html": [
       "<div>\n",
       "<style scoped>\n",
       "    .dataframe tbody tr th:only-of-type {\n",
       "        vertical-align: middle;\n",
       "    }\n",
       "\n",
       "    .dataframe tbody tr th {\n",
       "        vertical-align: top;\n",
       "    }\n",
       "\n",
       "    .dataframe thead th {\n",
       "        text-align: right;\n",
       "    }\n",
       "</style>\n",
       "<table border=\"1\" class=\"dataframe\">\n",
       "  <thead>\n",
       "    <tr style=\"text-align: right;\">\n",
       "      <th>genre</th>\n",
       "      <th>fighting</th>\n",
       "      <th>platform</th>\n",
       "      <th>racing</th>\n",
       "      <th>shooter</th>\n",
       "      <th>sports</th>\n",
       "    </tr>\n",
       "    <tr>\n",
       "      <th>year_of_release</th>\n",
       "      <th></th>\n",
       "      <th></th>\n",
       "      <th></th>\n",
       "      <th></th>\n",
       "      <th></th>\n",
       "    </tr>\n",
       "  </thead>\n",
       "  <tbody>\n",
       "    <tr>\n",
       "      <th>2013</th>\n",
       "      <td>3.12</td>\n",
       "      <td>11.35</td>\n",
       "      <td>4.22</td>\n",
       "      <td>30.72</td>\n",
       "      <td>19.14</td>\n",
       "    </tr>\n",
       "    <tr>\n",
       "      <th>2014</th>\n",
       "      <td>6.89</td>\n",
       "      <td>3.01</td>\n",
       "      <td>5.92</td>\n",
       "      <td>30.84</td>\n",
       "      <td>19.82</td>\n",
       "    </tr>\n",
       "    <tr>\n",
       "      <th>2015</th>\n",
       "      <td>3.70</td>\n",
       "      <td>2.49</td>\n",
       "      <td>2.09</td>\n",
       "      <td>31.94</td>\n",
       "      <td>18.77</td>\n",
       "    </tr>\n",
       "    <tr>\n",
       "      <th>2016</th>\n",
       "      <td>1.84</td>\n",
       "      <td>1.29</td>\n",
       "      <td>0.73</td>\n",
       "      <td>16.24</td>\n",
       "      <td>7.54</td>\n",
       "    </tr>\n",
       "  </tbody>\n",
       "</table>\n",
       "</div>"
      ],
      "text/plain": [
       "genre            fighting  platform  racing  shooter  sports\n",
       "year_of_release                                             \n",
       "2013                 3.12     11.35    4.22    30.72   19.14\n",
       "2014                 6.89      3.01    5.92    30.84   19.82\n",
       "2015                 3.70      2.49    2.09    31.94   18.77\n",
       "2016                 1.84      1.29    0.73    16.24    7.54"
      ]
     },
     "execution_count": 64,
     "metadata": {},
     "output_type": "execute_result"
    }
   ],
   "source": [
    "na_genre_filtered = ['shooter', 'platform', 'sports', 'fighting', 'racing'] #creating a list of top genres\n",
    " \n",
    "sorted_sum_df.query('genre in @na_genre_filtered').pivot_table(index='year_of_release',columns='genre',values='na_sales',aggfunc='sum')"
   ]
  },
  {
   "cell_type": "code",
   "execution_count": 65,
   "metadata": {},
   "outputs": [
    {
     "data": {
      "text/plain": [
       "Text(0, 0.5, 'Number of games sold, million')"
      ]
     },
     "execution_count": 65,
     "metadata": {},
     "output_type": "execute_result"
    },
    {
     "data": {
      "image/png": "[encoded data removed]",
      "text/plain": [
       "<Figure size 1152x504 with 1 Axes>"
      ]
     },
     "metadata": {},
     "output_type": "display_data"
    }
   ],
   "source": [
    "(sorted_sum_df.pivot_table(index='genre', values='jp_sales', aggfunc='median').sort_values(by='jp_sales', ascending=False)\n",
    "    .plot(kind = 'bar', grid=True))\n",
    "plt.title('Relation between sales and game genre (Japan)')\n",
    "plt.xlabel('Genre')\n",
    "plt.ylabel('Number of games sold, million')"
   ]
  },
  {
   "cell_type": "code",
   "execution_count": 66,
   "metadata": {},
   "outputs": [
    {
     "data": {
      "text/html": [
       "<div>\n",
       "<style scoped>\n",
       "    .dataframe tbody tr th:only-of-type {\n",
       "        vertical-align: middle;\n",
       "    }\n",
       "\n",
       "    .dataframe tbody tr th {\n",
       "        vertical-align: top;\n",
       "    }\n",
       "\n",
       "    .dataframe thead th {\n",
       "        text-align: right;\n",
       "    }\n",
       "</style>\n",
       "<table border=\"1\" class=\"dataframe\">\n",
       "  <thead>\n",
       "    <tr style=\"text-align: right;\">\n",
       "      <th>genre</th>\n",
       "      <th>action</th>\n",
       "      <th>fighting</th>\n",
       "      <th>misc</th>\n",
       "      <th>puzzle</th>\n",
       "      <th>role-playing</th>\n",
       "    </tr>\n",
       "    <tr>\n",
       "      <th>year_of_release</th>\n",
       "      <th></th>\n",
       "      <th></th>\n",
       "      <th></th>\n",
       "      <th></th>\n",
       "      <th></th>\n",
       "    </tr>\n",
       "  </thead>\n",
       "  <tbody>\n",
       "    <tr>\n",
       "      <th>2013</th>\n",
       "      <td>10.91</td>\n",
       "      <td>1.28</td>\n",
       "      <td>3.59</td>\n",
       "      <td>0.25</td>\n",
       "      <td>19.88</td>\n",
       "    </tr>\n",
       "    <tr>\n",
       "      <th>2014</th>\n",
       "      <td>6.53</td>\n",
       "      <td>4.83</td>\n",
       "      <td>2.42</td>\n",
       "      <td>0.41</td>\n",
       "      <td>17.75</td>\n",
       "    </tr>\n",
       "    <tr>\n",
       "      <th>2015</th>\n",
       "      <td>15.98</td>\n",
       "      <td>0.79</td>\n",
       "      <td>2.15</td>\n",
       "      <td>0.52</td>\n",
       "      <td>6.80</td>\n",
       "    </tr>\n",
       "    <tr>\n",
       "      <th>2016</th>\n",
       "      <td>7.07</td>\n",
       "      <td>0.75</td>\n",
       "      <td>1.04</td>\n",
       "      <td>0.00</td>\n",
       "      <td>6.61</td>\n",
       "    </tr>\n",
       "  </tbody>\n",
       "</table>\n",
       "</div>"
      ],
      "text/plain": [
       "genre            action  fighting  misc  puzzle  role-playing\n",
       "year_of_release                                              \n",
       "2013              10.91      1.28  3.59    0.25         19.88\n",
       "2014               6.53      4.83  2.42    0.41         17.75\n",
       "2015              15.98      0.79  2.15    0.52          6.80\n",
       "2016               7.07      0.75  1.04    0.00          6.61"
      ]
     },
     "execution_count": 66,
     "metadata": {},
     "output_type": "execute_result"
    }
   ],
   "source": [
    "jp_genre_filtered = ['role-playing', 'fighting', 'misc', 'puzzle', 'action'] #creating a list of top genres\n",
    " \n",
    "sorted_sum_df.query('genre in @jp_genre_filtered').pivot_table(index='year_of_release',columns='genre',values='jp_sales',aggfunc='sum')"
   ]
  },
  {
   "cell_type": "code",
   "execution_count": 67,
   "metadata": {},
   "outputs": [
    {
     "data": {
      "text/plain": [
       "Text(0, 0.5, 'Number of games sold, million')"
      ]
     },
     "execution_count": 67,
     "metadata": {},
     "output_type": "execute_result"
    },
    {
     "data": {
      "image/png": "[encoded data removed]",
      "text/plain": [
       "<Figure size 1152x504 with 1 Axes>"
      ]
     },
     "metadata": {},
     "output_type": "display_data"
    }
   ],
   "source": [
    "(sorted_sum_df.pivot_table(index='genre', values='eu_sales', aggfunc='median').sort_values(by='eu_sales', ascending=False)\n",
    "    .plot(kind = 'bar', grid=True))\n",
    "plt.title('Relation between sales and game genre (Europe)')\n",
    "plt.xlabel('Genre')\n",
    "plt.ylabel('Number of games sold, million')"
   ]
  },
  {
   "cell_type": "code",
   "execution_count": 68,
   "metadata": {},
   "outputs": [
    {
     "data": {
      "text/html": [
       "<div>\n",
       "<style scoped>\n",
       "    .dataframe tbody tr th:only-of-type {\n",
       "        vertical-align: middle;\n",
       "    }\n",
       "\n",
       "    .dataframe tbody tr th {\n",
       "        vertical-align: top;\n",
       "    }\n",
       "\n",
       "    .dataframe thead th {\n",
       "        text-align: right;\n",
       "    }\n",
       "</style>\n",
       "<table border=\"1\" class=\"dataframe\">\n",
       "  <thead>\n",
       "    <tr style=\"text-align: right;\">\n",
       "      <th>genre</th>\n",
       "      <th>platform</th>\n",
       "      <th>racing</th>\n",
       "      <th>shooter</th>\n",
       "      <th>simulation</th>\n",
       "      <th>sports</th>\n",
       "    </tr>\n",
       "    <tr>\n",
       "      <th>year_of_release</th>\n",
       "      <th></th>\n",
       "      <th></th>\n",
       "      <th></th>\n",
       "      <th></th>\n",
       "      <th></th>\n",
       "    </tr>\n",
       "  </thead>\n",
       "  <tbody>\n",
       "    <tr>\n",
       "      <th>2013</th>\n",
       "      <td>11.35</td>\n",
       "      <td>4.22</td>\n",
       "      <td>30.72</td>\n",
       "      <td>2.23</td>\n",
       "      <td>19.14</td>\n",
       "    </tr>\n",
       "    <tr>\n",
       "      <th>2014</th>\n",
       "      <td>3.01</td>\n",
       "      <td>5.92</td>\n",
       "      <td>30.84</td>\n",
       "      <td>1.27</td>\n",
       "      <td>19.82</td>\n",
       "    </tr>\n",
       "    <tr>\n",
       "      <th>2015</th>\n",
       "      <td>2.49</td>\n",
       "      <td>2.09</td>\n",
       "      <td>31.94</td>\n",
       "      <td>1.20</td>\n",
       "      <td>18.77</td>\n",
       "    </tr>\n",
       "    <tr>\n",
       "      <th>2016</th>\n",
       "      <td>1.29</td>\n",
       "      <td>0.73</td>\n",
       "      <td>16.24</td>\n",
       "      <td>0.16</td>\n",
       "      <td>7.54</td>\n",
       "    </tr>\n",
       "  </tbody>\n",
       "</table>\n",
       "</div>"
      ],
      "text/plain": [
       "genre            platform  racing  shooter  simulation  sports\n",
       "year_of_release                                               \n",
       "2013                11.35    4.22    30.72        2.23   19.14\n",
       "2014                 3.01    5.92    30.84        1.27   19.82\n",
       "2015                 2.49    2.09    31.94        1.20   18.77\n",
       "2016                 1.29    0.73    16.24        0.16    7.54"
      ]
     },
     "execution_count": 68,
     "metadata": {},
     "output_type": "execute_result"
    }
   ],
   "source": [
    "eu_genre_filtered = ['shooter', 'platform', 'racing', 'sports', 'simulation'] #creating a list of top genres\n",
    " \n",
    "sorted_sum_df.query('genre in @eu_genre_filtered').pivot_table(index='year_of_release',columns='genre',values='na_sales',aggfunc='sum')"
   ]
  },
  {
   "cell_type": "markdown",
   "metadata": {},
   "source": [
    "In Europe and the states, the same genre preference is for shooters and platformers, while in Japan the preference is between racing and shooters and fighting games, which are so popular due to the popularity of arcade games"
   ]
  },
  {
   "cell_type": "markdown",
   "metadata": {},
   "source": [
    "### 4.3 Impact of age restrictions"
   ]
  },
  {
   "cell_type": "code",
   "execution_count": 69,
   "metadata": {},
   "outputs": [
    {
     "data": {
      "text/plain": [
       "Text(0, 0.5, 'Number of games sold, million')"
      ]
     },
     "execution_count": 69,
     "metadata": {},
     "output_type": "execute_result"
    },
    {
     "data": {
      "image/png": "[encoded data removed]",
      "text/plain": [
       "<Figure size 1152x504 with 1 Axes>"
      ]
     },
     "metadata": {},
     "output_type": "display_data"
    }
   ],
   "source": [
    "(sorted_sum_df.query('rating != -77').pivot_table(index='rating', values='na_sales', aggfunc='sum').sort_values(by='na_sales', ascending=False)\n",
    "    .plot(kind = 'bar', grid=True))\n",
    "plt.title('Relationship between sales and rating (North America)')\n",
    "plt.xlabel('Rating')\n",
    "plt.ylabel('Number of games sold, million')"
   ]
  },
  {
   "cell_type": "code",
   "execution_count": 70,
   "metadata": {},
   "outputs": [
    {
     "data": {
      "text/plain": [
       "Text(0, 0.5, 'Number of games sold, million')"
      ]
     },
     "execution_count": 70,
     "metadata": {},
     "output_type": "execute_result"
    },
    {
     "data": {
      "image/png": "[encoded data removed]",
      "text/plain": [
       "<Figure size 1152x504 with 1 Axes>"
      ]
     },
     "metadata": {},
     "output_type": "display_data"
    }
   ],
   "source": [
    "(sorted_sum_df.query('rating != -77').pivot_table(index='rating', values='jp_sales', aggfunc='sum').sort_values(by='jp_sales', ascending=False)\n",
    "    .plot(kind = 'bar', grid=True))\n",
    "plt.title('Relationship between sales and rating (Japan)')\n",
    "plt.xlabel('Rating')\n",
    "plt.ylabel('Number of games sold, million')"
   ]
  },
  {
   "cell_type": "code",
   "execution_count": 71,
   "metadata": {},
   "outputs": [
    {
     "data": {
      "text/plain": [
       "Text(0, 0.5, 'Number of games sold, million')"
      ]
     },
     "execution_count": 71,
     "metadata": {},
     "output_type": "execute_result"
    },
    {
     "data": {
      "image/png": "[encoded data removed]",
      "text/plain": [
       "<Figure size 1152x504 with 1 Axes>"
      ]
     },
     "metadata": {},
     "output_type": "display_data"
    }
   ],
   "source": [
    "(sorted_sum_df.query('rating != -77').pivot_table(index='rating', values='eu_sales', aggfunc='sum').sort_values(by='eu_sales', ascending=False)\n",
    "    .plot(kind = 'bar', grid=True))\n",
    "plt.title('Relationship between sales and rating (Europe)')\n",
    "plt.xlabel('Rating')\n",
    "plt.ylabel('Number of games sold, million')"
   ]
  },
  {
   "cell_type": "code",
   "execution_count": 72,
   "metadata": {},
   "outputs": [
    {
     "data": {
      "text/html": [
       "<div>\n",
       "<style scoped>\n",
       "    .dataframe tbody tr th:only-of-type {\n",
       "        vertical-align: middle;\n",
       "    }\n",
       "\n",
       "    .dataframe tbody tr th {\n",
       "        vertical-align: top;\n",
       "    }\n",
       "\n",
       "    .dataframe thead th {\n",
       "        text-align: right;\n",
       "    }\n",
       "</style>\n",
       "<table border=\"1\" class=\"dataframe\">\n",
       "  <thead>\n",
       "    <tr style=\"text-align: right;\">\n",
       "      <th></th>\n",
       "      <th>eu_sales</th>\n",
       "      <th>jp_sales</th>\n",
       "      <th>na_sales</th>\n",
       "    </tr>\n",
       "    <tr>\n",
       "      <th>rating</th>\n",
       "      <th></th>\n",
       "      <th></th>\n",
       "      <th></th>\n",
       "    </tr>\n",
       "  </thead>\n",
       "  <tbody>\n",
       "    <tr>\n",
       "      <th>e</th>\n",
       "      <td>83.36</td>\n",
       "      <td>15.14</td>\n",
       "      <td>79.05</td>\n",
       "    </tr>\n",
       "    <tr>\n",
       "      <th>e10+</th>\n",
       "      <td>42.69</td>\n",
       "      <td>5.89</td>\n",
       "      <td>54.24</td>\n",
       "    </tr>\n",
       "    <tr>\n",
       "      <th>m</th>\n",
       "      <td>145.32</td>\n",
       "      <td>14.11</td>\n",
       "      <td>165.21</td>\n",
       "    </tr>\n",
       "    <tr>\n",
       "      <th>t</th>\n",
       "      <td>41.95</td>\n",
       "      <td>20.59</td>\n",
       "      <td>49.79</td>\n",
       "    </tr>\n",
       "  </tbody>\n",
       "</table>\n",
       "</div>"
      ],
      "text/plain": [
       "        eu_sales  jp_sales  na_sales\n",
       "rating                              \n",
       "e          83.36     15.14     79.05\n",
       "e10+       42.69      5.89     54.24\n",
       "m         145.32     14.11    165.21\n",
       "t          41.95     20.59     49.79"
      ]
     },
     "execution_count": 72,
     "metadata": {},
     "output_type": "execute_result"
    }
   ],
   "source": [
    "sorted_sum_df.query('rating != -77').pivot_table(index='rating', values=['eu_sales', 'jp_sales', 'na_sales'], aggfunc='sum')"
   ]
  },
  {
   "cell_type": "markdown",
   "metadata": {},
   "source": [
    "Again, in Europe and the states, games rated for adults and family 10+ are the most played, while in Japan, games for teens 13+ are more appreciated"
   ]
  },
  {
   "cell_type": "markdown",
   "metadata": {},
   "source": [
    "## 5. Hypothesis testing"
   ]
  },
  {
   "cell_type": "markdown",
   "metadata": {},
   "source": [
    "First I will test the hypothesis that the average user ratings of XboxOne and PC platforms are the same\n",
    "\n",
    "H0: Average user ratings for XboxOne equals average user ratings for PC\n",
    "\n",
    "H1: Average XboxOne user ratings do not equal average PC user ratings"
   ]
  },
  {
   "cell_type": "code",
   "execution_count": 73,
   "metadata": {},
   "outputs": [
    {
     "name": "stdout",
     "output_type": "stream",
     "text": [
      "XboxOne average rating:  65.21428571428571\n",
      "PC average rating:  62.696774193548386\n",
      "p-meaning: 0.14012658403611722\n",
      "It was not possible to reject the null hypothesis\n"
     ]
    }
   ],
   "source": [
    "xone_user_rate = df_new.query('platform == \"xone\" and user_score > 0')['user_score']\n",
    "pc_user_rate = df_new.query('platform == \"pc\" and user_score > 0')['user_score']\n",
    "\n",
    "print('XboxOne average rating: ', xone_user_rate.mean())\n",
    "print('PC average rating: ', pc_user_rate.mean())\n",
    "\n",
    "alpha = 0.05 #I take the five percent significance level\n",
    "\n",
    "results = st.ttest_ind(xone_user_rate, pc_user_rate, equal_var = True) \n",
    "\n",
    "print('p-meaning:', results.pvalue) \n",
    "\n",
    "if results.pvalue < alpha:\n",
    "    print(\"Rejecting the null hypothesis\")\n",
    "else:\n",
    "    print(\"It was not possible to reject the null hypothesis\")"
   ]
  },
  {
   "cell_type": "markdown",
   "metadata": {},
   "source": [
    "The null hypothesis of equal ratings from XboxOne and PC users is confirmed at the five percent level. \n",
    "\n",
    "Or in other words: the average rating values from XboxOne and PC users are equal with 95% probability."
   ]
  },
  {
   "cell_type": "markdown",
   "metadata": {},
   "source": [
    "Next, I will test the hypothesis that the average user ratings for the Action and Sports genres are different.\n",
    "\n",
    "H0: Average user ratings of Action genre is equal to average user ratings of Sports genre\n",
    "\n",
    "H1: Average user ratings of Action genre is not equal to average user ratings of Sports genre"
   ]
  },
  {
   "cell_type": "code",
   "execution_count": 74,
   "metadata": {},
   "outputs": [
    {
     "name": "stdout",
     "output_type": "stream",
     "text": [
      "Average rating of Action games :  68.37532133676092\n",
      "Average rating of Sports games :  52.38125\n",
      "p-meaning: 1.0517832389140778e-27\n",
      "Rejecting the null hypothesis\n"
     ]
    }
   ],
   "source": [
    "action_user_rate = df_new.query('genre == \"action\" and user_score > 0')['user_score']\n",
    "sports_user_rate = df_new.query('genre == \"sports\" and user_score > 0')['user_score']\n",
    "\n",
    "print('Average rating of Action games : ', action_user_rate.mean())\n",
    "print('Average rating of Sports games : ', sports_user_rate.mean())\n",
    "\n",
    "alpha = 0.05 #I take the five percent significance level\n",
    "\n",
    "results = st.ttest_ind(action_user_rate, sports_user_rate, equal_var = True) \n",
    "\n",
    "print('p-meaning:', results.pvalue) \n",
    "\n",
    "if results.pvalue < alpha:\n",
    "    print(\"Rejecting the null hypothesis\")\n",
    "else:\n",
    "    print(\"It was not possible to reject the null hypothesis\")"
   ]
  },
  {
   "cell_type": "markdown",
   "metadata": {},
   "source": [
    "The null hypothesis of equal ratings from Action and Sports users is rejected at the 5% level. \n",
    "\n",
    "Or in other words: the average ratings from Action and Sports users are not equal with 95% probability."
   ]
  },
  {
   "cell_type": "markdown",
   "metadata": {},
   "source": [
    "## 6. Conclusion"
   ]
  },
  {
   "cell_type": "markdown",
   "metadata": {},
   "source": [
    "**Main conclusions:**\n",
    "- 1) Observing the history of gaming consoles from the outside, you can pay attention to their life cycles, which last about a decade. Legitimately consoles of the old generation are replaced by new consoles, after all, users are important computing power - graphics and features.\n",
    "- 2) We can say that the most popular genres in the gaming industry as a whole are shooters and sports, with Japan stands out from the rest, there are also very fighters, it has a portable console in the leaders, probably because in small Japan, each resident has a small amount of square meters of living space, due to this a lot of people at home to play the console is not going.\n",
    "- 3) Surprisingly, but on large American-European consoles people almost do not follow user ratings when buying new games, they are much more important the opinion of the professional press."
   ]
  },
  {
   "cell_type": "code",
   "execution_count": null,
   "metadata": {},
   "outputs": [],
   "source": []
  }
 ],
 "metadata": {
  "ExecuteTimeLog": [
   {
    "duration": 2709,
    "start_time": "2021-07-08T07:31:48.656Z"
   },
   {
    "duration": 61,
    "start_time": "2021-07-08T07:32:09.197Z"
   },
   {
    "duration": 14,
    "start_time": "2021-07-08T07:35:33.146Z"
   },
   {
    "duration": 6,
    "start_time": "2021-07-08T07:52:30.806Z"
   },
   {
    "duration": 17,
    "start_time": "2021-07-08T07:52:44.558Z"
   },
   {
    "duration": 11,
    "start_time": "2021-07-08T07:55:09.570Z"
   },
   {
    "duration": 12,
    "start_time": "2021-07-08T07:55:17.880Z"
   },
   {
    "duration": 53,
    "start_time": "2021-07-08T07:55:28.939Z"
   },
   {
    "duration": 11,
    "start_time": "2021-07-08T07:55:32.310Z"
   },
   {
    "duration": 264,
    "start_time": "2021-07-08T07:55:34.980Z"
   },
   {
    "duration": 609,
    "start_time": "2021-07-08T08:00:23.162Z"
   },
   {
    "duration": 1476,
    "start_time": "2021-07-08T08:00:29.399Z"
   },
   {
    "duration": 441,
    "start_time": "2021-07-08T08:00:46.242Z"
   },
   {
    "duration": 346,
    "start_time": "2021-07-08T08:05:07.180Z"
   },
   {
    "duration": 566,
    "start_time": "2021-07-08T08:05:59.584Z"
   },
   {
    "duration": 575,
    "start_time": "2021-07-09T12:05:50.587Z"
   },
   {
    "duration": 11,
    "start_time": "2021-07-09T12:06:58.280Z"
   },
   {
    "duration": 3,
    "start_time": "2021-07-09T12:07:01.077Z"
   },
   {
    "duration": 6,
    "start_time": "2021-07-09T12:08:36.915Z"
   },
   {
    "duration": 113,
    "start_time": "2021-07-09T12:08:54.312Z"
   },
   {
    "duration": 316,
    "start_time": "2021-07-09T12:09:01.257Z"
   },
   {
    "duration": 7,
    "start_time": "2021-07-09T12:09:54.705Z"
   },
   {
    "duration": 7,
    "start_time": "2021-07-09T12:10:28.714Z"
   },
   {
    "duration": 277,
    "start_time": "2021-07-09T12:10:32.992Z"
   },
   {
    "duration": 10,
    "start_time": "2021-07-09T12:11:51.757Z"
   },
   {
    "duration": 4,
    "start_time": "2021-07-09T12:12:01.590Z"
   },
   {
    "duration": 12,
    "start_time": "2021-07-09T12:12:06.647Z"
   },
   {
    "duration": 18,
    "start_time": "2021-07-09T12:16:40.102Z"
   },
   {
    "duration": 10,
    "start_time": "2021-07-09T12:18:52.774Z"
   },
   {
    "duration": 5,
    "start_time": "2021-07-09T12:21:40.549Z"
   },
   {
    "duration": 168,
    "start_time": "2021-07-09T12:26:20.052Z"
   },
   {
    "duration": 12,
    "start_time": "2021-07-09T12:26:35.188Z"
   },
   {
    "duration": 8,
    "start_time": "2021-07-09T12:27:13.338Z"
   },
   {
    "duration": 7,
    "start_time": "2021-07-09T12:28:31.760Z"
   },
   {
    "duration": 8,
    "start_time": "2021-07-09T12:28:47.151Z"
   },
   {
    "duration": 15,
    "start_time": "2021-07-09T12:40:18.105Z"
   },
   {
    "duration": 13,
    "start_time": "2021-07-09T12:42:36.469Z"
   },
   {
    "duration": 262,
    "start_time": "2021-07-09T12:48:53.066Z"
   },
   {
    "duration": 14,
    "start_time": "2021-07-09T12:49:07.697Z"
   },
   {
    "duration": 13,
    "start_time": "2021-07-09T12:52:31.898Z"
   },
   {
    "duration": 18,
    "start_time": "2021-07-09T12:55:15.401Z"
   },
   {
    "duration": 13,
    "start_time": "2021-07-09T13:01:18.034Z"
   },
   {
    "duration": 6,
    "start_time": "2021-07-09T13:01:22.663Z"
   },
   {
    "duration": 17,
    "start_time": "2021-07-09T13:01:23.090Z"
   },
   {
    "duration": 19,
    "start_time": "2021-07-09T13:02:00.556Z"
   },
   {
    "duration": 6,
    "start_time": "2021-07-09T13:02:00.900Z"
   },
   {
    "duration": 18,
    "start_time": "2021-07-09T13:02:01.087Z"
   },
   {
    "duration": 13,
    "start_time": "2021-07-09T13:02:03.442Z"
   },
   {
    "duration": 11,
    "start_time": "2021-07-09T13:02:07.916Z"
   },
   {
    "duration": 161,
    "start_time": "2021-07-09T13:02:16.563Z"
   },
   {
    "duration": 6,
    "start_time": "2021-07-09T13:02:17.711Z"
   },
   {
    "duration": 13,
    "start_time": "2021-07-09T13:02:21.521Z"
   },
   {
    "duration": 257,
    "start_time": "2021-07-09T13:02:58.173Z"
   },
   {
    "duration": 281,
    "start_time": "2021-07-09T13:03:14.401Z"
   },
   {
    "duration": 18,
    "start_time": "2021-07-09T13:03:40.120Z"
   },
   {
    "duration": 17,
    "start_time": "2021-07-09T13:03:58.551Z"
   },
   {
    "duration": 55,
    "start_time": "2021-07-09T13:04:40.702Z"
   },
   {
    "duration": 11,
    "start_time": "2021-07-09T13:04:45.924Z"
   },
   {
    "duration": 20,
    "start_time": "2021-07-09T13:04:46.702Z"
   },
   {
    "duration": 6,
    "start_time": "2021-07-09T13:04:46.860Z"
   },
   {
    "duration": 17,
    "start_time": "2021-07-09T13:04:47.168Z"
   },
   {
    "duration": 13,
    "start_time": "2021-07-09T13:04:47.503Z"
   },
   {
    "duration": 9,
    "start_time": "2021-07-09T13:04:47.652Z"
   },
   {
    "duration": 166,
    "start_time": "2021-07-09T13:04:49.680Z"
   },
   {
    "duration": 6,
    "start_time": "2021-07-09T13:04:49.847Z"
   },
   {
    "duration": 16,
    "start_time": "2021-07-09T13:04:50.786Z"
   },
   {
    "duration": 19,
    "start_time": "2021-07-09T13:04:53.101Z"
   },
   {
    "duration": 19,
    "start_time": "2021-07-09T13:04:53.254Z"
   },
   {
    "duration": 2469,
    "start_time": "2021-07-09T13:25:28.472Z"
   },
   {
    "duration": 18,
    "start_time": "2021-07-09T13:26:59.599Z"
   },
   {
    "duration": 425,
    "start_time": "2021-07-09T13:27:02.609Z"
   },
   {
    "duration": 20,
    "start_time": "2021-07-09T13:27:39.120Z"
   },
   {
    "duration": 2537,
    "start_time": "2021-07-09T13:27:39.726Z"
   },
   {
    "duration": 55,
    "start_time": "2021-07-09T13:29:27.794Z"
   },
   {
    "duration": 4,
    "start_time": "2021-07-10T16:14:32.788Z"
   },
   {
    "duration": 1099,
    "start_time": "2021-07-10T16:17:53.729Z"
   },
   {
    "duration": 18,
    "start_time": "2021-07-10T16:17:57.699Z"
   },
   {
    "duration": 30,
    "start_time": "2021-07-10T16:18:00.124Z"
   },
   {
    "duration": 11,
    "start_time": "2021-07-10T16:18:00.304Z"
   },
   {
    "duration": 29,
    "start_time": "2021-07-10T16:18:00.469Z"
   },
   {
    "duration": 40,
    "start_time": "2021-07-10T16:18:01.404Z"
   },
   {
    "duration": 23,
    "start_time": "2021-07-10T16:18:02.757Z"
   },
   {
    "duration": 339,
    "start_time": "2021-07-10T16:18:04.816Z"
   },
   {
    "duration": 15,
    "start_time": "2021-07-10T16:18:05.158Z"
   },
   {
    "duration": 27,
    "start_time": "2021-07-10T16:18:07.704Z"
   },
   {
    "duration": 27,
    "start_time": "2021-07-10T16:18:09.694Z"
   },
   {
    "duration": 4,
    "start_time": "2021-07-10T16:18:10.654Z"
   },
   {
    "duration": 10,
    "start_time": "2021-07-10T16:18:11.316Z"
   },
   {
    "duration": 6239,
    "start_time": "2021-07-10T16:18:14.302Z"
   },
   {
    "duration": 8,
    "start_time": "2021-07-10T16:19:04.547Z"
   },
   {
    "duration": 6137,
    "start_time": "2021-07-10T16:19:06.303Z"
   },
   {
    "duration": 88,
    "start_time": "2021-07-10T17:26:56.886Z"
   },
   {
    "duration": 879,
    "start_time": "2021-07-10T17:27:00.737Z"
   },
   {
    "duration": 28,
    "start_time": "2021-07-10T17:28:20.911Z"
   },
   {
    "duration": 404,
    "start_time": "2021-07-10T17:28:22.079Z"
   },
   {
    "duration": 436,
    "start_time": "2021-07-10T17:30:13.895Z"
   },
   {
    "duration": 557,
    "start_time": "2021-07-10T17:30:31.134Z"
   },
   {
    "duration": 565,
    "start_time": "2021-07-10T17:31:56.878Z"
   },
   {
    "duration": 36,
    "start_time": "2021-07-10T17:35:21.068Z"
   },
   {
    "duration": 611,
    "start_time": "2021-07-10T17:35:23.048Z"
   },
   {
    "duration": 29,
    "start_time": "2021-07-10T17:35:28.681Z"
   },
   {
    "duration": 607,
    "start_time": "2021-07-10T17:35:30.717Z"
   },
   {
    "duration": 31,
    "start_time": "2021-07-10T17:35:36.966Z"
   },
   {
    "duration": 445,
    "start_time": "2021-07-10T17:35:37.674Z"
   },
   {
    "duration": 8,
    "start_time": "2021-07-10T17:40:08.899Z"
   },
   {
    "duration": 20,
    "start_time": "2021-07-10T17:40:56.477Z"
   },
   {
    "duration": 746,
    "start_time": "2021-07-10T17:48:17.363Z"
   },
   {
    "duration": 802,
    "start_time": "2021-07-10T17:48:28.595Z"
   },
   {
    "duration": 1146,
    "start_time": "2021-07-10T17:49:18.302Z"
   },
   {
    "duration": 734,
    "start_time": "2021-07-10T17:51:32.885Z"
   },
   {
    "duration": 970,
    "start_time": "2021-07-10T17:51:43.424Z"
   },
   {
    "duration": 511,
    "start_time": "2021-07-10T18:07:20.448Z"
   },
   {
    "duration": 529,
    "start_time": "2021-07-10T18:07:59.118Z"
   },
   {
    "duration": 282,
    "start_time": "2021-07-10T18:08:55.307Z"
   },
   {
    "duration": 369,
    "start_time": "2021-07-10T18:10:15.713Z"
   },
   {
    "duration": 1039,
    "start_time": "2021-07-10T18:12:13.996Z"
   },
   {
    "duration": 364,
    "start_time": "2021-07-10T18:12:33.081Z"
   },
   {
    "duration": 448,
    "start_time": "2021-07-10T18:12:59.092Z"
   },
   {
    "duration": 10,
    "start_time": "2021-07-10T18:13:30.603Z"
   },
   {
    "duration": 294,
    "start_time": "2021-07-10T18:14:08.378Z"
   },
   {
    "duration": 336,
    "start_time": "2021-07-10T18:15:32.929Z"
   },
   {
    "duration": 13,
    "start_time": "2021-07-10T18:25:28.323Z"
   },
   {
    "duration": 687,
    "start_time": "2021-07-12T08:31:27.184Z"
   },
   {
    "duration": 18,
    "start_time": "2021-07-12T08:32:02.419Z"
   },
   {
    "duration": 6,
    "start_time": "2021-07-12T08:32:02.759Z"
   },
   {
    "duration": 16,
    "start_time": "2021-07-12T08:32:02.981Z"
   },
   {
    "duration": 18,
    "start_time": "2021-07-12T08:32:05.281Z"
   },
   {
    "duration": 10,
    "start_time": "2021-07-12T08:32:07.009Z"
   },
   {
    "duration": 158,
    "start_time": "2021-07-12T08:32:08.619Z"
   },
   {
    "duration": 7,
    "start_time": "2021-07-12T08:32:09.951Z"
   },
   {
    "duration": 17,
    "start_time": "2021-07-12T08:32:11.879Z"
   },
   {
    "duration": 19,
    "start_time": "2021-07-12T08:32:14.949Z"
   },
   {
    "duration": 271,
    "start_time": "2021-07-12T08:32:16.070Z"
   },
   {
    "duration": 6,
    "start_time": "2021-07-12T08:32:20.750Z"
   },
   {
    "duration": 13,
    "start_time": "2021-07-12T08:32:21.061Z"
   },
   {
    "duration": 396,
    "start_time": "2021-07-12T08:32:25.708Z"
   },
   {
    "duration": 383,
    "start_time": "2021-07-12T08:32:29.349Z"
   },
   {
    "duration": 192,
    "start_time": "2021-07-12T08:32:31.005Z"
   },
   {
    "duration": 201,
    "start_time": "2021-07-12T08:32:35.177Z"
   },
   {
    "duration": 8,
    "start_time": "2021-07-12T08:33:19.841Z"
   },
   {
    "duration": 284,
    "start_time": "2021-07-12T08:33:21.061Z"
   },
   {
    "duration": 1006,
    "start_time": "2021-07-12T08:34:29.900Z"
   },
   {
    "duration": 85,
    "start_time": "2021-07-12T08:35:20.678Z"
   },
   {
    "duration": 251,
    "start_time": "2021-07-12T08:35:25.198Z"
   },
   {
    "duration": 7,
    "start_time": "2021-07-12T08:35:30.870Z"
   },
   {
    "duration": 341,
    "start_time": "2021-07-12T08:36:02.360Z"
   },
   {
    "duration": 7,
    "start_time": "2021-07-12T08:36:16.948Z"
   },
   {
    "duration": 271,
    "start_time": "2021-07-12T08:37:01.341Z"
   },
   {
    "duration": 8,
    "start_time": "2021-07-12T08:37:23.600Z"
   },
   {
    "duration": 940,
    "start_time": "2021-07-12T08:38:25.198Z"
   },
   {
    "duration": 6,
    "start_time": "2021-07-12T08:38:49.149Z"
   },
   {
    "duration": 27,
    "start_time": "2021-07-12T08:40:23.304Z"
   },
   {
    "duration": 287,
    "start_time": "2021-07-12T09:05:34.099Z"
   },
   {
    "duration": 51,
    "start_time": "2021-07-12T09:06:01.300Z"
   },
   {
    "duration": 29,
    "start_time": "2021-07-12T09:06:02.529Z"
   },
   {
    "duration": 6,
    "start_time": "2021-07-12T09:06:02.718Z"
   },
   {
    "duration": 18,
    "start_time": "2021-07-12T09:06:02.899Z"
   },
   {
    "duration": 14,
    "start_time": "2021-07-12T09:06:03.280Z"
   },
   {
    "duration": 10,
    "start_time": "2021-07-12T09:06:03.460Z"
   },
   {
    "duration": 156,
    "start_time": "2021-07-12T09:06:04.260Z"
   },
   {
    "duration": 6,
    "start_time": "2021-07-12T09:06:04.449Z"
   },
   {
    "duration": 17,
    "start_time": "2021-07-12T09:06:05.150Z"
   },
   {
    "duration": 19,
    "start_time": "2021-07-12T09:06:05.480Z"
   },
   {
    "duration": 242,
    "start_time": "2021-07-12T09:06:06.820Z"
   },
   {
    "duration": 6,
    "start_time": "2021-07-12T09:06:07.470Z"
   },
   {
    "duration": 13,
    "start_time": "2021-07-12T09:06:07.630Z"
   },
   {
    "duration": 394,
    "start_time": "2021-07-12T09:06:12.137Z"
   },
   {
    "duration": 279,
    "start_time": "2021-07-12T09:06:16.242Z"
   },
   {
    "duration": 335,
    "start_time": "2021-07-12T09:07:53.408Z"
   },
   {
    "duration": 266,
    "start_time": "2021-07-12T09:08:28.780Z"
   },
   {
    "duration": 381,
    "start_time": "2021-07-12T09:08:54.186Z"
   },
   {
    "duration": 189,
    "start_time": "2021-07-12T09:09:06.362Z"
   },
   {
    "duration": 263,
    "start_time": "2021-07-12T09:09:44.731Z"
   },
   {
    "duration": 15,
    "start_time": "2021-07-12T09:15:01.590Z"
   },
   {
    "duration": 335,
    "start_time": "2021-07-12T09:15:17.789Z"
   },
   {
    "duration": 209,
    "start_time": "2021-07-12T09:15:20.978Z"
   },
   {
    "duration": 195,
    "start_time": "2021-07-12T09:15:21.259Z"
   },
   {
    "duration": 214,
    "start_time": "2021-07-12T09:15:57.980Z"
   },
   {
    "duration": 196,
    "start_time": "2021-07-12T09:16:01.518Z"
   },
   {
    "duration": 218,
    "start_time": "2021-07-12T09:16:30.740Z"
   },
   {
    "duration": 203,
    "start_time": "2021-07-12T09:16:44.980Z"
   },
   {
    "duration": 296,
    "start_time": "2021-07-12T09:17:18.440Z"
   },
   {
    "duration": 208,
    "start_time": "2021-07-12T09:17:19.860Z"
   },
   {
    "duration": 50,
    "start_time": "2021-07-12T09:17:37.670Z"
   },
   {
    "duration": 19,
    "start_time": "2021-07-12T09:17:39.980Z"
   },
   {
    "duration": 7,
    "start_time": "2021-07-12T09:17:40.153Z"
   },
   {
    "duration": 18,
    "start_time": "2021-07-12T09:17:40.510Z"
   },
   {
    "duration": 13,
    "start_time": "2021-07-12T09:17:40.940Z"
   },
   {
    "duration": 11,
    "start_time": "2021-07-12T09:17:41.404Z"
   },
   {
    "duration": 161,
    "start_time": "2021-07-12T09:17:42.340Z"
   },
   {
    "duration": 6,
    "start_time": "2021-07-12T09:17:42.502Z"
   },
   {
    "duration": 17,
    "start_time": "2021-07-12T09:17:43.191Z"
   },
   {
    "duration": 20,
    "start_time": "2021-07-12T09:17:47.060Z"
   },
   {
    "duration": 243,
    "start_time": "2021-07-12T09:17:47.260Z"
   },
   {
    "duration": 6,
    "start_time": "2021-07-12T09:17:49.923Z"
   },
   {
    "duration": 13,
    "start_time": "2021-07-12T09:17:50.420Z"
   },
   {
    "duration": 477,
    "start_time": "2021-07-12T09:17:51.980Z"
   },
   {
    "duration": 330,
    "start_time": "2021-07-12T09:17:57.378Z"
   },
   {
    "duration": 201,
    "start_time": "2021-07-12T09:18:00.791Z"
   },
   {
    "duration": 201,
    "start_time": "2021-07-12T09:18:05.449Z"
   },
   {
    "duration": 343,
    "start_time": "2021-07-12T09:18:23.521Z"
   },
   {
    "duration": 210,
    "start_time": "2021-07-12T09:18:26.170Z"
   },
   {
    "duration": 196,
    "start_time": "2021-07-12T09:18:34.980Z"
   },
   {
    "duration": 15,
    "start_time": "2021-07-12T09:19:06.790Z"
   },
   {
    "duration": 189,
    "start_time": "2021-07-12T09:19:09.720Z"
   },
   {
    "duration": 57,
    "start_time": "2021-07-12T09:22:04.579Z"
   },
   {
    "duration": 181,
    "start_time": "2021-07-12T09:38:19.269Z"
   },
   {
    "duration": 52,
    "start_time": "2021-07-12T10:44:10.915Z"
   },
   {
    "duration": 18,
    "start_time": "2021-07-12T10:44:12.284Z"
   },
   {
    "duration": 7,
    "start_time": "2021-07-12T10:44:12.465Z"
   },
   {
    "duration": 17,
    "start_time": "2021-07-12T10:44:12.614Z"
   },
   {
    "duration": 13,
    "start_time": "2021-07-12T10:44:12.919Z"
   },
   {
    "duration": 10,
    "start_time": "2021-07-12T10:44:13.094Z"
   },
   {
    "duration": 157,
    "start_time": "2021-07-12T10:44:13.748Z"
   },
   {
    "duration": 6,
    "start_time": "2021-07-12T10:44:13.916Z"
   },
   {
    "duration": 17,
    "start_time": "2021-07-12T10:44:14.565Z"
   },
   {
    "duration": 19,
    "start_time": "2021-07-12T10:44:14.985Z"
   },
   {
    "duration": 243,
    "start_time": "2021-07-12T10:44:15.156Z"
   },
   {
    "duration": 6,
    "start_time": "2021-07-12T10:44:15.844Z"
   },
   {
    "duration": 14,
    "start_time": "2021-07-12T10:44:16.106Z"
   },
   {
    "duration": 477,
    "start_time": "2021-07-12T10:44:16.480Z"
   },
   {
    "duration": 330,
    "start_time": "2021-07-12T10:44:16.986Z"
   },
   {
    "duration": 204,
    "start_time": "2021-07-12T10:44:17.382Z"
   },
   {
    "duration": 296,
    "start_time": "2021-07-12T10:44:17.697Z"
   },
   {
    "duration": 14,
    "start_time": "2021-07-12T10:44:18.084Z"
   },
   {
    "duration": 325,
    "start_time": "2021-07-12T10:44:19.555Z"
   },
   {
    "duration": 206,
    "start_time": "2021-07-12T10:44:20.104Z"
   },
   {
    "duration": 194,
    "start_time": "2021-07-12T10:44:20.942Z"
   },
   {
    "duration": 56,
    "start_time": "2021-07-12T10:44:21.545Z"
   },
   {
    "duration": 208,
    "start_time": "2021-07-12T10:44:22.813Z"
   },
   {
    "duration": 255,
    "start_time": "2021-07-12T10:44:28.834Z"
   },
   {
    "duration": 236,
    "start_time": "2021-07-12T10:46:40.502Z"
   },
   {
    "duration": 266,
    "start_time": "2021-07-12T10:47:47.814Z"
   },
   {
    "duration": 243,
    "start_time": "2021-07-12T10:49:51.246Z"
   },
   {
    "duration": 262,
    "start_time": "2021-07-12T10:58:18.876Z"
   },
   {
    "duration": 18,
    "start_time": "2021-07-12T10:58:54.217Z"
   },
   {
    "duration": 250,
    "start_time": "2021-07-12T10:59:27.634Z"
   },
   {
    "duration": 18,
    "start_time": "2021-07-12T10:59:42.527Z"
   },
   {
    "duration": 15,
    "start_time": "2021-07-12T11:01:06.197Z"
   },
   {
    "duration": 14,
    "start_time": "2021-07-12T11:01:24.747Z"
   },
   {
    "duration": 14,
    "start_time": "2021-07-12T11:01:33.115Z"
   },
   {
    "duration": 18,
    "start_time": "2021-07-12T11:03:46.657Z"
   },
   {
    "duration": 17,
    "start_time": "2021-07-12T11:05:33.297Z"
   },
   {
    "duration": 13,
    "start_time": "2021-07-12T11:05:38.587Z"
   },
   {
    "duration": 13,
    "start_time": "2021-07-12T11:05:45.727Z"
   },
   {
    "duration": 14,
    "start_time": "2021-07-12T11:05:55.407Z"
   },
   {
    "duration": 194,
    "start_time": "2021-07-12T11:10:16.107Z"
   },
   {
    "duration": 185,
    "start_time": "2021-07-12T11:10:16.735Z"
   },
   {
    "duration": 205,
    "start_time": "2021-07-12T11:10:17.288Z"
   },
   {
    "duration": 197,
    "start_time": "2021-07-12T11:14:00.308Z"
   },
   {
    "duration": 201,
    "start_time": "2021-07-12T11:14:00.737Z"
   },
   {
    "duration": 196,
    "start_time": "2021-07-12T11:14:01.097Z"
   },
   {
    "duration": 78,
    "start_time": "2021-07-12T11:21:37.227Z"
   },
   {
    "duration": 258,
    "start_time": "2021-07-12T12:02:39.165Z"
   },
   {
    "duration": 556,
    "start_time": "2021-07-12T12:15:57.327Z"
   },
   {
    "duration": 20,
    "start_time": "2021-07-12T12:15:59.507Z"
   },
   {
    "duration": 7,
    "start_time": "2021-07-12T12:15:59.696Z"
   },
   {
    "duration": 18,
    "start_time": "2021-07-12T12:15:59.917Z"
   },
   {
    "duration": 13,
    "start_time": "2021-07-12T12:16:00.357Z"
   },
   {
    "duration": 11,
    "start_time": "2021-07-12T12:16:00.583Z"
   },
   {
    "duration": 164,
    "start_time": "2021-07-12T12:16:04.868Z"
   },
   {
    "duration": 6,
    "start_time": "2021-07-12T12:16:05.926Z"
   },
   {
    "duration": 18,
    "start_time": "2021-07-12T12:16:13.027Z"
   },
   {
    "duration": 20,
    "start_time": "2021-07-12T12:16:15.009Z"
   },
   {
    "duration": 242,
    "start_time": "2021-07-12T12:16:15.194Z"
   },
   {
    "duration": 6,
    "start_time": "2021-07-12T12:16:16.739Z"
   },
   {
    "duration": 13,
    "start_time": "2021-07-12T12:16:17.239Z"
   },
   {
    "duration": 390,
    "start_time": "2021-07-12T12:16:17.897Z"
   },
   {
    "duration": 305,
    "start_time": "2021-07-12T12:16:19.217Z"
   },
   {
    "duration": 189,
    "start_time": "2021-07-12T12:16:20.503Z"
   },
   {
    "duration": 204,
    "start_time": "2021-07-12T12:16:21.394Z"
   },
   {
    "duration": 16,
    "start_time": "2021-07-12T12:16:22.749Z"
   },
   {
    "duration": 365,
    "start_time": "2021-07-12T12:16:25.684Z"
   },
   {
    "duration": 206,
    "start_time": "2021-07-12T12:16:27.009Z"
   },
   {
    "duration": 191,
    "start_time": "2021-07-12T12:16:27.337Z"
   },
   {
    "duration": 59,
    "start_time": "2021-07-12T12:16:28.002Z"
   },
   {
    "duration": 57,
    "start_time": "2021-07-12T12:16:40.760Z"
   },
   {
    "duration": 181,
    "start_time": "2021-07-12T12:16:48.389Z"
   },
   {
    "duration": 19,
    "start_time": "2021-07-12T12:16:51.557Z"
   },
   {
    "duration": 14,
    "start_time": "2021-07-12T12:16:51.873Z"
   },
   {
    "duration": 13,
    "start_time": "2021-07-12T12:16:52.215Z"
   },
   {
    "duration": 13,
    "start_time": "2021-07-12T12:16:52.757Z"
   },
   {
    "duration": 220,
    "start_time": "2021-07-12T12:16:53.761Z"
   },
   {
    "duration": 201,
    "start_time": "2021-07-12T12:16:54.317Z"
   },
   {
    "duration": 207,
    "start_time": "2021-07-12T12:16:54.688Z"
   },
   {
    "duration": 216,
    "start_time": "2021-07-12T12:16:55.438Z"
   },
   {
    "duration": 210,
    "start_time": "2021-07-12T12:16:55.656Z"
   },
   {
    "duration": 354,
    "start_time": "2021-07-12T12:16:56.040Z"
   },
   {
    "duration": 11,
    "start_time": "2021-07-12T12:16:57.428Z"
   },
   {
    "duration": 12,
    "start_time": "2021-07-12T12:17:02.208Z"
   },
   {
    "duration": 12,
    "start_time": "2021-07-12T12:18:34.143Z"
   },
   {
    "duration": 13,
    "start_time": "2021-07-12T12:18:47.138Z"
   },
   {
    "duration": 83,
    "start_time": "2021-07-12T22:05:02.843Z"
   },
   {
    "duration": 73,
    "start_time": "2021-07-12T22:19:56.116Z"
   },
   {
    "duration": 86,
    "start_time": "2021-07-12T22:28:19.478Z"
   },
   {
    "duration": 104,
    "start_time": "2021-07-12T22:28:55.589Z"
   },
   {
    "duration": 84,
    "start_time": "2021-07-12T22:33:10.415Z"
   },
   {
    "duration": 74,
    "start_time": "2021-07-12T22:57:27.629Z"
   },
   {
    "duration": 725,
    "start_time": "2021-07-12T22:59:27.994Z"
   },
   {
    "duration": 1350,
    "start_time": "2021-07-13T14:35:54.489Z"
   },
   {
    "duration": 44,
    "start_time": "2021-07-13T14:36:02.645Z"
   },
   {
    "duration": 386,
    "start_time": "2021-07-13T14:36:07.991Z"
   },
   {
    "duration": 91,
    "start_time": "2021-07-13T14:36:17.209Z"
   },
   {
    "duration": 12,
    "start_time": "2021-07-13T14:36:25.259Z"
   },
   {
    "duration": 18,
    "start_time": "2021-07-13T14:37:49.711Z"
   },
   {
    "duration": 27,
    "start_time": "2021-07-13T14:37:56.719Z"
   },
   {
    "duration": 98,
    "start_time": "2021-07-13T14:41:48.021Z"
   },
   {
    "duration": 97,
    "start_time": "2021-07-13T14:42:30.169Z"
   },
   {
    "duration": 85,
    "start_time": "2021-07-13T14:42:35.772Z"
   },
   {
    "duration": 28,
    "start_time": "2021-07-13T14:45:52.342Z"
   },
   {
    "duration": 13,
    "start_time": "2021-07-13T14:45:57.142Z"
   },
   {
    "duration": 38,
    "start_time": "2021-07-13T14:46:00.103Z"
   },
   {
    "duration": 23,
    "start_time": "2021-07-13T14:46:07.250Z"
   },
   {
    "duration": 14,
    "start_time": "2021-07-13T14:46:10.145Z"
   },
   {
    "duration": 288,
    "start_time": "2021-07-13T14:46:16.212Z"
   },
   {
    "duration": 10,
    "start_time": "2021-07-13T14:46:16.676Z"
   },
   {
    "duration": 84,
    "start_time": "2021-07-13T14:47:30.005Z"
   },
   {
    "duration": 729,
    "start_time": "2021-07-13T14:48:02.916Z"
   },
   {
    "duration": 731,
    "start_time": "2021-07-13T14:48:31.625Z"
   },
   {
    "duration": 359,
    "start_time": "2021-07-13T14:55:59.968Z"
   },
   {
    "duration": 21,
    "start_time": "2021-07-13T14:56:14.383Z"
   },
   {
    "duration": 287,
    "start_time": "2021-07-13T15:09:11.181Z"
   },
   {
    "duration": 24,
    "start_time": "2021-07-13T15:09:29.837Z"
   },
   {
    "duration": 24,
    "start_time": "2021-07-13T15:10:21.135Z"
   },
   {
    "duration": 305,
    "start_time": "2021-07-13T15:15:14.695Z"
   },
   {
    "duration": 11,
    "start_time": "2021-07-13T15:15:22.093Z"
   },
   {
    "duration": 21,
    "start_time": "2021-07-13T15:15:23.280Z"
   },
   {
    "duration": 489,
    "start_time": "2021-07-13T15:15:28.577Z"
   },
   {
    "duration": 363,
    "start_time": "2021-07-13T15:16:07.673Z"
   },
   {
    "duration": 426,
    "start_time": "2021-07-13T15:26:35.746Z"
   },
   {
    "duration": 1098,
    "start_time": "2021-07-13T15:26:54.121Z"
   },
   {
    "duration": 382,
    "start_time": "2021-07-13T15:27:13.947Z"
   },
   {
    "duration": 372,
    "start_time": "2021-07-13T15:28:09.864Z"
   },
   {
    "duration": 598,
    "start_time": "2021-07-13T15:29:54.450Z"
   },
   {
    "duration": 495,
    "start_time": "2021-07-13T15:30:11.945Z"
   },
   {
    "duration": 1163,
    "start_time": "2021-07-13T15:30:23.449Z"
   },
   {
    "duration": 392,
    "start_time": "2021-07-13T15:30:35.987Z"
   },
   {
    "duration": 35,
    "start_time": "2021-07-13T15:31:46.004Z"
   },
   {
    "duration": 482,
    "start_time": "2021-07-13T15:32:11.813Z"
   },
   {
    "duration": 353,
    "start_time": "2021-07-13T15:32:31.336Z"
   },
   {
    "duration": 1050,
    "start_time": "2021-07-13T15:32:38.365Z"
   },
   {
    "duration": 378,
    "start_time": "2021-07-13T15:32:47.643Z"
   },
   {
    "duration": 342,
    "start_time": "2021-07-13T15:33:29.316Z"
   },
   {
    "duration": 395,
    "start_time": "2021-07-13T15:33:45.438Z"
   },
   {
    "duration": 436,
    "start_time": "2021-07-13T15:34:12.138Z"
   },
   {
    "duration": 405,
    "start_time": "2021-07-13T15:34:21.905Z"
   },
   {
    "duration": 436,
    "start_time": "2021-07-13T15:34:32.854Z"
   },
   {
    "duration": 497,
    "start_time": "2021-07-13T15:34:53.463Z"
   },
   {
    "duration": 317,
    "start_time": "2021-07-13T15:35:13.027Z"
   },
   {
    "duration": 329,
    "start_time": "2021-07-13T15:35:34.875Z"
   },
   {
    "duration": 31,
    "start_time": "2021-07-13T15:54:24.854Z"
   },
   {
    "duration": 84,
    "start_time": "2021-07-13T15:55:32.404Z"
   },
   {
    "duration": 31,
    "start_time": "2021-07-13T15:55:36.513Z"
   },
   {
    "duration": 31,
    "start_time": "2021-07-13T15:55:49.605Z"
   },
   {
    "duration": 1446,
    "start_time": "2021-07-14T06:52:52.544Z"
   },
   {
    "duration": 42,
    "start_time": "2021-07-14T06:53:01.685Z"
   },
   {
    "duration": 12,
    "start_time": "2021-07-14T06:53:07.771Z"
   },
   {
    "duration": 487,
    "start_time": "2021-07-14T06:53:09.915Z"
   },
   {
    "duration": 1181,
    "start_time": "2021-07-14T06:53:19.921Z"
   },
   {
    "duration": 1131,
    "start_time": "2021-07-14T06:54:59.193Z"
   },
   {
    "duration": 21,
    "start_time": "2021-07-14T06:56:21.451Z"
   },
   {
    "duration": 27,
    "start_time": "2021-07-14T06:56:27.786Z"
   },
   {
    "duration": 31,
    "start_time": "2021-07-14T06:56:56.152Z"
   },
   {
    "duration": 25,
    "start_time": "2021-07-14T06:57:11.003Z"
   },
   {
    "duration": 20,
    "start_time": "2021-07-14T06:57:17.945Z"
   },
   {
    "duration": 300,
    "start_time": "2021-07-14T06:57:24.008Z"
   },
   {
    "duration": 9,
    "start_time": "2021-07-14T06:57:25.089Z"
   },
   {
    "duration": 989,
    "start_time": "2021-07-14T06:57:30.549Z"
   },
   {
    "duration": 28,
    "start_time": "2021-07-14T06:57:50.348Z"
   },
   {
    "duration": 31,
    "start_time": "2021-07-14T06:57:55.707Z"
   },
   {
    "duration": 443,
    "start_time": "2021-07-14T06:57:56.369Z"
   },
   {
    "duration": 36,
    "start_time": "2021-07-14T06:58:44.658Z"
   },
   {
    "duration": 30,
    "start_time": "2021-07-14T06:59:15.006Z"
   },
   {
    "duration": 32,
    "start_time": "2021-07-14T06:59:36.577Z"
   },
   {
    "duration": 23,
    "start_time": "2021-07-14T07:03:02.872Z"
   },
   {
    "duration": 30,
    "start_time": "2021-07-14T07:03:05.458Z"
   },
   {
    "duration": 599,
    "start_time": "2021-07-14T07:03:26.505Z"
   },
   {
    "duration": 269,
    "start_time": "2021-07-14T07:03:50.834Z"
   },
   {
    "duration": 468,
    "start_time": "2021-07-14T07:04:01.565Z"
   },
   {
    "duration": 23,
    "start_time": "2021-07-14T07:05:30.016Z"
   },
   {
    "duration": 518,
    "start_time": "2021-07-14T07:09:53.633Z"
   },
   {
    "duration": 332,
    "start_time": "2021-07-14T07:12:05.059Z"
   },
   {
    "duration": 309,
    "start_time": "2021-07-14T07:12:16.049Z"
   },
   {
    "duration": 29,
    "start_time": "2021-07-14T07:12:38.711Z"
   },
   {
    "duration": 522,
    "start_time": "2021-07-14T07:12:40.522Z"
   },
   {
    "duration": 31,
    "start_time": "2021-07-14T07:14:50.441Z"
   },
   {
    "duration": 489,
    "start_time": "2021-07-14T07:14:50.987Z"
   },
   {
    "duration": 612,
    "start_time": "2021-07-14T07:15:03.144Z"
   },
   {
    "duration": 304,
    "start_time": "2021-07-14T07:15:06.171Z"
   },
   {
    "duration": 78,
    "start_time": "2021-07-14T07:15:11.403Z"
   },
   {
    "duration": 48,
    "start_time": "2021-07-14T07:15:13.033Z"
   },
   {
    "duration": 12,
    "start_time": "2021-07-14T07:15:13.500Z"
   },
   {
    "duration": 17,
    "start_time": "2021-07-14T07:15:13.947Z"
   },
   {
    "duration": 40,
    "start_time": "2021-07-14T07:15:14.549Z"
   },
   {
    "duration": 23,
    "start_time": "2021-07-14T07:15:15.599Z"
   },
   {
    "duration": 17,
    "start_time": "2021-07-14T07:15:18.476Z"
   },
   {
    "duration": 312,
    "start_time": "2021-07-14T07:15:21.256Z"
   },
   {
    "duration": 10,
    "start_time": "2021-07-14T07:15:22.940Z"
   },
   {
    "duration": 783,
    "start_time": "2021-07-14T07:15:24.606Z"
   },
   {
    "duration": 21,
    "start_time": "2021-07-14T07:15:29.179Z"
   },
   {
    "duration": 28,
    "start_time": "2021-07-14T07:15:32.111Z"
   },
   {
    "duration": 530,
    "start_time": "2021-07-14T07:15:36.995Z"
   },
   {
    "duration": 269,
    "start_time": "2021-07-14T07:15:41.502Z"
   },
   {
    "duration": 8,
    "start_time": "2021-07-14T07:19:01.321Z"
   },
   {
    "duration": 19,
    "start_time": "2021-07-14T07:19:01.609Z"
   },
   {
    "duration": 739,
    "start_time": "2021-07-14T07:19:05.819Z"
   },
   {
    "duration": 538,
    "start_time": "2021-07-14T07:19:10.437Z"
   },
   {
    "duration": 391,
    "start_time": "2021-07-14T07:19:32.303Z"
   },
   {
    "duration": 408,
    "start_time": "2021-07-14T07:19:49.686Z"
   },
   {
    "duration": 368,
    "start_time": "2021-07-14T07:20:02.826Z"
   },
   {
    "duration": 21,
    "start_time": "2021-07-14T07:20:09.973Z"
   },
   {
    "duration": 467,
    "start_time": "2021-07-14T07:20:14.289Z"
   },
   {
    "duration": 445,
    "start_time": "2021-07-14T07:20:23.279Z"
   },
   {
    "duration": 345,
    "start_time": "2021-07-14T07:20:30.332Z"
   },
   {
    "duration": 102,
    "start_time": "2021-07-14T07:21:10.188Z"
   },
   {
    "duration": 388,
    "start_time": "2021-07-14T07:21:20.210Z"
   },
   {
    "duration": 20,
    "start_time": "2021-07-14T07:21:23.872Z"
   },
   {
    "duration": 20,
    "start_time": "2021-07-14T07:21:25.950Z"
   },
   {
    "duration": 20,
    "start_time": "2021-07-14T07:21:26.301Z"
   },
   {
    "duration": 271,
    "start_time": "2021-07-14T07:25:40.233Z"
   },
   {
    "duration": 266,
    "start_time": "2021-07-14T07:25:48.399Z"
   },
   {
    "duration": 1391,
    "start_time": "2021-07-14T07:26:03.811Z"
   },
   {
    "duration": 387,
    "start_time": "2021-07-14T07:26:09.831Z"
   },
   {
    "duration": 341,
    "start_time": "2021-07-14T07:28:30.220Z"
   },
   {
    "duration": 354,
    "start_time": "2021-07-14T07:28:49.943Z"
   },
   {
    "duration": 262,
    "start_time": "2021-07-14T07:29:08.879Z"
   },
   {
    "duration": 424,
    "start_time": "2021-07-14T07:29:21.564Z"
   },
   {
    "duration": 409,
    "start_time": "2021-07-14T07:29:33.550Z"
   },
   {
    "duration": 485,
    "start_time": "2021-07-14T07:29:45.070Z"
   },
   {
    "duration": 335,
    "start_time": "2021-07-14T07:29:57.401Z"
   },
   {
    "duration": 328,
    "start_time": "2021-07-14T07:30:07.662Z"
   },
   {
    "duration": 330,
    "start_time": "2021-07-14T07:30:19.377Z"
   },
   {
    "duration": 237,
    "start_time": "2021-07-14T07:49:39.338Z"
   },
   {
    "duration": 232,
    "start_time": "2021-07-14T07:50:32.021Z"
   },
   {
    "duration": 339,
    "start_time": "2021-07-14T07:51:05.637Z"
   },
   {
    "duration": 229,
    "start_time": "2021-07-14T07:52:33.424Z"
   },
   {
    "duration": 235,
    "start_time": "2021-07-14T07:52:48.257Z"
   },
   {
    "duration": 236,
    "start_time": "2021-07-14T07:52:55.707Z"
   },
   {
    "duration": 17,
    "start_time": "2021-07-14T07:55:24.310Z"
   },
   {
    "duration": 18,
    "start_time": "2021-07-14T07:55:40.451Z"
   },
   {
    "duration": 40,
    "start_time": "2021-07-14T08:12:05.097Z"
   },
   {
    "duration": 34,
    "start_time": "2021-07-14T08:13:04.070Z"
   },
   {
    "duration": 271,
    "start_time": "2021-07-14T08:14:21.130Z"
   },
   {
    "duration": 287,
    "start_time": "2021-07-14T08:14:43.305Z"
   },
   {
    "duration": 30,
    "start_time": "2021-07-14T08:15:38.911Z"
   },
   {
    "duration": 31,
    "start_time": "2021-07-14T08:17:59.862Z"
   },
   {
    "duration": 31,
    "start_time": "2021-07-14T08:18:14.898Z"
   },
   {
    "duration": 35,
    "start_time": "2021-07-14T08:18:53.635Z"
   },
   {
    "duration": 32,
    "start_time": "2021-07-14T08:27:23.457Z"
   },
   {
    "duration": 29,
    "start_time": "2021-07-14T08:28:17.071Z"
   },
   {
    "duration": 25,
    "start_time": "2021-07-14T08:28:26.970Z"
   },
   {
    "duration": 375,
    "start_time": "2021-07-14T08:28:41.327Z"
   },
   {
    "duration": 362,
    "start_time": "2021-07-14T08:28:58.024Z"
   },
   {
    "duration": 367,
    "start_time": "2021-07-14T08:29:20.160Z"
   },
   {
    "duration": 35,
    "start_time": "2021-07-14T08:39:11.417Z"
   },
   {
    "duration": 51,
    "start_time": "2021-07-14T08:39:38.080Z"
   },
   {
    "duration": 91,
    "start_time": "2021-07-14T22:40:12.220Z"
   },
   {
    "duration": 310,
    "start_time": "2021-07-14T22:40:35.142Z"
   },
   {
    "duration": 1769,
    "start_time": "2021-07-14T22:40:44.084Z"
   },
   {
    "duration": 47,
    "start_time": "2021-07-14T22:40:45.857Z"
   },
   {
    "duration": 11,
    "start_time": "2021-07-14T22:40:45.907Z"
   },
   {
    "duration": 41,
    "start_time": "2021-07-14T22:40:45.921Z"
   },
   {
    "duration": 29,
    "start_time": "2021-07-14T22:40:45.964Z"
   },
   {
    "duration": 21,
    "start_time": "2021-07-14T22:40:45.995Z"
   },
   {
    "duration": 45,
    "start_time": "2021-07-14T22:40:46.019Z"
   },
   {
    "duration": 323,
    "start_time": "2021-07-14T22:40:46.068Z"
   },
   {
    "duration": 10,
    "start_time": "2021-07-14T22:40:46.395Z"
   },
   {
    "duration": 747,
    "start_time": "2021-07-14T22:40:46.407Z"
   },
   {
    "duration": 23,
    "start_time": "2021-07-14T22:40:47.157Z"
   },
   {
    "duration": 30,
    "start_time": "2021-07-14T22:40:47.182Z"
   },
   {
    "duration": 565,
    "start_time": "2021-07-14T22:40:47.215Z"
   },
   {
    "duration": 36,
    "start_time": "2021-07-14T22:40:47.783Z"
   },
   {
    "duration": 7,
    "start_time": "2021-07-14T22:40:47.822Z"
   },
   {
    "duration": 48,
    "start_time": "2021-07-14T22:40:47.831Z"
   },
   {
    "duration": 758,
    "start_time": "2021-07-14T22:40:47.882Z"
   },
   {
    "duration": 483,
    "start_time": "2021-07-14T22:40:48.643Z"
   },
   {
    "duration": 426,
    "start_time": "2021-07-14T22:40:49.130Z"
   },
   {
    "duration": 367,
    "start_time": "2021-07-14T22:40:49.558Z"
   },
   {
    "duration": 35,
    "start_time": "2021-07-14T22:40:49.928Z"
   },
   {
    "duration": 508,
    "start_time": "2021-07-14T22:40:49.967Z"
   },
   {
    "duration": 451,
    "start_time": "2021-07-14T22:40:50.480Z"
   },
   {
    "duration": 369,
    "start_time": "2021-07-14T22:40:50.934Z"
   },
   {
    "duration": 115,
    "start_time": "2021-07-14T22:40:51.306Z"
   },
   {
    "duration": 434,
    "start_time": "2021-07-14T22:40:51.424Z"
   },
   {
    "duration": 21,
    "start_time": "2021-07-14T22:40:51.860Z"
   },
   {
    "duration": 275,
    "start_time": "2021-07-14T22:40:51.884Z"
   },
   {
    "duration": 23,
    "start_time": "2021-07-14T22:40:52.162Z"
   },
   {
    "duration": 263,
    "start_time": "2021-07-14T22:40:52.188Z"
   },
   {
    "duration": 23,
    "start_time": "2021-07-14T22:40:52.453Z"
   },
   {
    "duration": 250,
    "start_time": "2021-07-14T22:40:52.479Z"
   },
   {
    "duration": 460,
    "start_time": "2021-07-14T22:40:52.731Z"
   },
   {
    "duration": 33,
    "start_time": "2021-07-14T22:40:53.193Z"
   },
   {
    "duration": 448,
    "start_time": "2021-07-14T22:40:53.229Z"
   },
   {
    "duration": 32,
    "start_time": "2021-07-14T22:40:53.680Z"
   },
   {
    "duration": 467,
    "start_time": "2021-07-14T22:40:53.714Z"
   },
   {
    "duration": 32,
    "start_time": "2021-07-14T22:40:54.184Z"
   },
   {
    "duration": 391,
    "start_time": "2021-07-14T22:40:54.218Z"
   },
   {
    "duration": 370,
    "start_time": "2021-07-14T22:40:54.611Z"
   },
   {
    "duration": 457,
    "start_time": "2021-07-14T22:40:54.983Z"
   },
   {
    "duration": 37,
    "start_time": "2021-07-14T22:40:55.442Z"
   },
   {
    "duration": 17,
    "start_time": "2021-07-14T22:40:55.482Z"
   },
   {
    "duration": 17,
    "start_time": "2021-07-14T22:40:55.501Z"
   },
   {
    "duration": 95,
    "start_time": "2021-07-14T22:41:29.080Z"
   },
   {
    "duration": 108,
    "start_time": "2021-07-14T22:43:25.918Z"
   },
   {
    "duration": 88,
    "start_time": "2021-07-14T22:45:03.631Z"
   },
   {
    "duration": 102,
    "start_time": "2021-07-14T22:45:42.368Z"
   },
   {
    "duration": 92,
    "start_time": "2021-07-14T22:47:05.045Z"
   },
   {
    "duration": 101,
    "start_time": "2021-07-14T22:48:21.422Z"
   },
   {
    "duration": 1489,
    "start_time": "2021-07-15T06:08:03.808Z"
   },
   {
    "duration": 45,
    "start_time": "2021-07-15T06:08:13.008Z"
   },
   {
    "duration": 13,
    "start_time": "2021-07-15T06:08:19.666Z"
   },
   {
    "duration": 16,
    "start_time": "2021-07-15T06:08:20.879Z"
   },
   {
    "duration": 12,
    "start_time": "2021-07-15T06:08:51.606Z"
   },
   {
    "duration": 12,
    "start_time": "2021-07-15T06:15:35.948Z"
   },
   {
    "duration": 27,
    "start_time": "2021-07-15T06:15:39.138Z"
   },
   {
    "duration": 30,
    "start_time": "2021-07-15T06:15:49.533Z"
   },
   {
    "duration": 15,
    "start_time": "2021-07-15T06:15:51.708Z"
   },
   {
    "duration": 312,
    "start_time": "2021-07-15T06:15:56.397Z"
   },
   {
    "duration": 13,
    "start_time": "2021-07-15T06:15:57.198Z"
   },
   {
    "duration": 415,
    "start_time": "2021-07-15T06:16:05.779Z"
   },
   {
    "duration": 27,
    "start_time": "2021-07-15T06:18:08.989Z"
   },
   {
    "duration": 30,
    "start_time": "2021-07-15T06:18:15.029Z"
   },
   {
    "duration": 504,
    "start_time": "2021-07-15T06:18:15.228Z"
   },
   {
    "duration": 30,
    "start_time": "2021-07-15T06:18:50.189Z"
   },
   {
    "duration": 38,
    "start_time": "2021-07-15T06:19:00.907Z"
   },
   {
    "duration": 8,
    "start_time": "2021-07-15T06:19:24.758Z"
   },
   {
    "duration": 23,
    "start_time": "2021-07-15T06:19:25.309Z"
   },
   {
    "duration": 764,
    "start_time": "2021-07-15T06:19:28.608Z"
   },
   {
    "duration": 461,
    "start_time": "2021-07-15T06:20:03.739Z"
   },
   {
    "duration": 507,
    "start_time": "2021-07-15T06:20:47.868Z"
   },
   {
    "duration": 669,
    "start_time": "2021-07-15T06:21:01.591Z"
   },
   {
    "duration": 452,
    "start_time": "2021-07-15T06:21:09.918Z"
   },
   {
    "duration": 482,
    "start_time": "2021-07-15T06:21:14.218Z"
   },
   {
    "duration": 409,
    "start_time": "2021-07-15T06:23:44.948Z"
   },
   {
    "duration": 554,
    "start_time": "2021-07-15T06:23:55.989Z"
   },
   {
    "duration": 473,
    "start_time": "2021-07-15T06:25:53.333Z"
   },
   {
    "duration": 488,
    "start_time": "2021-07-15T06:26:49.948Z"
   },
   {
    "duration": 473,
    "start_time": "2021-07-15T06:27:00.989Z"
   },
   {
    "duration": 162,
    "start_time": "2021-07-15T06:27:23.375Z"
   },
   {
    "duration": 103,
    "start_time": "2021-07-15T06:27:47.172Z"
   },
   {
    "duration": 444,
    "start_time": "2021-07-15T06:27:49.512Z"
   },
   {
    "duration": 473,
    "start_time": "2021-07-15T06:28:12.139Z"
   },
   {
    "duration": 461,
    "start_time": "2021-07-15T06:29:23.410Z"
   },
   {
    "duration": 503,
    "start_time": "2021-07-15T06:29:34.070Z"
   },
   {
    "duration": 612,
    "start_time": "2021-07-15T06:29:38.448Z"
   },
   {
    "duration": 713,
    "start_time": "2021-07-15T06:29:55.393Z"
   },
   {
    "duration": 458,
    "start_time": "2021-07-15T06:30:22.009Z"
   },
   {
    "duration": 371,
    "start_time": "2021-07-15T06:30:31.989Z"
   },
   {
    "duration": 22,
    "start_time": "2021-07-15T06:30:34.831Z"
   },
   {
    "duration": 573,
    "start_time": "2021-07-15T06:31:02.405Z"
   },
   {
    "duration": 359,
    "start_time": "2021-07-15T06:31:03.369Z"
   },
   {
    "duration": 347,
    "start_time": "2021-07-15T06:31:06.956Z"
   },
   {
    "duration": 96,
    "start_time": "2021-07-15T06:31:10.126Z"
   },
   {
    "duration": 406,
    "start_time": "2021-07-15T06:31:18.568Z"
   },
   {
    "duration": 22,
    "start_time": "2021-07-15T06:31:22.968Z"
   },
   {
    "duration": 238,
    "start_time": "2021-07-15T06:31:39.430Z"
   },
   {
    "duration": 34,
    "start_time": "2021-07-15T06:31:39.671Z"
   },
   {
    "duration": 225,
    "start_time": "2021-07-15T06:31:40.317Z"
   },
   {
    "duration": 20,
    "start_time": "2021-07-15T06:31:40.545Z"
   },
   {
    "duration": 255,
    "start_time": "2021-07-15T06:31:40.568Z"
   },
   {
    "duration": 455,
    "start_time": "2021-07-15T06:31:41.075Z"
   },
   {
    "duration": 37,
    "start_time": "2021-07-15T06:31:44.131Z"
   },
   {
    "duration": 425,
    "start_time": "2021-07-15T06:31:44.278Z"
   },
   {
    "duration": 34,
    "start_time": "2021-07-15T06:31:44.706Z"
   },
   {
    "duration": 444,
    "start_time": "2021-07-15T06:31:46.729Z"
   },
   {
    "duration": 47,
    "start_time": "2021-07-15T06:31:47.176Z"
   },
   {
    "duration": 360,
    "start_time": "2021-07-15T06:31:50.956Z"
   },
   {
    "duration": 358,
    "start_time": "2021-07-15T06:31:52.809Z"
   },
   {
    "duration": 452,
    "start_time": "2021-07-15T06:31:53.170Z"
   },
   {
    "duration": 27,
    "start_time": "2021-07-15T06:31:53.625Z"
   },
   {
    "duration": 19,
    "start_time": "2021-07-15T06:31:58.327Z"
   },
   {
    "duration": 19,
    "start_time": "2021-07-15T06:32:01.542Z"
   },
   {
    "duration": 488,
    "start_time": "2021-07-15T06:33:34.091Z"
   },
   {
    "duration": 496,
    "start_time": "2021-07-15T06:34:11.909Z"
   },
   {
    "duration": 468,
    "start_time": "2021-07-15T06:34:26.608Z"
   },
   {
    "duration": 494,
    "start_time": "2021-07-15T06:34:45.429Z"
   },
   {
    "duration": 497,
    "start_time": "2021-07-15T06:34:56.712Z"
   },
   {
    "duration": 518,
    "start_time": "2021-07-15T06:35:07.276Z"
   },
   {
    "duration": 516,
    "start_time": "2021-07-15T06:35:14.877Z"
   },
   {
    "duration": 486,
    "start_time": "2021-07-15T06:36:15.591Z"
   },
   {
    "duration": 521,
    "start_time": "2021-07-15T06:36:23.149Z"
   },
   {
    "duration": 547,
    "start_time": "2021-07-15T06:37:37.174Z"
   },
   {
    "duration": 755,
    "start_time": "2021-07-15T06:37:46.869Z"
   },
   {
    "duration": 491,
    "start_time": "2021-07-15T06:38:05.102Z"
   },
   {
    "duration": 507,
    "start_time": "2021-07-15T06:38:13.060Z"
   },
   {
    "duration": 471,
    "start_time": "2021-07-15T06:38:21.708Z"
   },
   {
    "duration": 498,
    "start_time": "2021-07-15T06:38:33.788Z"
   },
   {
    "duration": 473,
    "start_time": "2021-07-15T06:38:38.330Z"
   },
   {
    "duration": 600,
    "start_time": "2021-07-15T06:40:38.226Z"
   },
   {
    "duration": 780,
    "start_time": "2021-07-15T06:41:31.752Z"
   },
   {
    "duration": 1383,
    "start_time": "2021-07-15T21:19:59.119Z"
   },
   {
    "duration": 45,
    "start_time": "2021-07-15T21:20:03.433Z"
   },
   {
    "duration": 12,
    "start_time": "2021-07-15T21:20:03.737Z"
   },
   {
    "duration": 16,
    "start_time": "2021-07-15T21:20:04.794Z"
   },
   {
    "duration": 11,
    "start_time": "2021-07-15T21:20:05.977Z"
   },
   {
    "duration": 13,
    "start_time": "2021-07-15T21:20:06.149Z"
   },
   {
    "duration": 27,
    "start_time": "2021-07-15T21:20:07.026Z"
   },
   {
    "duration": 27,
    "start_time": "2021-07-15T21:20:08.598Z"
   },
   {
    "duration": 14,
    "start_time": "2021-07-15T21:20:13.539Z"
   },
   {
    "duration": 284,
    "start_time": "2021-07-15T21:20:15.218Z"
   },
   {
    "duration": 9,
    "start_time": "2021-07-15T21:20:23.218Z"
   },
   {
    "duration": 10,
    "start_time": "2021-07-15T21:20:48.837Z"
   },
   {
    "duration": 399,
    "start_time": "2021-07-15T21:20:50.568Z"
   },
   {
    "duration": 22,
    "start_time": "2021-07-15T21:21:18.948Z"
   },
   {
    "duration": 29,
    "start_time": "2021-07-15T21:21:21.438Z"
   },
   {
    "duration": 501,
    "start_time": "2021-07-15T21:21:21.647Z"
   },
   {
    "duration": 36,
    "start_time": "2021-07-15T21:21:22.192Z"
   },
   {
    "duration": 8,
    "start_time": "2021-07-15T21:21:23.757Z"
   },
   {
    "duration": 20,
    "start_time": "2021-07-15T21:21:24.032Z"
   },
   {
    "duration": 751,
    "start_time": "2021-07-15T21:21:26.140Z"
   },
   {
    "duration": 439,
    "start_time": "2021-07-15T21:21:28.718Z"
   },
   {
    "duration": 466,
    "start_time": "2021-07-15T21:21:58.401Z"
   },
   {
    "duration": 362,
    "start_time": "2021-07-15T21:22:05.082Z"
   },
   {
    "duration": 1293,
    "start_time": "2021-07-17T08:52:25.993Z"
   },
   {
    "duration": 82,
    "start_time": "2021-07-17T08:52:40.689Z"
   },
   {
    "duration": 40,
    "start_time": "2021-07-17T08:52:51.958Z"
   },
   {
    "duration": 12,
    "start_time": "2021-07-17T08:52:55.578Z"
   },
   {
    "duration": 15,
    "start_time": "2021-07-17T08:52:56.959Z"
   },
   {
    "duration": 11,
    "start_time": "2021-07-17T08:53:01.775Z"
   },
   {
    "duration": 11,
    "start_time": "2021-07-17T08:53:02.932Z"
   },
   {
    "duration": 27,
    "start_time": "2021-07-17T08:53:03.899Z"
   },
   {
    "duration": 28,
    "start_time": "2021-07-17T08:53:07.124Z"
   },
   {
    "duration": 14,
    "start_time": "2021-07-17T08:53:08.821Z"
   },
   {
    "duration": 277,
    "start_time": "2021-07-17T08:53:12.603Z"
   },
   {
    "duration": 9,
    "start_time": "2021-07-17T08:53:13.665Z"
   },
   {
    "duration": 377,
    "start_time": "2021-07-17T08:53:17.906Z"
   },
   {
    "duration": 23,
    "start_time": "2021-07-17T08:53:28.013Z"
   },
   {
    "duration": 29,
    "start_time": "2021-07-17T08:53:32.476Z"
   },
   {
    "duration": 493,
    "start_time": "2021-07-17T08:53:33.732Z"
   },
   {
    "duration": 35,
    "start_time": "2021-07-17T08:53:36.672Z"
   },
   {
    "duration": 8,
    "start_time": "2021-07-17T08:53:42.613Z"
   },
   {
    "duration": 21,
    "start_time": "2021-07-17T08:53:43.285Z"
   },
   {
    "duration": 741,
    "start_time": "2021-07-17T08:53:49.277Z"
   },
   {
    "duration": 443,
    "start_time": "2021-07-17T08:53:53.878Z"
   },
   {
    "duration": 510,
    "start_time": "2021-07-17T08:53:59.122Z"
   },
   {
    "duration": 496,
    "start_time": "2021-07-17T08:54:04.568Z"
   },
   {
    "duration": 22,
    "start_time": "2021-07-17T08:54:09.214Z"
   },
   {
    "duration": 479,
    "start_time": "2021-07-17T08:54:13.690Z"
   },
   {
    "duration": 804,
    "start_time": "2021-07-17T08:54:16.036Z"
   },
   {
    "duration": 422,
    "start_time": "2021-07-17T08:54:20.663Z"
   },
   {
    "duration": 107,
    "start_time": "2021-07-17T08:54:22.858Z"
   },
   {
    "duration": 403,
    "start_time": "2021-07-17T08:54:26.501Z"
   },
   {
    "duration": 19,
    "start_time": "2021-07-17T08:54:31.336Z"
   },
   {
    "duration": 227,
    "start_time": "2021-07-17T08:54:33.725Z"
   },
   {
    "duration": 19,
    "start_time": "2021-07-17T08:54:34.860Z"
   },
   {
    "duration": 224,
    "start_time": "2021-07-17T08:54:36.477Z"
   },
   {
    "duration": 20,
    "start_time": "2021-07-17T08:54:37.128Z"
   },
   {
    "duration": 232,
    "start_time": "2021-07-17T08:54:39.361Z"
   },
   {
    "duration": 430,
    "start_time": "2021-07-17T08:54:44.862Z"
   },
   {
    "duration": 36,
    "start_time": "2021-07-17T08:54:46.343Z"
   },
   {
    "duration": 415,
    "start_time": "2021-07-17T08:54:47.448Z"
   },
   {
    "duration": 47,
    "start_time": "2021-07-17T08:54:48.765Z"
   },
   {
    "duration": 455,
    "start_time": "2021-07-17T08:54:49.512Z"
   },
   {
    "duration": 39,
    "start_time": "2021-07-17T08:54:50.358Z"
   },
   {
    "duration": 341,
    "start_time": "2021-07-17T08:54:57.385Z"
   },
   {
    "duration": 366,
    "start_time": "2021-07-17T08:54:58.928Z"
   },
   {
    "duration": 456,
    "start_time": "2021-07-17T08:55:00.223Z"
   },
   {
    "duration": 24,
    "start_time": "2021-07-17T08:55:01.495Z"
   },
   {
    "duration": 24,
    "start_time": "2021-07-17T08:55:08.855Z"
   },
   {
    "duration": 17,
    "start_time": "2021-07-17T08:55:12.230Z"
   },
   {
    "duration": 61,
    "start_time": "2021-07-17T14:38:29.152Z"
   },
   {
    "duration": 64,
    "start_time": "2021-07-17T14:45:12.229Z"
   },
   {
    "duration": 461,
    "start_time": "2021-07-17T23:38:19.023Z"
   },
   {
    "duration": 1484,
    "start_time": "2021-07-17T23:38:27.042Z"
   },
   {
    "duration": 47,
    "start_time": "2021-07-17T23:38:29.792Z"
   },
   {
    "duration": 13,
    "start_time": "2021-07-17T23:38:30.148Z"
   },
   {
    "duration": 16,
    "start_time": "2021-07-17T23:38:30.515Z"
   },
   {
    "duration": 11,
    "start_time": "2021-07-17T23:38:31.206Z"
   },
   {
    "duration": 13,
    "start_time": "2021-07-17T23:38:31.609Z"
   },
   {
    "duration": 28,
    "start_time": "2021-07-17T23:38:32.116Z"
   },
   {
    "duration": 28,
    "start_time": "2021-07-17T23:38:33.148Z"
   },
   {
    "duration": 16,
    "start_time": "2021-07-17T23:38:33.519Z"
   },
   {
    "duration": 325,
    "start_time": "2021-07-17T23:38:34.552Z"
   },
   {
    "duration": 9,
    "start_time": "2021-07-17T23:38:34.879Z"
   },
   {
    "duration": 415,
    "start_time": "2021-07-17T23:38:35.140Z"
   },
   {
    "duration": 24,
    "start_time": "2021-07-17T23:38:37.175Z"
   },
   {
    "duration": 30,
    "start_time": "2021-07-17T23:38:38.227Z"
   },
   {
    "duration": 536,
    "start_time": "2021-07-17T23:38:38.913Z"
   },
   {
    "duration": 47,
    "start_time": "2021-07-17T23:38:39.451Z"
   },
   {
    "duration": 7,
    "start_time": "2021-07-17T23:38:41.750Z"
   },
   {
    "duration": 21,
    "start_time": "2021-07-17T23:38:41.921Z"
   },
   {
    "duration": 766,
    "start_time": "2021-07-17T23:38:43.701Z"
   },
   {
    "duration": 589,
    "start_time": "2021-07-17T23:38:50.053Z"
   },
   {
    "duration": 499,
    "start_time": "2021-07-17T23:39:02.905Z"
   },
   {
    "duration": 375,
    "start_time": "2021-07-17T23:39:04.114Z"
   },
   {
    "duration": 22,
    "start_time": "2021-07-17T23:39:05.477Z"
   },
   {
    "duration": 558,
    "start_time": "2021-07-17T23:39:14.350Z"
   },
   {
    "duration": 552,
    "start_time": "2021-07-17T23:39:17.718Z"
   },
   {
    "duration": 546,
    "start_time": "2021-07-17T23:41:04.406Z"
   },
   {
    "duration": 522,
    "start_time": "2021-07-17T23:41:43.601Z"
   },
   {
    "duration": 133,
    "start_time": "2021-07-17T23:42:01.764Z"
   },
   {
    "duration": 494,
    "start_time": "2021-07-17T23:42:12.075Z"
   },
   {
    "duration": 496,
    "start_time": "2021-07-17T23:42:26.199Z"
   },
   {
    "duration": 513,
    "start_time": "2021-07-17T23:43:41.045Z"
   },
   {
    "duration": 521,
    "start_time": "2021-07-17T23:43:46.714Z"
   },
   {
    "duration": 512,
    "start_time": "2021-07-17T23:43:54.054Z"
   },
   {
    "duration": 493,
    "start_time": "2021-07-17T23:44:05.588Z"
   },
   {
    "duration": 512,
    "start_time": "2021-07-17T23:44:44.807Z"
   },
   {
    "duration": 510,
    "start_time": "2021-07-17T23:45:38.288Z"
   },
   {
    "duration": 143,
    "start_time": "2021-07-17T23:46:00.081Z"
   },
   {
    "duration": 481,
    "start_time": "2021-07-17T23:46:04.775Z"
   },
   {
    "duration": 490,
    "start_time": "2021-07-17T23:46:27.150Z"
   },
   {
    "duration": 507,
    "start_time": "2021-07-17T23:46:33.831Z"
   },
   {
    "duration": 579,
    "start_time": "2021-07-17T23:48:41.253Z"
   },
   {
    "duration": 470,
    "start_time": "2021-07-17T23:50:12.200Z"
   },
   {
    "duration": 486,
    "start_time": "2021-07-17T23:50:27.942Z"
   },
   {
    "duration": 485,
    "start_time": "2021-07-17T23:50:59.141Z"
   },
   {
    "duration": 459,
    "start_time": "2021-07-17T23:51:06.390Z"
   },
   {
    "duration": 480,
    "start_time": "2021-07-17T23:51:17.075Z"
   },
   {
    "duration": 453,
    "start_time": "2021-07-17T23:51:31.885Z"
   },
   {
    "duration": 503,
    "start_time": "2021-07-17T23:54:58.281Z"
   },
   {
    "duration": 511,
    "start_time": "2021-07-17T23:55:04.060Z"
   },
   {
    "duration": 538,
    "start_time": "2021-07-17T23:55:21.911Z"
   },
   {
    "duration": 473,
    "start_time": "2021-07-17T23:55:36.591Z"
   },
   {
    "duration": 478,
    "start_time": "2021-07-17T23:55:41.596Z"
   },
   {
    "duration": 492,
    "start_time": "2021-07-17T23:56:02.581Z"
   },
   {
    "duration": 498,
    "start_time": "2021-07-17T23:56:12.664Z"
   },
   {
    "duration": 622,
    "start_time": "2021-07-17T23:56:20.641Z"
   },
   {
    "duration": 1055,
    "start_time": "2021-07-18T04:40:42.856Z"
   },
   {
    "duration": 27,
    "start_time": "2021-07-18T04:40:43.912Z"
   },
   {
    "duration": 8,
    "start_time": "2021-07-18T04:40:43.941Z"
   },
   {
    "duration": 10,
    "start_time": "2021-07-18T04:40:43.950Z"
   },
   {
    "duration": 27,
    "start_time": "2021-07-18T04:40:43.961Z"
   },
   {
    "duration": 9,
    "start_time": "2021-07-18T04:40:43.990Z"
   },
   {
    "duration": 19,
    "start_time": "2021-07-18T04:40:44.001Z"
   },
   {
    "duration": 13,
    "start_time": "2021-07-18T04:40:44.022Z"
   },
   {
    "duration": 9,
    "start_time": "2021-07-18T04:40:44.037Z"
   },
   {
    "duration": 203,
    "start_time": "2021-07-18T04:40:44.047Z"
   },
   {
    "duration": 6,
    "start_time": "2021-07-18T04:40:44.252Z"
   },
   {
    "duration": 271,
    "start_time": "2021-07-18T04:40:44.260Z"
   },
   {
    "duration": 15,
    "start_time": "2021-07-18T04:40:44.533Z"
   },
   {
    "duration": 36,
    "start_time": "2021-07-18T04:40:44.549Z"
   },
   {
    "duration": 315,
    "start_time": "2021-07-18T04:40:44.586Z"
   },
   {
    "duration": 23,
    "start_time": "2021-07-18T04:40:44.902Z"
   },
   {
    "duration": 5,
    "start_time": "2021-07-18T04:40:44.927Z"
   },
   {
    "duration": 14,
    "start_time": "2021-07-18T04:40:44.933Z"
   },
   {
    "duration": 483,
    "start_time": "2021-07-18T04:40:44.949Z"
   },
   {
    "duration": 321,
    "start_time": "2021-07-18T04:40:45.433Z"
   },
   {
    "duration": 394,
    "start_time": "2021-07-18T04:40:45.755Z"
   },
   {
    "duration": 336,
    "start_time": "2021-07-18T04:40:46.151Z"
   },
   {
    "duration": 14,
    "start_time": "2021-07-18T04:40:46.491Z"
   },
   {
    "duration": 510,
    "start_time": "2021-07-18T04:40:46.507Z"
   },
   {
    "duration": 347,
    "start_time": "2021-07-18T04:40:47.019Z"
   },
   {
    "duration": 284,
    "start_time": "2021-07-18T04:40:47.367Z"
   },
   {
    "duration": 68,
    "start_time": "2021-07-18T04:40:47.652Z"
   },
   {
    "duration": 268,
    "start_time": "2021-07-18T04:40:47.722Z"
   },
   {
    "duration": 13,
    "start_time": "2021-07-18T04:40:47.992Z"
   },
   {
    "duration": 163,
    "start_time": "2021-07-18T04:40:48.007Z"
   },
   {
    "duration": 22,
    "start_time": "2021-07-18T04:40:48.171Z"
   },
   {
    "duration": 148,
    "start_time": "2021-07-18T04:40:48.194Z"
   },
   {
    "duration": 13,
    "start_time": "2021-07-18T04:40:48.344Z"
   },
   {
    "duration": 151,
    "start_time": "2021-07-18T04:40:48.358Z"
   },
   {
    "duration": 277,
    "start_time": "2021-07-18T04:40:48.510Z"
   },
   {
    "duration": 20,
    "start_time": "2021-07-18T04:40:48.788Z"
   },
   {
    "duration": 278,
    "start_time": "2021-07-18T04:40:48.809Z"
   },
   {
    "duration": 21,
    "start_time": "2021-07-18T04:40:49.088Z"
   },
   {
    "duration": 286,
    "start_time": "2021-07-18T04:40:49.110Z"
   },
   {
    "duration": 21,
    "start_time": "2021-07-18T04:40:49.397Z"
   },
   {
    "duration": 232,
    "start_time": "2021-07-18T04:40:49.419Z"
   },
   {
    "duration": 227,
    "start_time": "2021-07-18T04:40:49.653Z"
   },
   {
    "duration": 295,
    "start_time": "2021-07-18T04:40:49.882Z"
   },
   {
    "duration": 17,
    "start_time": "2021-07-18T04:40:50.179Z"
   },
   {
    "duration": 15,
    "start_time": "2021-07-18T04:40:50.197Z"
   },
   {
    "duration": 19,
    "start_time": "2021-07-18T04:40:50.213Z"
   },
   {
    "duration": 362,
    "start_time": "2021-07-18T04:42:11.953Z"
   },
   {
    "duration": 331,
    "start_time": "2021-07-18T04:42:18.312Z"
   },
   {
    "duration": 354,
    "start_time": "2021-07-18T04:42:25.681Z"
   },
   {
    "duration": 352,
    "start_time": "2021-07-18T04:42:32.555Z"
   }
  ],
  "kernelspec": {
   "display_name": "Python 3",
   "language": "python",
   "name": "python3"
  },
  "language_info": {
   "codemirror_mode": {
    "name": "ipython",
    "version": 3
   },
   "file_extension": ".py",
   "mimetype": "text/x-python",
   "name": "python",
   "nbconvert_exporter": "python",
   "pygments_lexer": "ipython3",
   "version": "3.7.12"
  },
  "toc": {
   "base_numbering": 1,
   "nav_menu": {},
   "number_sections": true,
   "sideBar": true,
   "skip_h1_title": true,
   "title_cell": "Table of Contents",
   "title_sidebar": "Contents",
   "toc_cell": false,
   "toc_position": {},
   "toc_section_display": true,
   "toc_window_display": true
  }
 },
 "nbformat": 4,
 "nbformat_minor": 2
}
