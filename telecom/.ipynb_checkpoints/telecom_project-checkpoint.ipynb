{
 "cells": [
  {
   "cell_type": "markdown",
   "metadata": {},
   "source": [
    "# Determining the most profitable tariff for a telecom company"
   ]
  },
  {
   "cell_type": "markdown",
   "metadata": {},
   "source": [
    "**Research objective:**\n",
    "- Determine the most profitable mobile tariff for a telecom company based on user data"
   ]
  },
  {
   "cell_type": "markdown",
   "metadata": {},
   "source": [
    "## 1. Data overview"
   ]
  },
  {
   "cell_type": "code",
   "execution_count": 1,
   "metadata": {},
   "outputs": [
    {
     "name": "stderr",
     "output_type": "stream",
     "text": [
      "/Users/yusuf/opt/anaconda3/envs/praktikum_env_macos2/lib/python3.7/site-packages/statsmodels/tools/_testing.py:19: FutureWarning: pandas.util.testing is deprecated. Use the functions in the public API at pandas.testing instead.\n",
      "  import pandas.util.testing as tm\n"
     ]
    }
   ],
   "source": [
    "import pandas as pd\n",
    "import numpy as np\n",
    "import matplotlib.pyplot as plt\n",
    "from scipy import stats as st\n",
    "import seaborn as sns"
   ]
  },
  {
   "cell_type": "code",
   "execution_count": 2,
   "metadata": {},
   "outputs": [],
   "source": [
    "calls = pd.read_csv('/Users/yusuf/Desktop/Programming/Projects/Data/calls.csv')\n",
    "internet = pd.read_csv('/Users/yusuf/Desktop/Programming/Projects/Data/internet.csv')\n",
    "messages = pd.read_csv('/Users/yusuf/Desktop/Programming/Projects/Data/messages.csv')\n",
    "tariffs = pd.read_csv('/Users/yusuf/Desktop/Programming/Projects/Data/tariffs.csv')\n",
    "users = pd.read_csv('/Users/yusuf/Desktop/Programming/Projects/Data/users.csv')"
   ]
  },
  {
   "cell_type": "code",
   "execution_count": 3,
   "metadata": {},
   "outputs": [
    {
     "name": "stdout",
     "output_type": "stream",
     "text": [
      "<class 'pandas.core.frame.DataFrame'>\n",
      "RangeIndex: 202607 entries, 0 to 202606\n",
      "Data columns (total 4 columns):\n",
      " #   Column     Non-Null Count   Dtype  \n",
      "---  ------     --------------   -----  \n",
      " 0   id         202607 non-null  object \n",
      " 1   call_date  202607 non-null  object \n",
      " 2   duration   202607 non-null  float64\n",
      " 3   user_id    202607 non-null  int64  \n",
      "dtypes: float64(1), int64(1), object(2)\n",
      "memory usage: 6.2+ MB\n"
     ]
    }
   ],
   "source": [
    "calls.info()"
   ]
  },
  {
   "cell_type": "code",
   "execution_count": 4,
   "metadata": {},
   "outputs": [
    {
     "data": {
      "text/html": [
       "<div>\n",
       "<style scoped>\n",
       "    .dataframe tbody tr th:only-of-type {\n",
       "        vertical-align: middle;\n",
       "    }\n",
       "\n",
       "    .dataframe tbody tr th {\n",
       "        vertical-align: top;\n",
       "    }\n",
       "\n",
       "    .dataframe thead th {\n",
       "        text-align: right;\n",
       "    }\n",
       "</style>\n",
       "<table border=\"1\" class=\"dataframe\">\n",
       "  <thead>\n",
       "    <tr style=\"text-align: right;\">\n",
       "      <th></th>\n",
       "      <th>id</th>\n",
       "      <th>call_date</th>\n",
       "      <th>duration</th>\n",
       "      <th>user_id</th>\n",
       "    </tr>\n",
       "  </thead>\n",
       "  <tbody>\n",
       "    <tr>\n",
       "      <th>0</th>\n",
       "      <td>1000_0</td>\n",
       "      <td>2018-07-25</td>\n",
       "      <td>0.00</td>\n",
       "      <td>1000</td>\n",
       "    </tr>\n",
       "    <tr>\n",
       "      <th>1</th>\n",
       "      <td>1000_1</td>\n",
       "      <td>2018-08-17</td>\n",
       "      <td>0.00</td>\n",
       "      <td>1000</td>\n",
       "    </tr>\n",
       "    <tr>\n",
       "      <th>2</th>\n",
       "      <td>1000_2</td>\n",
       "      <td>2018-06-11</td>\n",
       "      <td>2.85</td>\n",
       "      <td>1000</td>\n",
       "    </tr>\n",
       "    <tr>\n",
       "      <th>3</th>\n",
       "      <td>1000_3</td>\n",
       "      <td>2018-09-21</td>\n",
       "      <td>13.80</td>\n",
       "      <td>1000</td>\n",
       "    </tr>\n",
       "    <tr>\n",
       "      <th>4</th>\n",
       "      <td>1000_4</td>\n",
       "      <td>2018-12-15</td>\n",
       "      <td>5.18</td>\n",
       "      <td>1000</td>\n",
       "    </tr>\n",
       "  </tbody>\n",
       "</table>\n",
       "</div>"
      ],
      "text/plain": [
       "       id   call_date  duration  user_id\n",
       "0  1000_0  2018-07-25      0.00     1000\n",
       "1  1000_1  2018-08-17      0.00     1000\n",
       "2  1000_2  2018-06-11      2.85     1000\n",
       "3  1000_3  2018-09-21     13.80     1000\n",
       "4  1000_4  2018-12-15      5.18     1000"
      ]
     },
     "execution_count": 4,
     "metadata": {},
     "output_type": "execute_result"
    }
   ],
   "source": [
    "calls.head()"
   ]
  },
  {
   "cell_type": "code",
   "execution_count": 5,
   "metadata": {},
   "outputs": [
    {
     "data": {
      "text/plain": [
       "0.00     39613\n",
       "4.49       142\n",
       "5.50       142\n",
       "6.15       141\n",
       "6.38       141\n",
       "         ...  \n",
       "26.94        1\n",
       "32.19        1\n",
       "26.32        1\n",
       "27.41        1\n",
       "26.90        1\n",
       "Name: duration, Length: 2871, dtype: int64"
      ]
     },
     "execution_count": 5,
     "metadata": {},
     "output_type": "execute_result"
    }
   ],
   "source": [
    "calls['duration'].value_counts()"
   ]
  },
  {
   "cell_type": "code",
   "execution_count": 6,
   "metadata": {},
   "outputs": [
    {
     "name": "stdout",
     "output_type": "stream",
     "text": [
      "<class 'pandas.core.frame.DataFrame'>\n",
      "RangeIndex: 149396 entries, 0 to 149395\n",
      "Data columns (total 5 columns):\n",
      " #   Column        Non-Null Count   Dtype  \n",
      "---  ------        --------------   -----  \n",
      " 0   Unnamed: 0    149396 non-null  int64  \n",
      " 1   id            149396 non-null  object \n",
      " 2   mb_used       149396 non-null  float64\n",
      " 3   session_date  149396 non-null  object \n",
      " 4   user_id       149396 non-null  int64  \n",
      "dtypes: float64(1), int64(2), object(2)\n",
      "memory usage: 5.7+ MB\n"
     ]
    }
   ],
   "source": [
    "internet.info()"
   ]
  },
  {
   "cell_type": "code",
   "execution_count": 7,
   "metadata": {},
   "outputs": [
    {
     "data": {
      "text/html": [
       "<div>\n",
       "<style scoped>\n",
       "    .dataframe tbody tr th:only-of-type {\n",
       "        vertical-align: middle;\n",
       "    }\n",
       "\n",
       "    .dataframe tbody tr th {\n",
       "        vertical-align: top;\n",
       "    }\n",
       "\n",
       "    .dataframe thead th {\n",
       "        text-align: right;\n",
       "    }\n",
       "</style>\n",
       "<table border=\"1\" class=\"dataframe\">\n",
       "  <thead>\n",
       "    <tr style=\"text-align: right;\">\n",
       "      <th></th>\n",
       "      <th>Unnamed: 0</th>\n",
       "      <th>id</th>\n",
       "      <th>mb_used</th>\n",
       "      <th>session_date</th>\n",
       "      <th>user_id</th>\n",
       "    </tr>\n",
       "  </thead>\n",
       "  <tbody>\n",
       "    <tr>\n",
       "      <th>0</th>\n",
       "      <td>0</td>\n",
       "      <td>1000_0</td>\n",
       "      <td>112.95</td>\n",
       "      <td>2018-11-25</td>\n",
       "      <td>1000</td>\n",
       "    </tr>\n",
       "    <tr>\n",
       "      <th>1</th>\n",
       "      <td>1</td>\n",
       "      <td>1000_1</td>\n",
       "      <td>1052.81</td>\n",
       "      <td>2018-09-07</td>\n",
       "      <td>1000</td>\n",
       "    </tr>\n",
       "    <tr>\n",
       "      <th>2</th>\n",
       "      <td>2</td>\n",
       "      <td>1000_2</td>\n",
       "      <td>1197.26</td>\n",
       "      <td>2018-06-25</td>\n",
       "      <td>1000</td>\n",
       "    </tr>\n",
       "    <tr>\n",
       "      <th>3</th>\n",
       "      <td>3</td>\n",
       "      <td>1000_3</td>\n",
       "      <td>550.27</td>\n",
       "      <td>2018-08-22</td>\n",
       "      <td>1000</td>\n",
       "    </tr>\n",
       "    <tr>\n",
       "      <th>4</th>\n",
       "      <td>4</td>\n",
       "      <td>1000_4</td>\n",
       "      <td>302.56</td>\n",
       "      <td>2018-09-24</td>\n",
       "      <td>1000</td>\n",
       "    </tr>\n",
       "  </tbody>\n",
       "</table>\n",
       "</div>"
      ],
      "text/plain": [
       "   Unnamed: 0      id  mb_used session_date  user_id\n",
       "0           0  1000_0   112.95   2018-11-25     1000\n",
       "1           1  1000_1  1052.81   2018-09-07     1000\n",
       "2           2  1000_2  1197.26   2018-06-25     1000\n",
       "3           3  1000_3   550.27   2018-08-22     1000\n",
       "4           4  1000_4   302.56   2018-09-24     1000"
      ]
     },
     "execution_count": 7,
     "metadata": {},
     "output_type": "execute_result"
    }
   ],
   "source": [
    "internet.head()"
   ]
  },
  {
   "cell_type": "code",
   "execution_count": 8,
   "metadata": {},
   "outputs": [
    {
     "data": {
      "text/plain": [
       "0.00      19598\n",
       "335.91        9\n",
       "447.30        9\n",
       "197.56        9\n",
       "199.11        8\n",
       "          ...  \n",
       "643.43        1\n",
       "973.04        1\n",
       "834.51        1\n",
       "777.30        1\n",
       "23.72         1\n",
       "Name: mb_used, Length: 70003, dtype: int64"
      ]
     },
     "execution_count": 8,
     "metadata": {},
     "output_type": "execute_result"
    }
   ],
   "source": [
    "internet['mb_used'].value_counts()"
   ]
  },
  {
   "cell_type": "code",
   "execution_count": 9,
   "metadata": {},
   "outputs": [
    {
     "name": "stdout",
     "output_type": "stream",
     "text": [
      "<class 'pandas.core.frame.DataFrame'>\n",
      "RangeIndex: 123036 entries, 0 to 123035\n",
      "Data columns (total 3 columns):\n",
      " #   Column        Non-Null Count   Dtype \n",
      "---  ------        --------------   ----- \n",
      " 0   id            123036 non-null  object\n",
      " 1   message_date  123036 non-null  object\n",
      " 2   user_id       123036 non-null  int64 \n",
      "dtypes: int64(1), object(2)\n",
      "memory usage: 2.8+ MB\n"
     ]
    }
   ],
   "source": [
    "messages.info()"
   ]
  },
  {
   "cell_type": "code",
   "execution_count": 10,
   "metadata": {},
   "outputs": [
    {
     "data": {
      "text/html": [
       "<div>\n",
       "<style scoped>\n",
       "    .dataframe tbody tr th:only-of-type {\n",
       "        vertical-align: middle;\n",
       "    }\n",
       "\n",
       "    .dataframe tbody tr th {\n",
       "        vertical-align: top;\n",
       "    }\n",
       "\n",
       "    .dataframe thead th {\n",
       "        text-align: right;\n",
       "    }\n",
       "</style>\n",
       "<table border=\"1\" class=\"dataframe\">\n",
       "  <thead>\n",
       "    <tr style=\"text-align: right;\">\n",
       "      <th></th>\n",
       "      <th>id</th>\n",
       "      <th>message_date</th>\n",
       "      <th>user_id</th>\n",
       "    </tr>\n",
       "  </thead>\n",
       "  <tbody>\n",
       "    <tr>\n",
       "      <th>0</th>\n",
       "      <td>1000_0</td>\n",
       "      <td>2018-06-27</td>\n",
       "      <td>1000</td>\n",
       "    </tr>\n",
       "    <tr>\n",
       "      <th>1</th>\n",
       "      <td>1000_1</td>\n",
       "      <td>2018-10-08</td>\n",
       "      <td>1000</td>\n",
       "    </tr>\n",
       "    <tr>\n",
       "      <th>2</th>\n",
       "      <td>1000_2</td>\n",
       "      <td>2018-08-04</td>\n",
       "      <td>1000</td>\n",
       "    </tr>\n",
       "    <tr>\n",
       "      <th>3</th>\n",
       "      <td>1000_3</td>\n",
       "      <td>2018-06-16</td>\n",
       "      <td>1000</td>\n",
       "    </tr>\n",
       "    <tr>\n",
       "      <th>4</th>\n",
       "      <td>1000_4</td>\n",
       "      <td>2018-12-05</td>\n",
       "      <td>1000</td>\n",
       "    </tr>\n",
       "  </tbody>\n",
       "</table>\n",
       "</div>"
      ],
      "text/plain": [
       "       id message_date  user_id\n",
       "0  1000_0   2018-06-27     1000\n",
       "1  1000_1   2018-10-08     1000\n",
       "2  1000_2   2018-08-04     1000\n",
       "3  1000_3   2018-06-16     1000\n",
       "4  1000_4   2018-12-05     1000"
      ]
     },
     "execution_count": 10,
     "metadata": {},
     "output_type": "execute_result"
    }
   ],
   "source": [
    "messages.head()"
   ]
  },
  {
   "cell_type": "code",
   "execution_count": 11,
   "metadata": {},
   "outputs": [
    {
     "name": "stdout",
     "output_type": "stream",
     "text": [
      "<class 'pandas.core.frame.DataFrame'>\n",
      "RangeIndex: 2 entries, 0 to 1\n",
      "Data columns (total 8 columns):\n",
      " #   Column                 Non-Null Count  Dtype \n",
      "---  ------                 --------------  ----- \n",
      " 0   messages_included      2 non-null      int64 \n",
      " 1   mb_per_month_included  2 non-null      int64 \n",
      " 2   minutes_included       2 non-null      int64 \n",
      " 3   rub_monthly_fee        2 non-null      int64 \n",
      " 4   rub_per_gb             2 non-null      int64 \n",
      " 5   rub_per_message        2 non-null      int64 \n",
      " 6   rub_per_minute         2 non-null      int64 \n",
      " 7   tariff_name            2 non-null      object\n",
      "dtypes: int64(7), object(1)\n",
      "memory usage: 256.0+ bytes\n"
     ]
    }
   ],
   "source": [
    "tariffs.info()"
   ]
  },
  {
   "cell_type": "code",
   "execution_count": 12,
   "metadata": {},
   "outputs": [
    {
     "data": {
      "text/html": [
       "<div>\n",
       "<style scoped>\n",
       "    .dataframe tbody tr th:only-of-type {\n",
       "        vertical-align: middle;\n",
       "    }\n",
       "\n",
       "    .dataframe tbody tr th {\n",
       "        vertical-align: top;\n",
       "    }\n",
       "\n",
       "    .dataframe thead th {\n",
       "        text-align: right;\n",
       "    }\n",
       "</style>\n",
       "<table border=\"1\" class=\"dataframe\">\n",
       "  <thead>\n",
       "    <tr style=\"text-align: right;\">\n",
       "      <th></th>\n",
       "      <th>messages_included</th>\n",
       "      <th>mb_per_month_included</th>\n",
       "      <th>minutes_included</th>\n",
       "      <th>rub_monthly_fee</th>\n",
       "      <th>rub_per_gb</th>\n",
       "      <th>rub_per_message</th>\n",
       "      <th>rub_per_minute</th>\n",
       "      <th>tariff_name</th>\n",
       "    </tr>\n",
       "  </thead>\n",
       "  <tbody>\n",
       "    <tr>\n",
       "      <th>0</th>\n",
       "      <td>50</td>\n",
       "      <td>15360</td>\n",
       "      <td>500</td>\n",
       "      <td>550</td>\n",
       "      <td>200</td>\n",
       "      <td>3</td>\n",
       "      <td>3</td>\n",
       "      <td>smart</td>\n",
       "    </tr>\n",
       "    <tr>\n",
       "      <th>1</th>\n",
       "      <td>1000</td>\n",
       "      <td>30720</td>\n",
       "      <td>3000</td>\n",
       "      <td>1950</td>\n",
       "      <td>150</td>\n",
       "      <td>1</td>\n",
       "      <td>1</td>\n",
       "      <td>ultra</td>\n",
       "    </tr>\n",
       "  </tbody>\n",
       "</table>\n",
       "</div>"
      ],
      "text/plain": [
       "   messages_included  mb_per_month_included  minutes_included  \\\n",
       "0                 50                  15360               500   \n",
       "1               1000                  30720              3000   \n",
       "\n",
       "   rub_monthly_fee  rub_per_gb  rub_per_message  rub_per_minute tariff_name  \n",
       "0              550         200                3               3       smart  \n",
       "1             1950         150                1               1       ultra  "
      ]
     },
     "execution_count": 12,
     "metadata": {},
     "output_type": "execute_result"
    }
   ],
   "source": [
    "tariffs.head()"
   ]
  },
  {
   "cell_type": "code",
   "execution_count": 13,
   "metadata": {},
   "outputs": [
    {
     "name": "stdout",
     "output_type": "stream",
     "text": [
      "<class 'pandas.core.frame.DataFrame'>\n",
      "RangeIndex: 500 entries, 0 to 499\n",
      "Data columns (total 8 columns):\n",
      " #   Column      Non-Null Count  Dtype \n",
      "---  ------      --------------  ----- \n",
      " 0   user_id     500 non-null    int64 \n",
      " 1   age         500 non-null    int64 \n",
      " 2   churn_date  38 non-null     object\n",
      " 3   city        500 non-null    object\n",
      " 4   first_name  500 non-null    object\n",
      " 5   last_name   500 non-null    object\n",
      " 6   reg_date    500 non-null    object\n",
      " 7   tariff      500 non-null    object\n",
      "dtypes: int64(2), object(6)\n",
      "memory usage: 31.4+ KB\n"
     ]
    }
   ],
   "source": [
    "users.info()"
   ]
  },
  {
   "cell_type": "code",
   "execution_count": 14,
   "metadata": {},
   "outputs": [
    {
     "data": {
      "text/html": [
       "<div>\n",
       "<style scoped>\n",
       "    .dataframe tbody tr th:only-of-type {\n",
       "        vertical-align: middle;\n",
       "    }\n",
       "\n",
       "    .dataframe tbody tr th {\n",
       "        vertical-align: top;\n",
       "    }\n",
       "\n",
       "    .dataframe thead th {\n",
       "        text-align: right;\n",
       "    }\n",
       "</style>\n",
       "<table border=\"1\" class=\"dataframe\">\n",
       "  <thead>\n",
       "    <tr style=\"text-align: right;\">\n",
       "      <th></th>\n",
       "      <th>user_id</th>\n",
       "      <th>age</th>\n",
       "      <th>churn_date</th>\n",
       "      <th>city</th>\n",
       "      <th>first_name</th>\n",
       "      <th>last_name</th>\n",
       "      <th>reg_date</th>\n",
       "      <th>tariff</th>\n",
       "    </tr>\n",
       "  </thead>\n",
       "  <tbody>\n",
       "    <tr>\n",
       "      <th>0</th>\n",
       "      <td>1000</td>\n",
       "      <td>52</td>\n",
       "      <td>NaN</td>\n",
       "      <td>Краснодар</td>\n",
       "      <td>Рафаил</td>\n",
       "      <td>Верещагин</td>\n",
       "      <td>2018-05-25</td>\n",
       "      <td>ultra</td>\n",
       "    </tr>\n",
       "    <tr>\n",
       "      <th>1</th>\n",
       "      <td>1001</td>\n",
       "      <td>41</td>\n",
       "      <td>NaN</td>\n",
       "      <td>Москва</td>\n",
       "      <td>Иван</td>\n",
       "      <td>Ежов</td>\n",
       "      <td>2018-11-01</td>\n",
       "      <td>smart</td>\n",
       "    </tr>\n",
       "    <tr>\n",
       "      <th>2</th>\n",
       "      <td>1002</td>\n",
       "      <td>59</td>\n",
       "      <td>NaN</td>\n",
       "      <td>Стерлитамак</td>\n",
       "      <td>Евгений</td>\n",
       "      <td>Абрамович</td>\n",
       "      <td>2018-06-17</td>\n",
       "      <td>smart</td>\n",
       "    </tr>\n",
       "    <tr>\n",
       "      <th>3</th>\n",
       "      <td>1003</td>\n",
       "      <td>23</td>\n",
       "      <td>NaN</td>\n",
       "      <td>Москва</td>\n",
       "      <td>Белла</td>\n",
       "      <td>Белякова</td>\n",
       "      <td>2018-08-17</td>\n",
       "      <td>ultra</td>\n",
       "    </tr>\n",
       "    <tr>\n",
       "      <th>4</th>\n",
       "      <td>1004</td>\n",
       "      <td>68</td>\n",
       "      <td>NaN</td>\n",
       "      <td>Новокузнецк</td>\n",
       "      <td>Татьяна</td>\n",
       "      <td>Авдеенко</td>\n",
       "      <td>2018-05-14</td>\n",
       "      <td>ultra</td>\n",
       "    </tr>\n",
       "  </tbody>\n",
       "</table>\n",
       "</div>"
      ],
      "text/plain": [
       "   user_id  age churn_date         city first_name  last_name    reg_date  \\\n",
       "0     1000   52        NaN    Краснодар     Рафаил  Верещагин  2018-05-25   \n",
       "1     1001   41        NaN       Москва       Иван       Ежов  2018-11-01   \n",
       "2     1002   59        NaN  Стерлитамак    Евгений  Абрамович  2018-06-17   \n",
       "3     1003   23        NaN       Москва      Белла   Белякова  2018-08-17   \n",
       "4     1004   68        NaN  Новокузнецк    Татьяна   Авдеенко  2018-05-14   \n",
       "\n",
       "  tariff  \n",
       "0  ultra  \n",
       "1  smart  \n",
       "2  smart  \n",
       "3  ultra  \n",
       "4  ultra  "
      ]
     },
     "execution_count": 14,
     "metadata": {},
     "output_type": "execute_result"
    }
   ],
   "source": [
    "users.head()"
   ]
  },
  {
   "cell_type": "markdown",
   "metadata": {},
   "source": [
    "### Brief conclusion"
   ]
  },
  {
   "cell_type": "markdown",
   "metadata": {},
   "source": [
    "- dates, everywhere the data type should be brought to the timeline\n",
    "- NaN in the date of termination of use of the tariff - I would replace them with stubs, so that they can also be taken into account and choose negative values (for example, -10), so as not to cut them off accidentally later\n",
    "- users by their ID can be combined, perhaps into summary tables\n",
    "- The duration of the call in minutes should be rounded off, since it is company policy. The same should be done in megabytes - rounded.\n",
    "- there is a column \"unnamed\" which duplicates the index, because the table already contained a column with the indexes (could have been avoided by adding index_col=0 while reading)\n",
    "- there are no gaps in the data at first sight\n",
    "- were found zero values of the parameter duration of calls - saying that part of the tariff users does not use calls. All for the sake of Internet traffic, through which in turn can call (FaceTime, etc.), which many are using.\n",
    "- zero values for the traffic can be explained by people of retirement age, who less often use all the functionality of their devices and often their devices do not even support Internet access, or it is very difficult. \n",
    "\n",
    "Both of these zero values can also be due to newly registered users who have not had time to use the services. In general, you can cut them off, since they are summed up when creating summary tables - **it won't affect the revenue in any way** "
   ]
  },
  {
   "cell_type": "markdown",
   "metadata": {},
   "source": [
    "## 2. Data preprocessing"
   ]
  },
  {
   "cell_type": "markdown",
   "metadata": {},
   "source": [
    "First, I will bring all the data with dates to the timeline format\n"
   ]
  },
  {
   "cell_type": "code",
   "execution_count": 15,
   "metadata": {},
   "outputs": [],
   "source": [
    "calls['call_date'] = pd.to_datetime(calls['call_date'], format = '%Y-%m-%d')\n",
    "internet['session_date'] = pd.to_datetime(internet['session_date'], format = '%Y-%m-%d')\n",
    "messages['message_date'] = pd.to_datetime(messages['message_date'], format = '%Y-%m-%d')\n",
    "users['reg_date'] = pd.to_datetime(users['reg_date'], format = '%Y-%m-%d')"
   ]
  },
  {
   "cell_type": "markdown",
   "metadata": {},
   "source": [
    "Next, I will round up the minutes of calls and megabytes of Internet usage, due to company policy."
   ]
  },
  {
   "cell_type": "code",
   "execution_count": 16,
   "metadata": {},
   "outputs": [],
   "source": [
    "calls['duration'] = np.ceil(calls['duration'])\n",
    "internet['mb_used'] = np.ceil(internet['mb_used'])"
   ]
  },
  {
   "cell_type": "markdown",
   "metadata": {},
   "source": [
    "Next, I will add columns with months, for further grouping"
   ]
  },
  {
   "cell_type": "code",
   "execution_count": 17,
   "metadata": {},
   "outputs": [],
   "source": [
    "calls['month'] = calls['call_date'].dt.month\n",
    "internet['month'] = internet['session_date'].dt.month\n",
    "messages['month'] = messages['message_date'].dt.month\n",
    "users['month'] = users['reg_date'].dt.month\n",
    "internet.drop('Unnamed: 0', axis=1, inplace=True) #I delete a column that has no useful functionality"
   ]
  },
  {
   "cell_type": "markdown",
   "metadata": {},
   "source": [
    "Next, I will group the tables by user before merging them. This will also help avoid overloading the kernel for further table gluing"
   ]
  },
  {
   "cell_type": "code",
   "execution_count": 18,
   "metadata": {},
   "outputs": [],
   "source": [
    "calls_sum = calls.pivot_table(index=['user_id', 'month'], values='duration', aggfunc='sum').reset_index()\n",
    "internet_sum = internet.pivot_table(index=['user_id', 'month'], values='mb_used', aggfunc='sum').reset_index()\n",
    "messages_sum = messages.pivot_table(index=['user_id', 'month'], values='message_date', aggfunc='count').reset_index()"
   ]
  },
  {
   "cell_type": "markdown",
   "metadata": {},
   "source": [
    "Next I will merge the tables by user_id and add a column with gigabytes"
   ]
  },
  {
   "cell_type": "code",
   "execution_count": 19,
   "metadata": {},
   "outputs": [
    {
     "data": {
      "text/html": [
       "<div>\n",
       "<style scoped>\n",
       "    .dataframe tbody tr th:only-of-type {\n",
       "        vertical-align: middle;\n",
       "    }\n",
       "\n",
       "    .dataframe tbody tr th {\n",
       "        vertical-align: top;\n",
       "    }\n",
       "\n",
       "    .dataframe thead th {\n",
       "        text-align: right;\n",
       "    }\n",
       "</style>\n",
       "<table border=\"1\" class=\"dataframe\">\n",
       "  <thead>\n",
       "    <tr style=\"text-align: right;\">\n",
       "      <th></th>\n",
       "      <th>user_id</th>\n",
       "      <th>month</th>\n",
       "      <th>min_used</th>\n",
       "      <th>mb_used</th>\n",
       "      <th>mes_used</th>\n",
       "      <th>tariff_name</th>\n",
       "      <th>city</th>\n",
       "      <th>gb_used</th>\n",
       "    </tr>\n",
       "  </thead>\n",
       "  <tbody>\n",
       "    <tr>\n",
       "      <th>0</th>\n",
       "      <td>1000</td>\n",
       "      <td>5</td>\n",
       "      <td>159.0</td>\n",
       "      <td>2256.0</td>\n",
       "      <td>22.0</td>\n",
       "      <td>ultra</td>\n",
       "      <td>Краснодар</td>\n",
       "      <td>3</td>\n",
       "    </tr>\n",
       "    <tr>\n",
       "      <th>1</th>\n",
       "      <td>1000</td>\n",
       "      <td>6</td>\n",
       "      <td>172.0</td>\n",
       "      <td>23257.0</td>\n",
       "      <td>60.0</td>\n",
       "      <td>ultra</td>\n",
       "      <td>Краснодар</td>\n",
       "      <td>23</td>\n",
       "    </tr>\n",
       "    <tr>\n",
       "      <th>2</th>\n",
       "      <td>1000</td>\n",
       "      <td>7</td>\n",
       "      <td>340.0</td>\n",
       "      <td>14016.0</td>\n",
       "      <td>75.0</td>\n",
       "      <td>ultra</td>\n",
       "      <td>Краснодар</td>\n",
       "      <td>14</td>\n",
       "    </tr>\n",
       "    <tr>\n",
       "      <th>3</th>\n",
       "      <td>1000</td>\n",
       "      <td>8</td>\n",
       "      <td>408.0</td>\n",
       "      <td>14070.0</td>\n",
       "      <td>81.0</td>\n",
       "      <td>ultra</td>\n",
       "      <td>Краснодар</td>\n",
       "      <td>14</td>\n",
       "    </tr>\n",
       "    <tr>\n",
       "      <th>4</th>\n",
       "      <td>1000</td>\n",
       "      <td>9</td>\n",
       "      <td>466.0</td>\n",
       "      <td>14581.0</td>\n",
       "      <td>57.0</td>\n",
       "      <td>ultra</td>\n",
       "      <td>Краснодар</td>\n",
       "      <td>15</td>\n",
       "    </tr>\n",
       "  </tbody>\n",
       "</table>\n",
       "</div>"
      ],
      "text/plain": [
       "   user_id  month  min_used  mb_used  mes_used tariff_name       city  gb_used\n",
       "0     1000      5     159.0   2256.0      22.0       ultra  Краснодар        3\n",
       "1     1000      6     172.0  23257.0      60.0       ultra  Краснодар       23\n",
       "2     1000      7     340.0  14016.0      75.0       ultra  Краснодар       14\n",
       "3     1000      8     408.0  14070.0      81.0       ultra  Краснодар       14\n",
       "4     1000      9     466.0  14581.0      57.0       ultra  Краснодар       15"
      ]
     },
     "metadata": {},
     "output_type": "display_data"
    }
   ],
   "source": [
    "internet_calls = calls_sum.merge(internet_sum, on = ['user_id', 'month'], how='outer')\n",
    "internet_calls_messages = internet_calls.merge(messages_sum, on = ['user_id', 'month'], how='outer')\n",
    "i_c_m_u = pd.merge(left = internet_calls_messages, right = users[['user_id', 'tariff', 'city']], on = 'user_id', how = 'left')\n",
    "i_c_m_u['gb_used'] = np.ceil(i_c_m_u['mb_used'] / 1024).fillna(0).astype(int)\n",
    "i_c_m_u.columns = ['user_id', 'month', 'min_used', 'mb_used', 'mes_used', 'tariff_name', 'city', 'gb_used'] \n",
    "display(i_c_m_u.head())"
   ]
  },
  {
   "cell_type": "markdown",
   "metadata": {},
   "source": [
    "Changing the data type "
   ]
  },
  {
   "cell_type": "code",
   "execution_count": 20,
   "metadata": {},
   "outputs": [
    {
     "data": {
      "text/html": [
       "<div>\n",
       "<style scoped>\n",
       "    .dataframe tbody tr th:only-of-type {\n",
       "        vertical-align: middle;\n",
       "    }\n",
       "\n",
       "    .dataframe tbody tr th {\n",
       "        vertical-align: top;\n",
       "    }\n",
       "\n",
       "    .dataframe thead th {\n",
       "        text-align: right;\n",
       "    }\n",
       "</style>\n",
       "<table border=\"1\" class=\"dataframe\">\n",
       "  <thead>\n",
       "    <tr style=\"text-align: right;\">\n",
       "      <th></th>\n",
       "      <th>user_id</th>\n",
       "      <th>month</th>\n",
       "      <th>min_used</th>\n",
       "      <th>mb_used</th>\n",
       "      <th>mes_used</th>\n",
       "      <th>tariff_name</th>\n",
       "      <th>city</th>\n",
       "      <th>gb_used</th>\n",
       "    </tr>\n",
       "  </thead>\n",
       "  <tbody>\n",
       "    <tr>\n",
       "      <th>0</th>\n",
       "      <td>1000</td>\n",
       "      <td>5</td>\n",
       "      <td>159</td>\n",
       "      <td>2256</td>\n",
       "      <td>22</td>\n",
       "      <td>ultra</td>\n",
       "      <td>Краснодар</td>\n",
       "      <td>3</td>\n",
       "    </tr>\n",
       "    <tr>\n",
       "      <th>1</th>\n",
       "      <td>1000</td>\n",
       "      <td>6</td>\n",
       "      <td>172</td>\n",
       "      <td>23257</td>\n",
       "      <td>60</td>\n",
       "      <td>ultra</td>\n",
       "      <td>Краснодар</td>\n",
       "      <td>23</td>\n",
       "    </tr>\n",
       "    <tr>\n",
       "      <th>2</th>\n",
       "      <td>1000</td>\n",
       "      <td>7</td>\n",
       "      <td>340</td>\n",
       "      <td>14016</td>\n",
       "      <td>75</td>\n",
       "      <td>ultra</td>\n",
       "      <td>Краснодар</td>\n",
       "      <td>14</td>\n",
       "    </tr>\n",
       "    <tr>\n",
       "      <th>3</th>\n",
       "      <td>1000</td>\n",
       "      <td>8</td>\n",
       "      <td>408</td>\n",
       "      <td>14070</td>\n",
       "      <td>81</td>\n",
       "      <td>ultra</td>\n",
       "      <td>Краснодар</td>\n",
       "      <td>14</td>\n",
       "    </tr>\n",
       "    <tr>\n",
       "      <th>4</th>\n",
       "      <td>1000</td>\n",
       "      <td>9</td>\n",
       "      <td>466</td>\n",
       "      <td>14581</td>\n",
       "      <td>57</td>\n",
       "      <td>ultra</td>\n",
       "      <td>Краснодар</td>\n",
       "      <td>15</td>\n",
       "    </tr>\n",
       "  </tbody>\n",
       "</table>\n",
       "</div>"
      ],
      "text/plain": [
       "   user_id  month  min_used  mb_used  mes_used tariff_name       city  gb_used\n",
       "0     1000      5       159     2256        22       ultra  Краснодар        3\n",
       "1     1000      6       172    23257        60       ultra  Краснодар       23\n",
       "2     1000      7       340    14016        75       ultra  Краснодар       14\n",
       "3     1000      8       408    14070        81       ultra  Краснодар       14\n",
       "4     1000      9       466    14581        57       ultra  Краснодар       15"
      ]
     },
     "metadata": {},
     "output_type": "display_data"
    }
   ],
   "source": [
    "i_c_m_u['min_used'] = i_c_m_u['min_used'].fillna(0)\n",
    "i_c_m_u['min_used'] = i_c_m_u['min_used'].astype(int)\n",
    "i_c_m_u['gb_used'] = i_c_m_u['gb_used'].fillna(0)\n",
    "i_c_m_u['gb_used'] = i_c_m_u['gb_used'].astype(int)\n",
    "i_c_m_u['mb_used'] = i_c_m_u['mb_used'].fillna(0)\n",
    "i_c_m_u['mb_used'] = i_c_m_u['mb_used'].astype(int)\n",
    "i_c_m_u['mes_used'] = i_c_m_u['mes_used'].fillna(0)\n",
    "i_c_m_u['mes_used'] = i_c_m_u['mes_used'].astype(int)\n",
    "\n",
    "display(i_c_m_u.head())"
   ]
  },
  {
   "cell_type": "markdown",
   "metadata": {},
   "source": [
    "I will add information about tariffs"
   ]
  },
  {
   "cell_type": "code",
   "execution_count": 21,
   "metadata": {},
   "outputs": [
    {
     "data": {
      "text/html": [
       "<div>\n",
       "<style scoped>\n",
       "    .dataframe tbody tr th:only-of-type {\n",
       "        vertical-align: middle;\n",
       "    }\n",
       "\n",
       "    .dataframe tbody tr th {\n",
       "        vertical-align: top;\n",
       "    }\n",
       "\n",
       "    .dataframe thead th {\n",
       "        text-align: right;\n",
       "    }\n",
       "</style>\n",
       "<table border=\"1\" class=\"dataframe\">\n",
       "  <thead>\n",
       "    <tr style=\"text-align: right;\">\n",
       "      <th></th>\n",
       "      <th>user_id</th>\n",
       "      <th>month</th>\n",
       "      <th>min_used</th>\n",
       "      <th>mb_used</th>\n",
       "      <th>mes_used</th>\n",
       "      <th>tariff_name</th>\n",
       "      <th>city</th>\n",
       "      <th>gb_used</th>\n",
       "      <th>messages_included</th>\n",
       "      <th>mb_per_month_included</th>\n",
       "      <th>minutes_included</th>\n",
       "      <th>rub_monthly_fee</th>\n",
       "      <th>rub_per_gb</th>\n",
       "      <th>rub_per_message</th>\n",
       "      <th>rub_per_minute</th>\n",
       "    </tr>\n",
       "  </thead>\n",
       "  <tbody>\n",
       "    <tr>\n",
       "      <th>0</th>\n",
       "      <td>1000</td>\n",
       "      <td>5</td>\n",
       "      <td>159</td>\n",
       "      <td>2256</td>\n",
       "      <td>22</td>\n",
       "      <td>ultra</td>\n",
       "      <td>Краснодар</td>\n",
       "      <td>3</td>\n",
       "      <td>1000</td>\n",
       "      <td>30720</td>\n",
       "      <td>3000</td>\n",
       "      <td>1950</td>\n",
       "      <td>150</td>\n",
       "      <td>1</td>\n",
       "      <td>1</td>\n",
       "    </tr>\n",
       "    <tr>\n",
       "      <th>1</th>\n",
       "      <td>1000</td>\n",
       "      <td>6</td>\n",
       "      <td>172</td>\n",
       "      <td>23257</td>\n",
       "      <td>60</td>\n",
       "      <td>ultra</td>\n",
       "      <td>Краснодар</td>\n",
       "      <td>23</td>\n",
       "      <td>1000</td>\n",
       "      <td>30720</td>\n",
       "      <td>3000</td>\n",
       "      <td>1950</td>\n",
       "      <td>150</td>\n",
       "      <td>1</td>\n",
       "      <td>1</td>\n",
       "    </tr>\n",
       "    <tr>\n",
       "      <th>2</th>\n",
       "      <td>1000</td>\n",
       "      <td>7</td>\n",
       "      <td>340</td>\n",
       "      <td>14016</td>\n",
       "      <td>75</td>\n",
       "      <td>ultra</td>\n",
       "      <td>Краснодар</td>\n",
       "      <td>14</td>\n",
       "      <td>1000</td>\n",
       "      <td>30720</td>\n",
       "      <td>3000</td>\n",
       "      <td>1950</td>\n",
       "      <td>150</td>\n",
       "      <td>1</td>\n",
       "      <td>1</td>\n",
       "    </tr>\n",
       "    <tr>\n",
       "      <th>3</th>\n",
       "      <td>1000</td>\n",
       "      <td>8</td>\n",
       "      <td>408</td>\n",
       "      <td>14070</td>\n",
       "      <td>81</td>\n",
       "      <td>ultra</td>\n",
       "      <td>Краснодар</td>\n",
       "      <td>14</td>\n",
       "      <td>1000</td>\n",
       "      <td>30720</td>\n",
       "      <td>3000</td>\n",
       "      <td>1950</td>\n",
       "      <td>150</td>\n",
       "      <td>1</td>\n",
       "      <td>1</td>\n",
       "    </tr>\n",
       "    <tr>\n",
       "      <th>4</th>\n",
       "      <td>1000</td>\n",
       "      <td>9</td>\n",
       "      <td>466</td>\n",
       "      <td>14581</td>\n",
       "      <td>57</td>\n",
       "      <td>ultra</td>\n",
       "      <td>Краснодар</td>\n",
       "      <td>15</td>\n",
       "      <td>1000</td>\n",
       "      <td>30720</td>\n",
       "      <td>3000</td>\n",
       "      <td>1950</td>\n",
       "      <td>150</td>\n",
       "      <td>1</td>\n",
       "      <td>1</td>\n",
       "    </tr>\n",
       "  </tbody>\n",
       "</table>\n",
       "</div>"
      ],
      "text/plain": [
       "   user_id  month  min_used  mb_used  mes_used tariff_name       city  \\\n",
       "0     1000      5       159     2256        22       ultra  Краснодар   \n",
       "1     1000      6       172    23257        60       ultra  Краснодар   \n",
       "2     1000      7       340    14016        75       ultra  Краснодар   \n",
       "3     1000      8       408    14070        81       ultra  Краснодар   \n",
       "4     1000      9       466    14581        57       ultra  Краснодар   \n",
       "\n",
       "   gb_used  messages_included  mb_per_month_included  minutes_included  \\\n",
       "0        3               1000                  30720              3000   \n",
       "1       23               1000                  30720              3000   \n",
       "2       14               1000                  30720              3000   \n",
       "3       14               1000                  30720              3000   \n",
       "4       15               1000                  30720              3000   \n",
       "\n",
       "   rub_monthly_fee  rub_per_gb  rub_per_message  rub_per_minute  \n",
       "0             1950         150                1               1  \n",
       "1             1950         150                1               1  \n",
       "2             1950         150                1               1  \n",
       "3             1950         150                1               1  \n",
       "4             1950         150                1               1  "
      ]
     },
     "metadata": {},
     "output_type": "display_data"
    }
   ],
   "source": [
    "final = i_c_m_u.merge(tariffs, on = 'tariff_name')\n",
    "display(final.head())"
   ]
  },
  {
   "cell_type": "markdown",
   "metadata": {},
   "source": [
    "I'll calculate the profit"
   ]
  },
  {
   "cell_type": "code",
   "execution_count": 22,
   "metadata": {},
   "outputs": [
    {
     "data": {
      "text/html": [
       "<div>\n",
       "<style scoped>\n",
       "    .dataframe tbody tr th:only-of-type {\n",
       "        vertical-align: middle;\n",
       "    }\n",
       "\n",
       "    .dataframe tbody tr th {\n",
       "        vertical-align: top;\n",
       "    }\n",
       "\n",
       "    .dataframe thead th {\n",
       "        text-align: right;\n",
       "    }\n",
       "</style>\n",
       "<table border=\"1\" class=\"dataframe\">\n",
       "  <thead>\n",
       "    <tr style=\"text-align: right;\">\n",
       "      <th></th>\n",
       "      <th>user_id</th>\n",
       "      <th>month</th>\n",
       "      <th>min_used</th>\n",
       "      <th>mb_used</th>\n",
       "      <th>mes_used</th>\n",
       "      <th>tariff_name</th>\n",
       "      <th>city</th>\n",
       "      <th>gb_used</th>\n",
       "      <th>messages_included</th>\n",
       "      <th>mb_per_month_included</th>\n",
       "      <th>minutes_included</th>\n",
       "      <th>rub_monthly_fee</th>\n",
       "      <th>rub_per_gb</th>\n",
       "      <th>rub_per_message</th>\n",
       "      <th>rub_per_minute</th>\n",
       "      <th>profit</th>\n",
       "    </tr>\n",
       "  </thead>\n",
       "  <tbody>\n",
       "    <tr>\n",
       "      <th>0</th>\n",
       "      <td>1000</td>\n",
       "      <td>5</td>\n",
       "      <td>159</td>\n",
       "      <td>2256</td>\n",
       "      <td>22</td>\n",
       "      <td>ultra</td>\n",
       "      <td>Краснодар</td>\n",
       "      <td>3</td>\n",
       "      <td>1000</td>\n",
       "      <td>30720</td>\n",
       "      <td>3000</td>\n",
       "      <td>1950</td>\n",
       "      <td>150</td>\n",
       "      <td>1</td>\n",
       "      <td>1</td>\n",
       "      <td>1950.0</td>\n",
       "    </tr>\n",
       "    <tr>\n",
       "      <th>1</th>\n",
       "      <td>1000</td>\n",
       "      <td>6</td>\n",
       "      <td>172</td>\n",
       "      <td>23257</td>\n",
       "      <td>60</td>\n",
       "      <td>ultra</td>\n",
       "      <td>Краснодар</td>\n",
       "      <td>23</td>\n",
       "      <td>1000</td>\n",
       "      <td>30720</td>\n",
       "      <td>3000</td>\n",
       "      <td>1950</td>\n",
       "      <td>150</td>\n",
       "      <td>1</td>\n",
       "      <td>1</td>\n",
       "      <td>1950.0</td>\n",
       "    </tr>\n",
       "    <tr>\n",
       "      <th>2</th>\n",
       "      <td>1000</td>\n",
       "      <td>7</td>\n",
       "      <td>340</td>\n",
       "      <td>14016</td>\n",
       "      <td>75</td>\n",
       "      <td>ultra</td>\n",
       "      <td>Краснодар</td>\n",
       "      <td>14</td>\n",
       "      <td>1000</td>\n",
       "      <td>30720</td>\n",
       "      <td>3000</td>\n",
       "      <td>1950</td>\n",
       "      <td>150</td>\n",
       "      <td>1</td>\n",
       "      <td>1</td>\n",
       "      <td>1950.0</td>\n",
       "    </tr>\n",
       "    <tr>\n",
       "      <th>3</th>\n",
       "      <td>1000</td>\n",
       "      <td>8</td>\n",
       "      <td>408</td>\n",
       "      <td>14070</td>\n",
       "      <td>81</td>\n",
       "      <td>ultra</td>\n",
       "      <td>Краснодар</td>\n",
       "      <td>14</td>\n",
       "      <td>1000</td>\n",
       "      <td>30720</td>\n",
       "      <td>3000</td>\n",
       "      <td>1950</td>\n",
       "      <td>150</td>\n",
       "      <td>1</td>\n",
       "      <td>1</td>\n",
       "      <td>1950.0</td>\n",
       "    </tr>\n",
       "    <tr>\n",
       "      <th>4</th>\n",
       "      <td>1000</td>\n",
       "      <td>9</td>\n",
       "      <td>466</td>\n",
       "      <td>14581</td>\n",
       "      <td>57</td>\n",
       "      <td>ultra</td>\n",
       "      <td>Краснодар</td>\n",
       "      <td>15</td>\n",
       "      <td>1000</td>\n",
       "      <td>30720</td>\n",
       "      <td>3000</td>\n",
       "      <td>1950</td>\n",
       "      <td>150</td>\n",
       "      <td>1</td>\n",
       "      <td>1</td>\n",
       "      <td>1950.0</td>\n",
       "    </tr>\n",
       "    <tr>\n",
       "      <th>5</th>\n",
       "      <td>1000</td>\n",
       "      <td>10</td>\n",
       "      <td>350</td>\n",
       "      <td>14717</td>\n",
       "      <td>73</td>\n",
       "      <td>ultra</td>\n",
       "      <td>Краснодар</td>\n",
       "      <td>15</td>\n",
       "      <td>1000</td>\n",
       "      <td>30720</td>\n",
       "      <td>3000</td>\n",
       "      <td>1950</td>\n",
       "      <td>150</td>\n",
       "      <td>1</td>\n",
       "      <td>1</td>\n",
       "      <td>1950.0</td>\n",
       "    </tr>\n",
       "    <tr>\n",
       "      <th>6</th>\n",
       "      <td>1000</td>\n",
       "      <td>11</td>\n",
       "      <td>338</td>\n",
       "      <td>14768</td>\n",
       "      <td>58</td>\n",
       "      <td>ultra</td>\n",
       "      <td>Краснодар</td>\n",
       "      <td>15</td>\n",
       "      <td>1000</td>\n",
       "      <td>30720</td>\n",
       "      <td>3000</td>\n",
       "      <td>1950</td>\n",
       "      <td>150</td>\n",
       "      <td>1</td>\n",
       "      <td>1</td>\n",
       "      <td>1950.0</td>\n",
       "    </tr>\n",
       "    <tr>\n",
       "      <th>7</th>\n",
       "      <td>1000</td>\n",
       "      <td>12</td>\n",
       "      <td>333</td>\n",
       "      <td>9827</td>\n",
       "      <td>70</td>\n",
       "      <td>ultra</td>\n",
       "      <td>Краснодар</td>\n",
       "      <td>10</td>\n",
       "      <td>1000</td>\n",
       "      <td>30720</td>\n",
       "      <td>3000</td>\n",
       "      <td>1950</td>\n",
       "      <td>150</td>\n",
       "      <td>1</td>\n",
       "      <td>1</td>\n",
       "      <td>1950.0</td>\n",
       "    </tr>\n",
       "    <tr>\n",
       "      <th>8</th>\n",
       "      <td>1003</td>\n",
       "      <td>8</td>\n",
       "      <td>380</td>\n",
       "      <td>8571</td>\n",
       "      <td>37</td>\n",
       "      <td>ultra</td>\n",
       "      <td>Москва</td>\n",
       "      <td>9</td>\n",
       "      <td>1000</td>\n",
       "      <td>30720</td>\n",
       "      <td>3000</td>\n",
       "      <td>1950</td>\n",
       "      <td>150</td>\n",
       "      <td>1</td>\n",
       "      <td>1</td>\n",
       "      <td>1950.0</td>\n",
       "    </tr>\n",
       "    <tr>\n",
       "      <th>9</th>\n",
       "      <td>1003</td>\n",
       "      <td>9</td>\n",
       "      <td>961</td>\n",
       "      <td>12479</td>\n",
       "      <td>91</td>\n",
       "      <td>ultra</td>\n",
       "      <td>Москва</td>\n",
       "      <td>13</td>\n",
       "      <td>1000</td>\n",
       "      <td>30720</td>\n",
       "      <td>3000</td>\n",
       "      <td>1950</td>\n",
       "      <td>150</td>\n",
       "      <td>1</td>\n",
       "      <td>1</td>\n",
       "      <td>1950.0</td>\n",
       "    </tr>\n",
       "  </tbody>\n",
       "</table>\n",
       "</div>"
      ],
      "text/plain": [
       "   user_id  month  min_used  mb_used  mes_used tariff_name       city  \\\n",
       "0     1000      5       159     2256        22       ultra  Краснодар   \n",
       "1     1000      6       172    23257        60       ultra  Краснодар   \n",
       "2     1000      7       340    14016        75       ultra  Краснодар   \n",
       "3     1000      8       408    14070        81       ultra  Краснодар   \n",
       "4     1000      9       466    14581        57       ultra  Краснодар   \n",
       "5     1000     10       350    14717        73       ultra  Краснодар   \n",
       "6     1000     11       338    14768        58       ultra  Краснодар   \n",
       "7     1000     12       333     9827        70       ultra  Краснодар   \n",
       "8     1003      8       380     8571        37       ultra     Москва   \n",
       "9     1003      9       961    12479        91       ultra     Москва   \n",
       "\n",
       "   gb_used  messages_included  mb_per_month_included  minutes_included  \\\n",
       "0        3               1000                  30720              3000   \n",
       "1       23               1000                  30720              3000   \n",
       "2       14               1000                  30720              3000   \n",
       "3       14               1000                  30720              3000   \n",
       "4       15               1000                  30720              3000   \n",
       "5       15               1000                  30720              3000   \n",
       "6       15               1000                  30720              3000   \n",
       "7       10               1000                  30720              3000   \n",
       "8        9               1000                  30720              3000   \n",
       "9       13               1000                  30720              3000   \n",
       "\n",
       "   rub_monthly_fee  rub_per_gb  rub_per_message  rub_per_minute  profit  \n",
       "0             1950         150                1               1  1950.0  \n",
       "1             1950         150                1               1  1950.0  \n",
       "2             1950         150                1               1  1950.0  \n",
       "3             1950         150                1               1  1950.0  \n",
       "4             1950         150                1               1  1950.0  \n",
       "5             1950         150                1               1  1950.0  \n",
       "6             1950         150                1               1  1950.0  \n",
       "7             1950         150                1               1  1950.0  \n",
       "8             1950         150                1               1  1950.0  \n",
       "9             1950         150                1               1  1950.0  "
      ]
     },
     "metadata": {},
     "output_type": "display_data"
    }
   ],
   "source": [
    "def profit(row):\n",
    "    revenue = 0\n",
    "    minutes = row['min_used']\n",
    "    gbs = row['gb_used']\n",
    "    mes = row['mes_used']\n",
    "    revenue = row['rub_monthly_fee'] + max(0, row['min_used'] - row['minutes_included']) * row['rub_per_minute'] + max(0, row['gb_used'] - row['mb_per_month_included']/1024) * row['rub_per_gb'] + max(0, row['mes_used'] - row['messages_included']) * row['rub_per_message']\n",
    " \n",
    "    return revenue\n",
    " \n",
    "\n",
    "final['profit'] = final.apply(profit, axis = 1)\n",
    "display(final.head(10))"
   ]
  },
  {
   "cell_type": "markdown",
   "metadata": {},
   "source": [
    "## 3. Data analysis"
   ]
  },
  {
   "cell_type": "markdown",
   "metadata": {},
   "source": [
    "### 3.1 Calculation of the mean number, variance, and standard deviation of the consumed units"
   ]
  },
  {
   "cell_type": "code",
   "execution_count": 23,
   "metadata": {},
   "outputs": [
    {
     "data": {
      "text/html": [
       "<div>\n",
       "<style scoped>\n",
       "    .dataframe tbody tr th:only-of-type {\n",
       "        vertical-align: middle;\n",
       "    }\n",
       "\n",
       "    .dataframe tbody tr th {\n",
       "        vertical-align: top;\n",
       "    }\n",
       "\n",
       "    .dataframe thead tr th {\n",
       "        text-align: left;\n",
       "    }\n",
       "\n",
       "    .dataframe thead tr:last-of-type th {\n",
       "        text-align: right;\n",
       "    }\n",
       "</style>\n",
       "<table border=\"1\" class=\"dataframe\">\n",
       "  <thead>\n",
       "    <tr>\n",
       "      <th></th>\n",
       "      <th colspan=\"3\" halign=\"left\">mean</th>\n",
       "      <th colspan=\"3\" halign=\"left\">std</th>\n",
       "      <th colspan=\"3\" halign=\"left\">var</th>\n",
       "    </tr>\n",
       "    <tr>\n",
       "      <th></th>\n",
       "      <th>gb_used</th>\n",
       "      <th>mes_used</th>\n",
       "      <th>min_used</th>\n",
       "      <th>gb_used</th>\n",
       "      <th>mes_used</th>\n",
       "      <th>min_used</th>\n",
       "      <th>gb_used</th>\n",
       "      <th>mes_used</th>\n",
       "      <th>min_used</th>\n",
       "    </tr>\n",
       "    <tr>\n",
       "      <th>tariff_name</th>\n",
       "      <th></th>\n",
       "      <th></th>\n",
       "      <th></th>\n",
       "      <th></th>\n",
       "      <th></th>\n",
       "      <th></th>\n",
       "      <th></th>\n",
       "      <th></th>\n",
       "      <th></th>\n",
       "    </tr>\n",
       "  </thead>\n",
       "  <tbody>\n",
       "    <tr>\n",
       "      <th>smart</th>\n",
       "      <td>16.359354</td>\n",
       "      <td>33.384029</td>\n",
       "      <td>417.934948</td>\n",
       "      <td>5.758498</td>\n",
       "      <td>28.227876</td>\n",
       "      <td>190.313730</td>\n",
       "      <td>33.160304</td>\n",
       "      <td>796.812958</td>\n",
       "      <td>36219.315784</td>\n",
       "    </tr>\n",
       "    <tr>\n",
       "      <th>ultra</th>\n",
       "      <td>19.525888</td>\n",
       "      <td>49.363452</td>\n",
       "      <td>526.623350</td>\n",
       "      <td>9.865848</td>\n",
       "      <td>47.804457</td>\n",
       "      <td>317.606098</td>\n",
       "      <td>97.334949</td>\n",
       "      <td>2285.266143</td>\n",
       "      <td>100873.633397</td>\n",
       "    </tr>\n",
       "  </tbody>\n",
       "</table>\n",
       "</div>"
      ],
      "text/plain": [
       "                  mean                              std             \\\n",
       "               gb_used   mes_used    min_used   gb_used   mes_used   \n",
       "tariff_name                                                          \n",
       "smart        16.359354  33.384029  417.934948  5.758498  28.227876   \n",
       "ultra        19.525888  49.363452  526.623350  9.865848  47.804457   \n",
       "\n",
       "                               var                              \n",
       "               min_used    gb_used     mes_used       min_used  \n",
       "tariff_name                                                     \n",
       "smart        190.313730  33.160304   796.812958   36219.315784  \n",
       "ultra        317.606098  97.334949  2285.266143  100873.633397  "
      ]
     },
     "execution_count": 23,
     "metadata": {},
     "output_type": "execute_result"
    }
   ],
   "source": [
    "final.pivot_table(index='tariff_name', values=['min_used', 'gb_used', 'mes_used'],\n",
    "                       aggfunc=['mean', 'std', 'var'])"
   ]
  },
  {
   "cell_type": "markdown",
   "metadata": {},
   "source": [
    "Based on the average values we can say:\n",
    "\n",
    "**1)** Users of the tariff ultra, use slightly more minutes per month than users of smart. Nowadays minutes are not as important to users as gigabytes, the tariff was rather taken for it. In addition, strange as it may seem, ultra users spend their minutes a little more than the smart threshold\n",
    "\n",
    "**2)** Users of the smart tariff more than double their limit in gigabytes and outpace ultra tariff users. Ultra users also increase their limit, but by 30%.\n",
    "\n",
    "**3)** ultra tariff users send slightly more messages than smart users. At the same time neither the latter nor the others exceed the limit"
   ]
  },
  {
   "cell_type": "markdown",
   "metadata": {},
   "source": [
    "### 3.2 Построение гистограмм"
   ]
  },
  {
   "cell_type": "code",
   "execution_count": 24,
   "metadata": {},
   "outputs": [],
   "source": [
    "def graph(tar, histname):\n",
    "    fig = plt.figure(figsize=(15,5)) #set the size of the graph\n",
    " \n",
    "    ax1 = fig.add_subplot(1, 3, 1) #add_subplot() method to add areas for plotting\n",
    "    ax2 = fig.add_subplot(1, 3, 2)\n",
    "    ax3 = fig.add_subplot(1, 3, 3)\n",
    " \n",
    "    ax2.set_title(histname) #let's sign the graph\n",
    " \n",
    "    ax1.grid() #make a grid on the axes\n",
    "    ax2.grid()\n",
    "    ax3.grid()\n",
    " \n",
    "    ax1.hist(tar['min_used'], color='red', bins=15, alpha=0.6) #use the hist() method to draw a histogram\n",
    "    ax2.hist(tar['mes_used'], color='red', bins=15, alpha=0.6) #by passing in parameters the column by which to build\n",
    "    ax3.hist(tar['gb_used'], color='red', bins=15, alpha=0.6) #color, number of baskets, transparency\n",
    " \n",
    "    ax1.set_xlabel('Number of minutes used, month') #let's sign the x-axis\n",
    "    ax1.set_ylabel('Number of clients, month') #let's sign the y-axis\n",
    "    ax2.set_xlabel('Number of messages, month')\n",
    "    ax3.set_xlabel('Number of gigabytes, month')\n",
    "        \n",
    "    plt.show()"
   ]
  },
  {
   "cell_type": "markdown",
   "metadata": {},
   "source": [
    "#### 3.2.1 For Smart Tariff users"
   ]
  },
  {
   "cell_type": "code",
   "execution_count": 25,
   "metadata": {},
   "outputs": [
    {
     "data": {
      "image/png": "[encoded data removed]",
      "text/plain": [
       "<Figure size 1080x360 with 3 Axes>"
      ]
     },
     "metadata": {
      "needs_background": "light"
     },
     "output_type": "display_data"
    }
   ],
   "source": [
    "graph(final.query('tariff_name == \"smart\"'), 'Histogram of Smart tariff resource consumption')"
   ]
  },
  {
   "cell_type": "markdown",
   "metadata": {},
   "source": [
    "#### 3.2.2 For Ultra Tariff users"
   ]
  },
  {
   "cell_type": "code",
   "execution_count": 26,
   "metadata": {},
   "outputs": [
    {
     "data": {
      "image/png": "[encoded data removed]",
      "text/plain": [
       "<Figure size 1080x360 with 3 Axes>"
      ]
     },
     "metadata": {
      "needs_background": "light"
     },
     "output_type": "display_data"
    }
   ],
   "source": [
    "graph(final.query('tariff_name == \"ultra\"'), 'Histogram of Ultra tariff resource consumption')"
   ]
  },
  {
   "cell_type": "markdown",
   "metadata": {},
   "source": [
    "The bar graphs show:\n",
    "\n",
    "**1)** Users of the tariff ultra equally like to say both 0 minutes per month, and 750. This also confirms the hypothesis that this tariff is taken for the sake of the Internet\n",
    "\n",
    "**2)** Almost nobody uses messages\n",
    "\n",
    "**3)** By the number of gigabytes the graphs are also generally similar"
   ]
  },
  {
   "cell_type": "markdown",
   "metadata": {},
   "source": [
    "## 4. Hypothesis testing"
   ]
  },
  {
   "cell_type": "markdown",
   "metadata": {},
   "source": [
    "Before I do that, I'll clean up the table"
   ]
  },
  {
   "cell_type": "code",
   "execution_count": 27,
   "metadata": {},
   "outputs": [],
   "source": [
    "final.drop('mb_used', axis = 1, inplace = True)\n",
    "final.drop('messages_included', axis=1, inplace=True)\n",
    "final.drop('mb_per_month_included', axis=1, inplace=True)\n",
    "final.drop('minutes_included', axis=1, inplace=True)\n",
    "final.drop('rub_monthly_fee', axis=1, inplace=True)\n",
    "final.drop('rub_per_gb', axis=1, inplace=True)\n",
    "final.drop('rub_per_message', axis=1, inplace=True)\n",
    "final.drop('rub_per_minute', axis=1, inplace=True)"
   ]
  },
  {
   "cell_type": "markdown",
   "metadata": {},
   "source": [
    "### 4.1 Now I will test the hypothesis that the average revenue from smart tariff users is not equal to the same in Ultra"
   ]
  },
  {
   "cell_type": "markdown",
   "metadata": {},
   "source": [
    "H0: revenue from Ultra tariff users is equal to revenue from Smart tariff users\n",
    "\n",
    "H1: revenue from Ultra tariff users is different from revenue from Smart tariff users"
   ]
  },
  {
   "cell_type": "code",
   "execution_count": 28,
   "metadata": {},
   "outputs": [
    {
     "name": "stdout",
     "output_type": "stream",
     "text": [
      "Average revenue Smart :  1294.6393001345896\n",
      "Average revenue Ultra :  2071.0659898477156\n",
      "p-meaning: 2.9776448000521676e-158\n",
      "Rejecting the null hypothesis\n"
     ]
    }
   ],
   "source": [
    "smart_profit = final.query('tariff_name == \"smart\"')['profit']\n",
    "ultra_profit = final.query('tariff_name == \"ultra\"')['profit']\n",
    "\n",
    "print('Average revenue Smart : ', smart_profit.mean())\n",
    "print('Average revenue Ultra : ', ultra_profit.mean())\n",
    "\n",
    "alpha = 0.05 #I take the five percent significance level\n",
    "\n",
    "results = st.ttest_ind(smart_profit, ultra_profit, equal_var = True) \n",
    "\n",
    "print('p-meaning:', results.pvalue) \n",
    "\n",
    "if results.pvalue < alpha:\n",
    "    print(\"Rejecting the null hypothesis\")\n",
    "else:\n",
    "    print(\"It was not possible to reject the null hypothesis\")"
   ]
  },
  {
   "cell_type": "markdown",
   "metadata": {},
   "source": [
    "The null hypothesis of equality of average revenues is rejected at the 5% significance level, that is, the probability that we are wrong is 5%. \n",
    "\n",
    "Or in other words: the average revenue values from Smart and Ultra tariffs are not equal with 95% probability."
   ]
  },
  {
   "cell_type": "markdown",
   "metadata": {},
   "source": [
    "### 4.2 Next we will test the hypothesis that the average revenue from users from Moscow, different from the same in Russia."
   ]
  },
  {
   "cell_type": "markdown",
   "metadata": {},
   "source": [
    "H0: revenue from Moscow users equals revenue from Russian users\n",
    "\n",
    "H1: revenue from Moscow users is different from revenue from Russian users"
   ]
  },
  {
   "cell_type": "code",
   "execution_count": 29,
   "metadata": {},
   "outputs": [
    {
     "name": "stdout",
     "output_type": "stream",
     "text": [
      "Average revenue from Moscow :  1550.8052373158755\n",
      "Average revenue from Russia :  1528.3169419900116\n",
      "p-meaning: 0.531666503831252\n",
      "It was not possible to reject the null hypothesis\n"
     ]
    }
   ],
   "source": [
    "moscow_profit = final.query('city == \"Москва\"')['profit']\n",
    "russia_profit = final.query('city != \"Москва\"')['profit']\n",
    "\n",
    "print('Average revenue from Moscow : ', moscow_profit.mean())\n",
    "print('Average revenue from Russia : ', russia_profit.mean())\n",
    "\n",
    "alpha = 0.05 #I take the five percent significance level\n",
    "\n",
    "results = st.ttest_ind(moscow_profit, russia_profit, equal_var = True) \n",
    "\n",
    "print('p-meaning:', results.pvalue) \n",
    "\n",
    "if results.pvalue < alpha:\n",
    "    print(\"Rejecting the null hypothesis\")\n",
    "else:\n",
    "    print(\"It was not possible to reject the null hypothesis\")"
   ]
  },
  {
   "cell_type": "markdown",
   "metadata": {},
   "source": [
    "The null hypothesis of equal revenue from Moscow and Russia users is confirmed at the five percent level. \n",
    "\n",
    "Or in other words: the average revenues from Moscow and Russia users are equal with 95% probability."
   ]
  },
  {
   "cell_type": "markdown",
   "metadata": {},
   "source": [
    "# 5. General conclusion"
   ]
  },
  {
   "cell_type": "markdown",
   "metadata": {},
   "source": [
    "- **A brief overview of the work performed:** preprocessing of data was performed, including data type changes, rounding of minutes and megabytes used, grouping by months, linking of tables and calculation of profits. As part of the analysis, the average use of minutes and megabytes provided by tariffs was calculated. Hypotheses about average revenue were tested.\n",
    "\n",
    "- **Main conclusions:** 1) Ultra users bring more profit to Megaline than Smart users. It is worth putting marketing emphasis on it, as they almost do not use the packages provided 2) The company's average revenue from users in the country and in Moscow does not differ. Their services and packages are consumed evenly, there is no such a pattern that in the regions they use Smart more 3) The aggregate revenue is higher for Smart due to a larger number of clients"
   ]
  }
 ],
 "metadata": {
  "ExecuteTimeLog": [
   {
    "duration": 414,
    "start_time": "2021-06-28T19:29:28.642Z"
   },
   {
    "duration": 1379,
    "start_time": "2021-06-28T19:29:31.865Z"
   },
   {
    "duration": 29,
    "start_time": "2021-06-28T19:29:34.223Z"
   },
   {
    "duration": 21,
    "start_time": "2021-06-28T19:29:59.843Z"
   },
   {
    "duration": 13,
    "start_time": "2021-06-28T19:30:05.500Z"
   },
   {
    "duration": 23,
    "start_time": "2021-06-28T19:30:35.345Z"
   },
   {
    "duration": 13,
    "start_time": "2021-06-28T19:30:48.594Z"
   },
   {
    "duration": 20,
    "start_time": "2021-06-28T19:31:26.634Z"
   },
   {
    "duration": 12,
    "start_time": "2021-06-28T19:31:38.324Z"
   },
   {
    "duration": 9,
    "start_time": "2021-06-28T19:31:56.235Z"
   },
   {
    "duration": 36,
    "start_time": "2021-06-28T19:32:08.798Z"
   },
   {
    "duration": 34,
    "start_time": "2021-06-28T19:32:21.431Z"
   },
   {
    "duration": 27,
    "start_time": "2021-06-28T19:32:38.656Z"
   },
   {
    "duration": 16,
    "start_time": "2021-06-28T19:33:05.003Z"
   },
   {
    "duration": 22,
    "start_time": "2021-06-28T19:33:24.158Z"
   },
   {
    "duration": 315,
    "start_time": "2021-06-29T18:48:13.521Z"
   },
   {
    "duration": 1417,
    "start_time": "2021-06-29T18:48:19.984Z"
   },
   {
    "duration": 44,
    "start_time": "2021-06-29T18:48:21.403Z"
   },
   {
    "duration": 31,
    "start_time": "2021-06-29T18:48:21.450Z"
   },
   {
    "duration": 27,
    "start_time": "2021-06-29T18:48:22.674Z"
   },
   {
    "duration": 17,
    "start_time": "2021-06-29T18:48:23.292Z"
   },
   {
    "duration": 21,
    "start_time": "2021-06-29T18:48:23.915Z"
   },
   {
    "duration": 2128,
    "start_time": "2021-06-29T18:48:27.295Z"
   },
   {
    "duration": 42,
    "start_time": "2021-06-29T18:49:01.848Z"
   },
   {
    "duration": 75,
    "start_time": "2021-06-29T18:53:09.570Z"
   },
   {
    "duration": 21,
    "start_time": "2021-06-29T18:53:19.016Z"
   },
   {
    "duration": 6547,
    "start_time": "2021-06-29T18:54:39.998Z"
   },
   {
    "duration": 21,
    "start_time": "2021-06-29T18:55:06.759Z"
   },
   {
    "duration": 17,
    "start_time": "2021-06-29T19:07:16.625Z"
   },
   {
    "duration": 17,
    "start_time": "2021-06-29T19:07:49.266Z"
   },
   {
    "duration": 503,
    "start_time": "2021-06-29T19:07:55.917Z"
   },
   {
    "duration": 35,
    "start_time": "2021-06-29T19:07:56.968Z"
   },
   {
    "duration": 32,
    "start_time": "2021-06-29T19:07:57.636Z"
   },
   {
    "duration": 27,
    "start_time": "2021-06-29T19:07:58.195Z"
   },
   {
    "duration": 18,
    "start_time": "2021-06-29T19:07:58.719Z"
   },
   {
    "duration": 20,
    "start_time": "2021-06-29T19:07:59.322Z"
   },
   {
    "duration": 89,
    "start_time": "2021-06-29T19:08:02.851Z"
   },
   {
    "duration": 16,
    "start_time": "2021-06-29T19:08:05.221Z"
   },
   {
    "duration": 7,
    "start_time": "2021-06-29T19:16:43.213Z"
   },
   {
    "duration": 24,
    "start_time": "2021-06-29T19:18:03.013Z"
   },
   {
    "duration": 466,
    "start_time": "2021-06-29T19:22:07.707Z"
   },
   {
    "duration": 312,
    "start_time": "2021-06-29T19:25:09.510Z"
   },
   {
    "duration": 4245,
    "start_time": "2021-06-29T19:25:18.268Z"
   },
   {
    "duration": 44,
    "start_time": "2021-06-29T19:25:22.515Z"
   },
   {
    "duration": 30,
    "start_time": "2021-06-29T19:25:22.562Z"
   },
   {
    "duration": 25,
    "start_time": "2021-06-29T19:25:22.595Z"
   },
   {
    "duration": 49,
    "start_time": "2021-06-29T19:25:22.622Z"
   },
   {
    "duration": 24,
    "start_time": "2021-06-29T19:25:22.673Z"
   },
   {
    "duration": 121,
    "start_time": "2021-06-29T19:25:22.699Z"
   },
   {
    "duration": 2780,
    "start_time": "2021-06-29T19:28:25.505Z"
   },
   {
    "duration": 48,
    "start_time": "2021-06-29T19:28:28.288Z"
   },
   {
    "duration": 42,
    "start_time": "2021-06-29T19:28:28.339Z"
   },
   {
    "duration": 35,
    "start_time": "2021-06-29T19:28:28.385Z"
   },
   {
    "duration": 43,
    "start_time": "2021-06-29T19:28:28.422Z"
   },
   {
    "duration": 22,
    "start_time": "2021-06-29T19:28:28.467Z"
   },
   {
    "duration": 128,
    "start_time": "2021-06-29T19:28:28.491Z"
   },
   {
    "duration": 6,
    "start_time": "2021-06-29T19:28:28.623Z"
   },
   {
    "duration": 475,
    "start_time": "2021-06-29T19:28:28.631Z"
   },
   {
    "duration": 284,
    "start_time": "2021-06-29T19:30:10.197Z"
   },
   {
    "duration": 361,
    "start_time": "2021-06-29T19:30:48.020Z"
   },
   {
    "duration": 66,
    "start_time": "2021-06-29T19:31:11.409Z"
   },
   {
    "duration": 513,
    "start_time": "2021-06-29T19:31:28.438Z"
   },
   {
    "duration": 36,
    "start_time": "2021-06-29T19:31:28.954Z"
   },
   {
    "duration": 30,
    "start_time": "2021-06-29T19:31:28.993Z"
   },
   {
    "duration": 42,
    "start_time": "2021-06-29T19:31:29.025Z"
   },
   {
    "duration": 15,
    "start_time": "2021-06-29T19:31:29.070Z"
   },
   {
    "duration": 25,
    "start_time": "2021-06-29T19:31:29.087Z"
   },
   {
    "duration": 102,
    "start_time": "2021-06-29T19:31:29.155Z"
   },
   {
    "duration": 4,
    "start_time": "2021-06-29T19:31:29.259Z"
   },
   {
    "duration": 92,
    "start_time": "2021-06-29T19:31:29.267Z"
   },
   {
    "duration": 83,
    "start_time": "2021-06-29T19:31:45.506Z"
   },
   {
    "duration": 367,
    "start_time": "2021-06-29T19:32:15.635Z"
   },
   {
    "duration": 88,
    "start_time": "2021-06-29T19:32:29.117Z"
   },
   {
    "duration": 69,
    "start_time": "2021-06-29T19:32:39.059Z"
   },
   {
    "duration": 76,
    "start_time": "2021-06-29T19:32:49.279Z"
   },
   {
    "duration": 267,
    "start_time": "2021-06-29T19:33:52.305Z"
   },
   {
    "duration": 305,
    "start_time": "2021-06-29T19:36:51.531Z"
   },
   {
    "duration": 2105,
    "start_time": "2021-06-29T19:36:57.107Z"
   },
   {
    "duration": 44,
    "start_time": "2021-06-29T19:36:59.215Z"
   },
   {
    "duration": 31,
    "start_time": "2021-06-29T19:36:59.262Z"
   },
   {
    "duration": 26,
    "start_time": "2021-06-29T19:36:59.295Z"
   },
   {
    "duration": 40,
    "start_time": "2021-06-29T19:36:59.323Z"
   },
   {
    "duration": 27,
    "start_time": "2021-06-29T19:36:59.366Z"
   },
   {
    "duration": 96,
    "start_time": "2021-06-29T19:37:00.932Z"
   },
   {
    "duration": 4551,
    "start_time": "2021-06-29T19:37:04.368Z"
   },
   {
    "duration": 266,
    "start_time": "2021-06-29T19:37:47.478Z"
   },
   {
    "duration": 75,
    "start_time": "2021-06-29T19:37:55.987Z"
   },
   {
    "duration": 128,
    "start_time": "2021-06-29T19:39:33.393Z"
   },
   {
    "duration": 132,
    "start_time": "2021-06-29T19:39:51.081Z"
   },
   {
    "duration": 367,
    "start_time": "2021-06-29T19:41:20.039Z"
   },
   {
    "duration": 240,
    "start_time": "2021-06-29T19:41:28.581Z"
   },
   {
    "duration": 215,
    "start_time": "2021-06-30T05:03:06.284Z"
   },
   {
    "duration": 947,
    "start_time": "2021-06-30T05:03:11.916Z"
   },
   {
    "duration": 46,
    "start_time": "2021-06-30T05:03:12.865Z"
   },
   {
    "duration": 24,
    "start_time": "2021-06-30T05:03:14.638Z"
   },
   {
    "duration": 976,
    "start_time": "2021-06-30T05:06:28.027Z"
   },
   {
    "duration": 31,
    "start_time": "2021-06-30T05:06:29.005Z"
   },
   {
    "duration": 20,
    "start_time": "2021-06-30T05:06:29.038Z"
   },
   {
    "duration": 1996,
    "start_time": "2021-06-30T05:06:57.859Z"
   },
   {
    "duration": 171,
    "start_time": "2021-06-30T05:07:03.576Z"
   },
   {
    "duration": 176,
    "start_time": "2021-06-30T05:07:03.988Z"
   },
   {
    "duration": 176,
    "start_time": "2021-06-30T05:07:04.885Z"
   },
   {
    "duration": 997,
    "start_time": "2021-06-30T05:07:08.493Z"
   },
   {
    "duration": 35,
    "start_time": "2021-06-30T05:07:09.493Z"
   },
   {
    "duration": 22,
    "start_time": "2021-06-30T05:07:09.530Z"
   },
   {
    "duration": 19,
    "start_time": "2021-06-30T05:07:09.636Z"
   },
   {
    "duration": 17,
    "start_time": "2021-06-30T05:07:10.588Z"
   },
   {
    "duration": 13,
    "start_time": "2021-06-30T05:07:11.106Z"
   },
   {
    "duration": 71,
    "start_time": "2021-06-30T05:07:23.021Z"
   },
   {
    "duration": 200,
    "start_time": "2021-06-30T05:09:46.300Z"
   },
   {
    "duration": 254,
    "start_time": "2021-06-30T05:10:07.810Z"
   },
   {
    "duration": 430,
    "start_time": "2021-06-30T05:10:26.187Z"
   },
   {
    "duration": 6,
    "start_time": "2021-06-30T05:10:33.250Z"
   },
   {
    "duration": 175,
    "start_time": "2021-06-30T05:11:26.914Z"
   },
   {
    "duration": 9,
    "start_time": "2021-06-30T05:13:17.895Z"
   },
   {
    "duration": 192,
    "start_time": "2021-06-30T05:13:36.053Z"
   },
   {
    "duration": 6,
    "start_time": "2021-06-30T05:14:29.948Z"
   },
   {
    "duration": 147,
    "start_time": "2021-06-30T05:14:33.785Z"
   },
   {
    "duration": 201,
    "start_time": "2021-06-30T05:55:26.017Z"
   },
   {
    "duration": 396,
    "start_time": "2021-06-30T06:04:51.982Z"
   },
   {
    "duration": 410,
    "start_time": "2021-06-30T06:07:02.169Z"
   },
   {
    "duration": 389,
    "start_time": "2021-07-01T16:55:18.409Z"
   },
   {
    "duration": 1363,
    "start_time": "2021-07-01T16:55:21.070Z"
   },
   {
    "duration": 49,
    "start_time": "2021-07-01T16:55:22.436Z"
   },
   {
    "duration": 38,
    "start_time": "2021-07-01T16:55:22.489Z"
   },
   {
    "duration": 42,
    "start_time": "2021-07-01T16:55:22.531Z"
   },
   {
    "duration": 44,
    "start_time": "2021-07-01T16:55:22.575Z"
   },
   {
    "duration": 22,
    "start_time": "2021-07-01T16:55:23.036Z"
   },
   {
    "duration": 101,
    "start_time": "2021-07-01T16:55:28.132Z"
   },
   {
    "duration": 8,
    "start_time": "2021-07-01T16:55:33.329Z"
   },
   {
    "duration": 67,
    "start_time": "2021-07-01T17:00:29.982Z"
   },
   {
    "duration": 14,
    "start_time": "2021-07-01T17:00:48.848Z"
   },
   {
    "duration": 409,
    "start_time": "2021-07-01T17:05:00.178Z"
   },
   {
    "duration": 15,
    "start_time": "2021-07-01T17:05:27.170Z"
   },
   {
    "duration": 14,
    "start_time": "2021-07-01T17:05:29.818Z"
   },
   {
    "duration": 96,
    "start_time": "2021-07-01T17:10:59.645Z"
   },
   {
    "duration": 13,
    "start_time": "2021-07-01T17:11:02.363Z"
   },
   {
    "duration": 62,
    "start_time": "2021-07-01T17:19:26.205Z"
   },
   {
    "duration": 12,
    "start_time": "2021-07-01T17:19:41.272Z"
   },
   {
    "duration": 552,
    "start_time": "2021-07-01T17:31:15.167Z"
   },
   {
    "duration": 36,
    "start_time": "2021-07-01T17:31:15.722Z"
   },
   {
    "duration": 35,
    "start_time": "2021-07-01T17:31:16.168Z"
   },
   {
    "duration": 28,
    "start_time": "2021-07-01T17:31:17.759Z"
   },
   {
    "duration": 19,
    "start_time": "2021-07-01T17:31:18.122Z"
   },
   {
    "duration": 21,
    "start_time": "2021-07-01T17:31:19.521Z"
   },
   {
    "duration": 94,
    "start_time": "2021-07-01T17:31:23.371Z"
   },
   {
    "duration": 9,
    "start_time": "2021-07-01T17:31:24.952Z"
   },
   {
    "duration": 84,
    "start_time": "2021-07-01T17:31:33.804Z"
   },
   {
    "duration": 93,
    "start_time": "2021-07-01T17:41:03.962Z"
   },
   {
    "duration": 19,
    "start_time": "2021-07-01T17:41:08.896Z"
   },
   {
    "duration": 15,
    "start_time": "2021-07-01T17:41:33.275Z"
   },
   {
    "duration": 16,
    "start_time": "2021-07-01T17:42:13.997Z"
   },
   {
    "duration": 12,
    "start_time": "2021-07-01T17:42:26.996Z"
   },
   {
    "duration": 10,
    "start_time": "2021-07-01T17:43:26.174Z"
   },
   {
    "duration": 89,
    "start_time": "2021-07-01T17:48:50.800Z"
   },
   {
    "duration": 9,
    "start_time": "2021-07-01T17:48:56.517Z"
   },
   {
    "duration": 90,
    "start_time": "2021-07-01T17:49:11.614Z"
   },
   {
    "duration": 10,
    "start_time": "2021-07-01T17:49:13.228Z"
   },
   {
    "duration": 134,
    "start_time": "2021-07-01T17:55:44.721Z"
   },
   {
    "duration": 1875,
    "start_time": "2021-07-01T17:55:54.991Z"
   },
   {
    "duration": 10,
    "start_time": "2021-07-01T17:55:56.868Z"
   },
   {
    "duration": 93,
    "start_time": "2021-07-01T17:58:50.732Z"
   },
   {
    "duration": 10,
    "start_time": "2021-07-01T17:58:52.394Z"
   },
   {
    "duration": 91,
    "start_time": "2021-07-01T17:59:44.517Z"
   },
   {
    "duration": 11,
    "start_time": "2021-07-01T17:59:53.728Z"
   },
   {
    "duration": 79,
    "start_time": "2021-07-01T18:08:12.937Z"
   },
   {
    "duration": 10,
    "start_time": "2021-07-01T18:08:14.522Z"
   },
   {
    "duration": 500,
    "start_time": "2021-07-01T18:08:29.220Z"
   },
   {
    "duration": 33,
    "start_time": "2021-07-01T18:08:29.723Z"
   },
   {
    "duration": 31,
    "start_time": "2021-07-01T18:08:30.105Z"
   },
   {
    "duration": 26,
    "start_time": "2021-07-01T18:08:30.929Z"
   },
   {
    "duration": 17,
    "start_time": "2021-07-01T18:08:31.251Z"
   },
   {
    "duration": 24,
    "start_time": "2021-07-01T18:08:31.450Z"
   },
   {
    "duration": 89,
    "start_time": "2021-07-01T18:08:33.197Z"
   },
   {
    "duration": 6,
    "start_time": "2021-07-01T18:08:35.069Z"
   },
   {
    "duration": 84,
    "start_time": "2021-07-01T18:08:36.898Z"
   },
   {
    "duration": 90,
    "start_time": "2021-07-01T18:08:40.098Z"
   },
   {
    "duration": 95,
    "start_time": "2021-07-01T18:08:45.102Z"
   },
   {
    "duration": 186,
    "start_time": "2021-07-01T18:08:57.966Z"
   },
   {
    "duration": 124,
    "start_time": "2021-07-01T18:09:11.716Z"
   },
   {
    "duration": 54,
    "start_time": "2021-07-01T18:10:37.158Z"
   },
   {
    "duration": 1961,
    "start_time": "2021-07-02T11:38:12.011Z"
   },
   {
    "duration": 45,
    "start_time": "2021-07-02T11:38:13.975Z"
   },
   {
    "duration": 43,
    "start_time": "2021-07-02T11:38:14.023Z"
   },
   {
    "duration": 27,
    "start_time": "2021-07-02T11:38:14.502Z"
   },
   {
    "duration": 19,
    "start_time": "2021-07-02T11:38:14.761Z"
   },
   {
    "duration": 21,
    "start_time": "2021-07-02T11:38:14.955Z"
   },
   {
    "duration": 99,
    "start_time": "2021-07-02T11:38:16.339Z"
   },
   {
    "duration": 6,
    "start_time": "2021-07-02T11:38:18.415Z"
   },
   {
    "duration": 99,
    "start_time": "2021-07-02T11:38:19.262Z"
   },
   {
    "duration": 131,
    "start_time": "2021-07-02T11:38:21.739Z"
   },
   {
    "duration": 276,
    "start_time": "2021-07-02T11:38:46.946Z"
   },
   {
    "duration": 77,
    "start_time": "2021-07-02T11:57:12.672Z"
   },
   {
    "duration": 1314,
    "start_time": "2021-07-04T15:59:37.248Z"
   },
   {
    "duration": 44,
    "start_time": "2021-07-04T15:59:38.565Z"
   },
   {
    "duration": 31,
    "start_time": "2021-07-04T15:59:38.612Z"
   },
   {
    "duration": 28,
    "start_time": "2021-07-04T15:59:38.889Z"
   },
   {
    "duration": 20,
    "start_time": "2021-07-04T15:59:39.566Z"
   },
   {
    "duration": 23,
    "start_time": "2021-07-04T15:59:40.135Z"
   },
   {
    "duration": 104,
    "start_time": "2021-07-04T15:59:42.238Z"
   },
   {
    "duration": 7,
    "start_time": "2021-07-04T15:59:44.285Z"
   },
   {
    "duration": 101,
    "start_time": "2021-07-04T15:59:45.800Z"
   },
   {
    "duration": 97,
    "start_time": "2021-07-04T16:00:02.028Z"
   },
   {
    "duration": 582,
    "start_time": "2021-07-04T16:00:15.582Z"
   },
   {
    "duration": 360,
    "start_time": "2021-07-04T16:00:27.247Z"
   },
   {
    "duration": 45,
    "start_time": "2021-07-04T16:01:41.817Z"
   },
   {
    "duration": 319,
    "start_time": "2021-07-04T16:02:20.366Z"
   },
   {
    "duration": 49,
    "start_time": "2021-07-04T16:03:18.534Z"
   },
   {
    "duration": 47,
    "start_time": "2021-07-04T16:03:28.103Z"
   },
   {
    "duration": 345,
    "start_time": "2021-07-04T16:03:33.913Z"
   },
   {
    "duration": 342,
    "start_time": "2021-07-04T16:06:25.438Z"
   },
   {
    "duration": 385,
    "start_time": "2021-07-04T16:11:20.805Z"
   },
   {
    "duration": 540,
    "start_time": "2021-07-04T16:11:31.522Z"
   },
   {
    "duration": 40,
    "start_time": "2021-07-04T16:11:32.446Z"
   },
   {
    "duration": 34,
    "start_time": "2021-07-04T16:11:33.074Z"
   },
   {
    "duration": 27,
    "start_time": "2021-07-04T16:11:33.427Z"
   },
   {
    "duration": 19,
    "start_time": "2021-07-04T16:11:33.602Z"
   },
   {
    "duration": 22,
    "start_time": "2021-07-04T16:11:33.873Z"
   },
   {
    "duration": 92,
    "start_time": "2021-07-04T16:11:35.268Z"
   },
   {
    "duration": 7,
    "start_time": "2021-07-04T16:11:36.912Z"
   },
   {
    "duration": 89,
    "start_time": "2021-07-04T16:11:36.923Z"
   },
   {
    "duration": 96,
    "start_time": "2021-07-04T16:11:38.147Z"
   },
   {
    "duration": 304,
    "start_time": "2021-07-04T16:11:41.151Z"
   },
   {
    "duration": 485,
    "start_time": "2021-07-04T16:11:47.344Z"
   },
   {
    "duration": 94,
    "start_time": "2021-07-04T16:12:12.063Z"
   },
   {
    "duration": 42,
    "start_time": "2021-07-04T16:13:08.146Z"
   },
   {
    "duration": 42,
    "start_time": "2021-07-04T16:14:07.662Z"
   },
   {
    "duration": 1051,
    "start_time": "2021-07-04T16:15:04.199Z"
   },
   {
    "duration": 418,
    "start_time": "2021-07-04T16:15:23.219Z"
   },
   {
    "duration": 300,
    "start_time": "2021-07-04T16:15:27.987Z"
   },
   {
    "duration": 301,
    "start_time": "2021-07-04T16:15:30.273Z"
   },
   {
    "duration": 3,
    "start_time": "2021-07-04T16:15:33.560Z"
   },
   {
    "duration": 106,
    "start_time": "2021-07-04T16:54:34.142Z"
   },
   {
    "duration": 1328,
    "start_time": "2021-07-05T07:41:37.332Z"
   },
   {
    "duration": 51,
    "start_time": "2021-07-05T07:41:38.662Z"
   },
   {
    "duration": 35,
    "start_time": "2021-07-05T07:41:38.717Z"
   },
   {
    "duration": 28,
    "start_time": "2021-07-05T07:41:39.658Z"
   },
   {
    "duration": 17,
    "start_time": "2021-07-05T07:41:41.423Z"
   },
   {
    "duration": 22,
    "start_time": "2021-07-05T07:43:12.730Z"
   },
   {
    "duration": 147,
    "start_time": "2021-07-05T07:43:17.481Z"
   },
   {
    "duration": 8,
    "start_time": "2021-07-05T07:43:18.893Z"
   },
   {
    "duration": 125,
    "start_time": "2021-07-05T07:43:19.424Z"
   },
   {
    "duration": 108,
    "start_time": "2021-07-05T07:43:21.391Z"
   },
   {
    "duration": 39,
    "start_time": "2021-07-05T07:43:22.031Z"
   },
   {
    "duration": 10434,
    "start_time": "2021-07-05T07:48:34.303Z"
   },
   {
    "duration": 372,
    "start_time": "2021-07-05T07:50:41.520Z"
   },
   {
    "duration": 403,
    "start_time": "2021-07-05T07:51:24.791Z"
   },
   {
    "duration": 11,
    "start_time": "2021-07-05T07:51:45.182Z"
   },
   {
    "duration": 344,
    "start_time": "2021-07-05T07:52:15.161Z"
   },
   {
    "duration": 7,
    "start_time": "2021-07-05T07:55:10.991Z"
   },
   {
    "duration": 10221,
    "start_time": "2021-07-05T07:55:16.123Z"
   },
   {
    "duration": 20,
    "start_time": "2021-07-05T07:55:29.988Z"
   },
   {
    "duration": 381,
    "start_time": "2021-07-05T07:55:54.983Z"
   },
   {
    "duration": 10908,
    "start_time": "2021-07-05T08:04:09.832Z"
   },
   {
    "duration": 9,
    "start_time": "2021-07-05T08:21:44.155Z"
   },
   {
    "duration": 11,
    "start_time": "2021-07-05T08:22:53.623Z"
   },
   {
    "duration": 22,
    "start_time": "2021-07-05T08:23:36.016Z"
   },
   {
    "duration": 10491,
    "start_time": "2021-07-05T08:24:52.765Z"
   },
   {
    "duration": 10066,
    "start_time": "2021-07-05T08:40:57.968Z"
   },
   {
    "duration": 7,
    "start_time": "2021-07-05T08:41:54.439Z"
   },
   {
    "duration": 20,
    "start_time": "2021-07-05T08:44:35.567Z"
   },
   {
    "duration": 184,
    "start_time": "2021-07-05T08:45:15.746Z"
   },
   {
    "duration": 137,
    "start_time": "2021-07-05T08:45:53.140Z"
   },
   {
    "duration": 156,
    "start_time": "2021-07-05T08:46:43.951Z"
   },
   {
    "duration": 110,
    "start_time": "2021-07-05T08:47:14.350Z"
   },
   {
    "duration": 123,
    "start_time": "2021-07-05T08:50:43.413Z"
   },
   {
    "duration": 12,
    "start_time": "2021-07-05T08:50:59.334Z"
   },
   {
    "duration": 12,
    "start_time": "2021-07-05T08:53:08.188Z"
   },
   {
    "duration": 122,
    "start_time": "2021-07-05T08:54:03.942Z"
   },
   {
    "duration": 382,
    "start_time": "2021-07-05T08:54:23.558Z"
   },
   {
    "duration": 12,
    "start_time": "2021-07-05T08:54:46.698Z"
   },
   {
    "duration": 11,
    "start_time": "2021-07-05T08:55:10.150Z"
   },
   {
    "duration": 357,
    "start_time": "2021-07-05T08:56:35.638Z"
   },
   {
    "duration": 400,
    "start_time": "2021-07-05T08:57:15.321Z"
   },
   {
    "duration": 125,
    "start_time": "2021-07-05T08:57:43.400Z"
   },
   {
    "duration": 402,
    "start_time": "2021-07-05T08:57:51.966Z"
   },
   {
    "duration": 15,
    "start_time": "2021-07-05T09:10:28.283Z"
   },
   {
    "duration": 37,
    "start_time": "2021-07-05T09:12:03.187Z"
   },
   {
    "duration": 191,
    "start_time": "2021-07-05T09:12:47.745Z"
   },
   {
    "duration": 126,
    "start_time": "2021-07-05T09:13:09.869Z"
   },
   {
    "duration": 117,
    "start_time": "2021-07-05T09:13:53.205Z"
   },
   {
    "duration": 136,
    "start_time": "2021-07-05T09:13:59.911Z"
   },
   {
    "duration": 220,
    "start_time": "2021-07-05T09:14:10.983Z"
   },
   {
    "duration": 135,
    "start_time": "2021-07-05T09:14:28.182Z"
   },
   {
    "duration": 130,
    "start_time": "2021-07-05T09:14:40.478Z"
   },
   {
    "duration": 140,
    "start_time": "2021-07-05T09:15:35.419Z"
   },
   {
    "duration": 158,
    "start_time": "2021-07-05T09:15:42.368Z"
   },
   {
    "duration": 115,
    "start_time": "2021-07-05T09:15:53.365Z"
   },
   {
    "duration": 127,
    "start_time": "2021-07-05T09:16:03.504Z"
   },
   {
    "duration": 170,
    "start_time": "2021-07-05T09:16:15.998Z"
   },
   {
    "duration": 557,
    "start_time": "2021-07-05T09:16:32.039Z"
   },
   {
    "duration": 53,
    "start_time": "2021-07-05T09:16:33.249Z"
   },
   {
    "duration": 35,
    "start_time": "2021-07-05T09:16:33.989Z"
   },
   {
    "duration": 28,
    "start_time": "2021-07-05T09:16:35.659Z"
   },
   {
    "duration": 18,
    "start_time": "2021-07-05T09:16:36.869Z"
   },
   {
    "duration": 23,
    "start_time": "2021-07-05T09:16:37.179Z"
   },
   {
    "duration": 157,
    "start_time": "2021-07-05T09:16:40.959Z"
   },
   {
    "duration": 9,
    "start_time": "2021-07-05T09:16:42.748Z"
   },
   {
    "duration": 91,
    "start_time": "2021-07-05T09:16:44.189Z"
   },
   {
    "duration": 92,
    "start_time": "2021-07-05T09:16:46.209Z"
   },
   {
    "duration": 44,
    "start_time": "2021-07-05T09:16:47.349Z"
   },
   {
    "duration": 23,
    "start_time": "2021-07-05T09:16:49.899Z"
   },
   {
    "duration": 119,
    "start_time": "2021-07-05T09:16:57.352Z"
   },
   {
    "duration": 116,
    "start_time": "2021-07-05T09:17:54.288Z"
   },
   {
    "duration": 136,
    "start_time": "2021-07-05T09:22:09.296Z"
   },
   {
    "duration": 133,
    "start_time": "2021-07-05T09:23:44.441Z"
   },
   {
    "duration": 289,
    "start_time": "2021-07-05T10:37:08.228Z"
   },
   {
    "duration": 956,
    "start_time": "2021-07-05T10:39:22.048Z"
   },
   {
    "duration": 35,
    "start_time": "2021-07-05T10:39:23.028Z"
   },
   {
    "duration": 21,
    "start_time": "2021-07-05T10:39:25.008Z"
   },
   {
    "duration": 18,
    "start_time": "2021-07-05T10:39:31.508Z"
   },
   {
    "duration": 11,
    "start_time": "2021-07-05T10:39:32.428Z"
   },
   {
    "duration": 18,
    "start_time": "2021-07-05T10:39:33.956Z"
   },
   {
    "duration": 67,
    "start_time": "2021-07-05T10:39:36.729Z"
   },
   {
    "duration": 5,
    "start_time": "2021-07-05T10:39:38.108Z"
   },
   {
    "duration": 68,
    "start_time": "2021-07-05T10:39:39.448Z"
   },
   {
    "duration": 65,
    "start_time": "2021-07-05T10:39:40.706Z"
   },
   {
    "duration": 24,
    "start_time": "2021-07-05T10:39:41.987Z"
   },
   {
    "duration": 17,
    "start_time": "2021-07-05T10:39:44.140Z"
   },
   {
    "duration": 26,
    "start_time": "2021-07-05T10:40:11.638Z"
   },
   {
    "duration": 92,
    "start_time": "2021-07-05T10:41:14.498Z"
   },
   {
    "duration": 263,
    "start_time": "2021-07-05T10:41:45.790Z"
   },
   {
    "duration": 259,
    "start_time": "2021-07-05T10:42:37.588Z"
   },
   {
    "duration": 293,
    "start_time": "2021-07-05T10:45:24.906Z"
   },
   {
    "duration": 12,
    "start_time": "2021-07-05T10:53:03.858Z"
   },
   {
    "duration": 13,
    "start_time": "2021-07-05T10:53:06.568Z"
   },
   {
    "duration": 21,
    "start_time": "2021-07-05T10:53:10.311Z"
   },
   {
    "duration": 13,
    "start_time": "2021-07-05T10:53:23.946Z"
   },
   {
    "duration": 10,
    "start_time": "2021-07-05T10:53:27.228Z"
   },
   {
    "duration": 15,
    "start_time": "2021-07-05T10:53:31.067Z"
   },
   {
    "duration": 18,
    "start_time": "2021-07-05T10:53:34.680Z"
   },
   {
    "duration": 19,
    "start_time": "2021-07-05T10:53:39.028Z"
   },
   {
    "duration": 7,
    "start_time": "2021-07-05T10:56:01.317Z"
   },
   {
    "duration": 23,
    "start_time": "2021-07-05T10:58:55.048Z"
   },
   {
    "duration": 22,
    "start_time": "2021-07-05T11:00:01.606Z"
   },
   {
    "duration": 259,
    "start_time": "2021-07-05T11:11:43.551Z"
   },
   {
    "duration": 244,
    "start_time": "2021-07-05T11:11:49.316Z"
   },
   {
    "duration": 17,
    "start_time": "2021-07-05T11:11:55.227Z"
   },
   {
    "duration": 537,
    "start_time": "2021-07-05T11:12:44.072Z"
   },
   {
    "duration": 488,
    "start_time": "2021-07-05T11:13:17.162Z"
   },
   {
    "duration": 445,
    "start_time": "2021-07-05T11:21:21.622Z"
   },
   {
    "duration": 325,
    "start_time": "2021-07-05T11:21:54.157Z"
   },
   {
    "duration": 269,
    "start_time": "2021-07-05T11:23:02.614Z"
   },
   {
    "duration": 457,
    "start_time": "2021-07-05T11:23:32.313Z"
   },
   {
    "duration": 87,
    "start_time": "2021-07-05T11:24:20.075Z"
   },
   {
    "duration": 462,
    "start_time": "2021-07-05T11:24:37.836Z"
   },
   {
    "duration": 90,
    "start_time": "2021-07-05T11:28:51.664Z"
   },
   {
    "duration": 382,
    "start_time": "2021-07-05T11:43:04.687Z"
   },
   {
    "duration": 433,
    "start_time": "2021-07-05T11:44:34.872Z"
   },
   {
    "duration": 825,
    "start_time": "2021-07-05T11:45:18.700Z"
   },
   {
    "duration": 558,
    "start_time": "2021-07-05T11:45:30.916Z"
   },
   {
    "duration": 348,
    "start_time": "2021-07-05T11:47:51.990Z"
   },
   {
    "duration": 26,
    "start_time": "2021-07-05T11:47:53.307Z"
   },
   {
    "duration": 21,
    "start_time": "2021-07-05T11:47:54.092Z"
   },
   {
    "duration": 16,
    "start_time": "2021-07-05T11:47:54.632Z"
   },
   {
    "duration": 10,
    "start_time": "2021-07-05T11:47:54.900Z"
   },
   {
    "duration": 12,
    "start_time": "2021-07-05T11:47:55.022Z"
   },
   {
    "duration": 64,
    "start_time": "2021-07-05T11:47:57.932Z"
   },
   {
    "duration": 5,
    "start_time": "2021-07-05T11:47:58.772Z"
   },
   {
    "duration": 58,
    "start_time": "2021-07-05T11:47:59.423Z"
   },
   {
    "duration": 59,
    "start_time": "2021-07-05T11:48:00.908Z"
   },
   {
    "duration": 23,
    "start_time": "2021-07-05T11:48:01.391Z"
   },
   {
    "duration": 13,
    "start_time": "2021-07-05T11:48:03.255Z"
   },
   {
    "duration": 18,
    "start_time": "2021-07-05T11:48:07.572Z"
   },
   {
    "duration": 22,
    "start_time": "2021-07-05T11:48:11.521Z"
   },
   {
    "duration": 19,
    "start_time": "2021-07-05T11:48:14.151Z"
   },
   {
    "duration": 478,
    "start_time": "2021-07-05T12:00:38.793Z"
   },
   {
    "duration": 364,
    "start_time": "2021-07-05T12:01:06.519Z"
   },
   {
    "duration": 26,
    "start_time": "2021-07-05T12:01:07.551Z"
   },
   {
    "duration": 22,
    "start_time": "2021-07-05T12:01:07.999Z"
   },
   {
    "duration": 19,
    "start_time": "2021-07-05T12:01:08.571Z"
   },
   {
    "duration": 11,
    "start_time": "2021-07-05T12:01:08.991Z"
   },
   {
    "duration": 16,
    "start_time": "2021-07-05T12:01:09.259Z"
   },
   {
    "duration": 88,
    "start_time": "2021-07-05T12:01:10.792Z"
   },
   {
    "duration": 6,
    "start_time": "2021-07-05T12:01:12.507Z"
   },
   {
    "duration": 73,
    "start_time": "2021-07-05T12:01:13.940Z"
   },
   {
    "duration": 80,
    "start_time": "2021-07-05T12:01:14.836Z"
   },
   {
    "duration": 31,
    "start_time": "2021-07-05T12:01:16.713Z"
   },
   {
    "duration": 18,
    "start_time": "2021-07-05T12:01:18.320Z"
   },
   {
    "duration": 451,
    "start_time": "2021-07-05T12:01:20.700Z"
   },
   {
    "duration": 496,
    "start_time": "2021-07-05T12:02:06.661Z"
   },
   {
    "duration": 424,
    "start_time": "2021-07-05T12:02:37.548Z"
   },
   {
    "duration": 422,
    "start_time": "2021-07-05T12:02:49.680Z"
   },
   {
    "duration": 502,
    "start_time": "2021-07-05T12:04:09.075Z"
   },
   {
    "duration": 421,
    "start_time": "2021-07-05T12:04:26.952Z"
   },
   {
    "duration": 88,
    "start_time": "2021-07-05T12:41:12.260Z"
   },
   {
    "duration": 5,
    "start_time": "2021-07-05T12:41:22.710Z"
   },
   {
    "duration": 370,
    "start_time": "2021-07-05T12:56:17.105Z"
   },
   {
    "duration": 26,
    "start_time": "2021-07-05T12:56:18.274Z"
   },
   {
    "duration": 22,
    "start_time": "2021-07-05T12:56:18.980Z"
   },
   {
    "duration": 18,
    "start_time": "2021-07-05T12:56:19.420Z"
   },
   {
    "duration": 12,
    "start_time": "2021-07-05T12:56:19.639Z"
   },
   {
    "duration": 13,
    "start_time": "2021-07-05T12:56:19.844Z"
   },
   {
    "duration": 58,
    "start_time": "2021-07-05T12:56:20.678Z"
   },
   {
    "duration": 6,
    "start_time": "2021-07-05T12:56:21.214Z"
   },
   {
    "duration": 60,
    "start_time": "2021-07-05T12:56:21.681Z"
   },
   {
    "duration": 54,
    "start_time": "2021-07-05T12:56:22.308Z"
   },
   {
    "duration": 23,
    "start_time": "2021-07-05T12:56:23.019Z"
   },
   {
    "duration": 15,
    "start_time": "2021-07-05T12:56:23.768Z"
   },
   {
    "duration": 498,
    "start_time": "2021-07-05T12:57:00.756Z"
   },
   {
    "duration": 90,
    "start_time": "2021-07-05T12:58:39.373Z"
   },
   {
    "duration": 92,
    "start_time": "2021-07-05T12:58:45.824Z"
   },
   {
    "duration": 6705,
    "start_time": "2021-07-05T13:10:51.542Z"
   },
   {
    "duration": 84,
    "start_time": "2021-07-05T13:15:22.876Z"
   },
   {
    "duration": 123,
    "start_time": "2021-07-05T13:15:31.598Z"
   },
   {
    "duration": 85,
    "start_time": "2021-07-05T13:16:04.261Z"
   },
   {
    "duration": 98,
    "start_time": "2021-07-05T13:16:13.477Z"
   },
   {
    "duration": 6,
    "start_time": "2021-07-05T13:18:02.315Z"
   },
   {
    "duration": 85,
    "start_time": "2021-07-05T13:18:19.839Z"
   },
   {
    "duration": 6,
    "start_time": "2021-07-05T13:18:25.608Z"
   },
   {
    "duration": 5,
    "start_time": "2021-07-05T13:19:30.115Z"
   },
   {
    "duration": 5,
    "start_time": "2021-07-05T13:19:36.899Z"
   },
   {
    "duration": 78,
    "start_time": "2021-07-05T13:31:33.345Z"
   },
   {
    "duration": 359,
    "start_time": "2021-07-05T13:32:02.974Z"
   },
   {
    "duration": 24,
    "start_time": "2021-07-05T13:32:03.983Z"
   },
   {
    "duration": 22,
    "start_time": "2021-07-05T13:32:04.493Z"
   },
   {
    "duration": 17,
    "start_time": "2021-07-05T13:32:04.911Z"
   },
   {
    "duration": 12,
    "start_time": "2021-07-05T13:32:05.082Z"
   },
   {
    "duration": 13,
    "start_time": "2021-07-05T13:32:05.281Z"
   },
   {
    "duration": 55,
    "start_time": "2021-07-05T13:32:06.404Z"
   },
   {
    "duration": 5,
    "start_time": "2021-07-05T13:32:08.133Z"
   },
   {
    "duration": 57,
    "start_time": "2021-07-05T13:32:08.474Z"
   },
   {
    "duration": 56,
    "start_time": "2021-07-05T13:32:09.695Z"
   },
   {
    "duration": 23,
    "start_time": "2021-07-05T13:32:10.264Z"
   },
   {
    "duration": 14,
    "start_time": "2021-07-05T13:32:11.693Z"
   },
   {
    "duration": 17,
    "start_time": "2021-07-05T13:32:16.362Z"
   },
   {
    "duration": 17,
    "start_time": "2021-07-05T13:32:17.565Z"
   },
   {
    "duration": 17,
    "start_time": "2021-07-05T13:32:18.663Z"
   },
   {
    "duration": 81,
    "start_time": "2021-07-05T13:32:24.655Z"
   },
   {
    "duration": 4,
    "start_time": "2021-07-05T13:34:30.622Z"
   },
   {
    "duration": 91,
    "start_time": "2021-07-05T13:34:42.506Z"
   },
   {
    "duration": 103,
    "start_time": "2021-07-05T13:38:04.930Z"
   },
   {
    "duration": 88,
    "start_time": "2021-07-05T13:43:17.640Z"
   },
   {
    "duration": 82,
    "start_time": "2021-07-05T13:43:50.488Z"
   },
   {
    "duration": 243,
    "start_time": "2021-07-05T13:43:55.944Z"
   },
   {
    "duration": 101,
    "start_time": "2021-07-05T13:44:31.170Z"
   },
   {
    "duration": 479,
    "start_time": "2021-07-05T13:44:43.069Z"
   },
   {
    "duration": 490,
    "start_time": "2021-07-05T13:45:06.679Z"
   },
   {
    "duration": 5,
    "start_time": "2021-07-05T13:52:32.402Z"
   },
   {
    "duration": 80,
    "start_time": "2021-07-05T13:52:33.614Z"
   },
   {
    "duration": 5,
    "start_time": "2021-07-05T13:52:42.263Z"
   },
   {
    "duration": 574,
    "start_time": "2021-07-05T13:52:44.004Z"
   },
   {
    "duration": 487,
    "start_time": "2021-07-05T13:52:45.645Z"
   },
   {
    "duration": 464,
    "start_time": "2021-07-05T18:48:50.795Z"
   },
   {
    "duration": 1547,
    "start_time": "2021-07-05T18:48:55.546Z"
   },
   {
    "duration": 165,
    "start_time": "2021-07-05T18:48:59.617Z"
   },
   {
    "duration": 7,
    "start_time": "2021-07-05T18:49:00.269Z"
   },
   {
    "duration": 102,
    "start_time": "2021-07-05T18:49:00.872Z"
   },
   {
    "duration": 101,
    "start_time": "2021-07-05T18:49:02.432Z"
   },
   {
    "duration": 46,
    "start_time": "2021-07-05T18:49:02.963Z"
   },
   {
    "duration": 23,
    "start_time": "2021-07-05T18:49:04.477Z"
   },
   {
    "duration": 630,
    "start_time": "2021-07-05T18:49:05.963Z"
   },
   {
    "duration": 997,
    "start_time": "2021-07-06T05:56:01.611Z"
   },
   {
    "duration": 26,
    "start_time": "2021-07-06T05:56:02.609Z"
   },
   {
    "duration": 20,
    "start_time": "2021-07-06T05:56:03.327Z"
   },
   {
    "duration": 16,
    "start_time": "2021-07-06T05:56:03.794Z"
   },
   {
    "duration": 9,
    "start_time": "2021-07-06T05:56:03.996Z"
   },
   {
    "duration": 11,
    "start_time": "2021-07-06T05:56:04.156Z"
   },
   {
    "duration": 61,
    "start_time": "2021-07-06T05:56:05.639Z"
   },
   {
    "duration": 5,
    "start_time": "2021-07-06T05:56:06.338Z"
   },
   {
    "duration": 63,
    "start_time": "2021-07-06T05:56:06.862Z"
   },
   {
    "duration": 58,
    "start_time": "2021-07-06T05:56:07.594Z"
   },
   {
    "duration": 21,
    "start_time": "2021-07-06T05:56:09.272Z"
   },
   {
    "duration": 13,
    "start_time": "2021-07-06T05:56:11.472Z"
   },
   {
    "duration": 538,
    "start_time": "2021-07-06T05:56:18.806Z"
   },
   {
    "duration": 422,
    "start_time": "2021-07-06T05:57:37.974Z"
   },
   {
    "duration": 88,
    "start_time": "2021-07-06T07:07:59.908Z"
   },
   {
    "duration": 369,
    "start_time": "2021-07-06T07:13:43.443Z"
   },
   {
    "duration": 22,
    "start_time": "2021-07-06T07:13:44.733Z"
   },
   {
    "duration": 21,
    "start_time": "2021-07-06T07:13:45.395Z"
   },
   {
    "duration": 17,
    "start_time": "2021-07-06T07:13:45.616Z"
   },
   {
    "duration": 10,
    "start_time": "2021-07-06T07:13:45.800Z"
   },
   {
    "duration": 11,
    "start_time": "2021-07-06T07:13:46.129Z"
   },
   {
    "duration": 55,
    "start_time": "2021-07-06T07:13:47.247Z"
   },
   {
    "duration": 4,
    "start_time": "2021-07-06T07:13:49.201Z"
   },
   {
    "duration": 65,
    "start_time": "2021-07-06T07:13:49.654Z"
   },
   {
    "duration": 50,
    "start_time": "2021-07-06T07:13:51.040Z"
   },
   {
    "duration": 21,
    "start_time": "2021-07-06T07:13:51.539Z"
   },
   {
    "duration": 14,
    "start_time": "2021-07-06T07:13:53.351Z"
   },
   {
    "duration": 119,
    "start_time": "2021-07-06T07:13:55.110Z"
   },
   {
    "duration": 81,
    "start_time": "2021-07-06T07:25:42.555Z"
   },
   {
    "duration": 87,
    "start_time": "2021-07-06T07:25:49.527Z"
   },
   {
    "duration": 131,
    "start_time": "2021-07-06T07:25:55.362Z"
   },
   {
    "duration": 110,
    "start_time": "2021-07-06T07:25:58.434Z"
   },
   {
    "duration": 115,
    "start_time": "2021-07-06T07:26:00.605Z"
   },
   {
    "duration": 81,
    "start_time": "2021-07-06T07:27:58.593Z"
   },
   {
    "duration": 88,
    "start_time": "2021-07-06T07:28:18.272Z"
   },
   {
    "duration": 90,
    "start_time": "2021-07-06T07:28:20.661Z"
   },
   {
    "duration": 101,
    "start_time": "2021-07-06T07:35:56.392Z"
   },
   {
    "duration": 85,
    "start_time": "2021-07-06T07:36:01.072Z"
   },
   {
    "duration": 1418,
    "start_time": "2021-07-06T10:11:46.419Z"
   },
   {
    "duration": 40,
    "start_time": "2021-07-06T10:11:47.839Z"
   },
   {
    "duration": 31,
    "start_time": "2021-07-06T10:11:48.630Z"
   },
   {
    "duration": 26,
    "start_time": "2021-07-06T10:11:49.211Z"
   },
   {
    "duration": 18,
    "start_time": "2021-07-06T10:11:49.424Z"
   },
   {
    "duration": 20,
    "start_time": "2021-07-06T10:11:49.612Z"
   },
   {
    "duration": 97,
    "start_time": "2021-07-06T10:11:53.333Z"
   },
   {
    "duration": 6,
    "start_time": "2021-07-06T10:11:55.085Z"
   },
   {
    "duration": 96,
    "start_time": "2021-07-06T10:11:56.046Z"
   },
   {
    "duration": 91,
    "start_time": "2021-07-06T10:11:57.718Z"
   },
   {
    "duration": 37,
    "start_time": "2021-07-06T10:11:59.161Z"
   },
   {
    "duration": 21,
    "start_time": "2021-07-06T10:12:01.311Z"
   },
   {
    "duration": 10099,
    "start_time": "2021-07-06T10:13:05.333Z"
   },
   {
    "duration": 45,
    "start_time": "2021-07-06T10:14:24.159Z"
   },
   {
    "duration": 23,
    "start_time": "2021-07-06T10:14:37.064Z"
   },
   {
    "duration": 32,
    "start_time": "2021-07-06T10:17:46.428Z"
   },
   {
    "duration": 25,
    "start_time": "2021-07-06T10:18:05.014Z"
   },
   {
    "duration": 8470,
    "start_time": "2021-07-06T10:18:15.399Z"
   },
   {
    "duration": 326,
    "start_time": "2021-07-06T10:18:31.004Z"
   },
   {
    "duration": 7809,
    "start_time": "2021-07-06T10:20:33.193Z"
   },
   {
    "duration": 455,
    "start_time": "2021-07-06T10:21:01.223Z"
   },
   {
    "duration": 493,
    "start_time": "2021-07-06T10:22:38.328Z"
   },
   {
    "duration": 32,
    "start_time": "2021-07-06T10:23:36.996Z"
   },
   {
    "duration": 32,
    "start_time": "2021-07-06T10:23:38.716Z"
   },
   {
    "duration": 30,
    "start_time": "2021-07-06T10:23:39.557Z"
   },
   {
    "duration": 287,
    "start_time": "2021-07-06T10:38:42.306Z"
   },
   {
    "duration": 345,
    "start_time": "2021-07-06T10:39:15.898Z"
   },
   {
    "duration": 292,
    "start_time": "2021-07-06T10:44:40.609Z"
   },
   {
    "duration": 262,
    "start_time": "2021-07-06T10:45:32.382Z"
   },
   {
    "duration": 280,
    "start_time": "2021-07-06T10:45:40.069Z"
   },
   {
    "duration": 3126,
    "start_time": "2021-07-06T10:45:49.995Z"
   },
   {
    "duration": 276,
    "start_time": "2021-07-06T10:45:56.567Z"
   },
   {
    "duration": 281,
    "start_time": "2021-07-06T10:46:59.483Z"
   },
   {
    "duration": 416,
    "start_time": "2021-07-06T10:47:42.994Z"
   },
   {
    "duration": 255,
    "start_time": "2021-07-06T10:47:47.962Z"
   },
   {
    "duration": 28,
    "start_time": "2021-07-06T10:49:00.248Z"
   },
   {
    "duration": 271,
    "start_time": "2021-07-06T10:49:16.371Z"
   },
   {
    "duration": 14,
    "start_time": "2021-07-06T10:49:34.077Z"
   },
   {
    "duration": 37,
    "start_time": "2021-07-06T10:52:02.293Z"
   },
   {
    "duration": 39,
    "start_time": "2021-07-06T10:52:19.083Z"
   },
   {
    "duration": 22,
    "start_time": "2021-07-06T10:52:22.982Z"
   },
   {
    "duration": 23,
    "start_time": "2021-07-06T10:52:26.053Z"
   },
   {
    "duration": 469,
    "start_time": "2021-07-06T10:52:27.967Z"
   },
   {
    "duration": 29,
    "start_time": "2021-07-06T10:52:31.532Z"
   },
   {
    "duration": 30,
    "start_time": "2021-07-06T10:52:32.468Z"
   },
   {
    "duration": 31,
    "start_time": "2021-07-06T10:52:33.067Z"
   },
   {
    "duration": 7,
    "start_time": "2021-07-06T10:52:34.964Z"
   },
   {
    "duration": 880,
    "start_time": "2021-07-06T10:52:36.977Z"
   },
   {
    "duration": 969,
    "start_time": "2021-07-06T10:52:39.377Z"
   },
   {
    "duration": 18,
    "start_time": "2021-07-06T10:52:44.959Z"
   },
   {
    "duration": 976,
    "start_time": "2021-07-06T10:57:16.770Z"
   },
   {
    "duration": 35,
    "start_time": "2021-07-06T10:57:17.748Z"
   },
   {
    "duration": 31,
    "start_time": "2021-07-06T10:57:18.115Z"
   },
   {
    "duration": 26,
    "start_time": "2021-07-06T10:57:18.729Z"
   },
   {
    "duration": 19,
    "start_time": "2021-07-06T10:57:18.929Z"
   },
   {
    "duration": 20,
    "start_time": "2021-07-06T10:57:19.093Z"
   },
   {
    "duration": 93,
    "start_time": "2021-07-06T10:57:19.882Z"
   },
   {
    "duration": 7,
    "start_time": "2021-07-06T10:57:20.450Z"
   },
   {
    "duration": 85,
    "start_time": "2021-07-06T10:57:21.855Z"
   },
   {
    "duration": 79,
    "start_time": "2021-07-06T10:57:22.160Z"
   },
   {
    "duration": 40,
    "start_time": "2021-07-06T10:57:22.808Z"
   },
   {
    "duration": 24,
    "start_time": "2021-07-06T10:57:24.342Z"
   },
   {
    "duration": 24,
    "start_time": "2021-07-06T10:57:24.631Z"
   },
   {
    "duration": 456,
    "start_time": "2021-07-06T10:57:26.069Z"
   },
   {
    "duration": 401,
    "start_time": "2021-07-06T11:00:53.166Z"
   },
   {
    "duration": 297,
    "start_time": "2021-07-06T11:02:33.325Z"
   },
   {
    "duration": 300,
    "start_time": "2021-07-06T11:04:25.066Z"
   },
   {
    "duration": 16,
    "start_time": "2021-07-06T11:08:53.950Z"
   },
   {
    "duration": 19,
    "start_time": "2021-07-06T11:09:31.985Z"
   },
   {
    "duration": 17,
    "start_time": "2021-07-06T11:14:40.996Z"
   },
   {
    "duration": 16,
    "start_time": "2021-07-06T11:15:55.207Z"
   },
   {
    "duration": 17,
    "start_time": "2021-07-06T11:15:57.976Z"
   },
   {
    "duration": 17,
    "start_time": "2021-07-06T11:16:20.026Z"
   },
   {
    "duration": 95,
    "start_time": "2021-07-06T11:27:32.765Z"
   },
   {
    "duration": 1511,
    "start_time": "2021-07-06T13:26:44.755Z"
   },
   {
    "duration": 26,
    "start_time": "2021-07-06T13:26:46.268Z"
   },
   {
    "duration": 20,
    "start_time": "2021-07-06T13:26:46.295Z"
   },
   {
    "duration": 15,
    "start_time": "2021-07-06T13:26:46.317Z"
   },
   {
    "duration": 9,
    "start_time": "2021-07-06T13:26:46.334Z"
   },
   {
    "duration": 20,
    "start_time": "2021-07-06T13:26:46.344Z"
   },
   {
    "duration": 65,
    "start_time": "2021-07-06T13:26:46.366Z"
   },
   {
    "duration": 5,
    "start_time": "2021-07-06T13:26:46.434Z"
   },
   {
    "duration": 66,
    "start_time": "2021-07-06T13:26:46.441Z"
   },
   {
    "duration": 48,
    "start_time": "2021-07-06T13:26:46.509Z"
   },
   {
    "duration": 20,
    "start_time": "2021-07-06T13:26:46.559Z"
   },
   {
    "duration": 12,
    "start_time": "2021-07-06T13:26:46.581Z"
   },
   {
    "duration": 16,
    "start_time": "2021-07-06T13:26:46.594Z"
   },
   {
    "duration": 265,
    "start_time": "2021-07-06T13:26:46.611Z"
   },
   {
    "duration": 17,
    "start_time": "2021-07-06T13:26:46.878Z"
   },
   {
    "duration": 16,
    "start_time": "2021-07-06T13:26:46.897Z"
   },
   {
    "duration": 33,
    "start_time": "2021-07-06T13:26:46.914Z"
   },
   {
    "duration": 5,
    "start_time": "2021-07-06T13:26:46.948Z"
   },
   {
    "duration": 541,
    "start_time": "2021-07-06T13:26:46.955Z"
   },
   {
    "duration": 477,
    "start_time": "2021-07-06T13:26:47.497Z"
   },
   {
    "duration": 10,
    "start_time": "2021-07-06T13:26:47.976Z"
   },
   {
    "duration": 15,
    "start_time": "2021-07-06T13:26:47.987Z"
   },
   {
    "duration": 12,
    "start_time": "2021-07-06T13:26:48.005Z"
   },
   {
    "duration": 10,
    "start_time": "2021-07-06T13:30:20.372Z"
   },
   {
    "duration": 12,
    "start_time": "2021-07-06T13:30:48.805Z"
   },
   {
    "duration": 15,
    "start_time": "2021-07-06T13:31:15.149Z"
   },
   {
    "duration": 4,
    "start_time": "2021-07-06T13:32:40.833Z"
   },
   {
    "duration": 317,
    "start_time": "2021-07-06T13:35:56.270Z"
   },
   {
    "duration": 15,
    "start_time": "2021-07-06T13:36:08.862Z"
   },
   {
    "duration": 35,
    "start_time": "2021-07-06T13:36:26.145Z"
   },
   {
    "duration": 438,
    "start_time": "2021-07-06T13:38:18.861Z"
   },
   {
    "duration": 53,
    "start_time": "2021-07-06T13:38:32.341Z"
   },
   {
    "duration": 251,
    "start_time": "2021-07-06T13:40:44.410Z"
   },
   {
    "duration": 327,
    "start_time": "2021-07-06T13:40:54.184Z"
   },
   {
    "duration": 11,
    "start_time": "2021-07-06T13:44:55.242Z"
   },
   {
    "duration": 10,
    "start_time": "2021-07-06T13:45:43.998Z"
   },
   {
    "duration": 7,
    "start_time": "2021-07-06T13:46:27.259Z"
   },
   {
    "duration": 11,
    "start_time": "2021-07-06T13:47:37.983Z"
   },
   {
    "duration": 4,
    "start_time": "2021-07-06T13:49:05.493Z"
   },
   {
    "duration": 4,
    "start_time": "2021-07-06T13:49:14.093Z"
   },
   {
    "duration": 492,
    "start_time": "2021-07-06T14:06:32.104Z"
   },
   {
    "duration": 1872,
    "start_time": "2021-07-06T14:06:36.734Z"
   },
   {
    "duration": 43,
    "start_time": "2021-07-06T14:06:38.608Z"
   },
   {
    "duration": 1088,
    "start_time": "2021-07-06T14:06:43.169Z"
   },
   {
    "duration": 397,
    "start_time": "2021-07-06T14:06:52.699Z"
   },
   {
    "duration": 370,
    "start_time": "2021-07-06T14:06:57.351Z"
   },
   {
    "duration": 412,
    "start_time": "2021-07-06T14:07:13.744Z"
   },
   {
    "duration": 55,
    "start_time": "2021-07-06T14:09:04.027Z"
   },
   {
    "duration": 48,
    "start_time": "2021-07-06T14:09:35.041Z"
   },
   {
    "duration": 100,
    "start_time": "2021-07-06T14:20:19.029Z"
   },
   {
    "duration": 7,
    "start_time": "2021-07-06T14:20:20.249Z"
   },
   {
    "duration": 88,
    "start_time": "2021-07-06T14:20:29.794Z"
   },
   {
    "duration": 463,
    "start_time": "2021-07-06T14:21:16.776Z"
   },
   {
    "duration": 88,
    "start_time": "2021-07-06T14:21:37.015Z"
   },
   {
    "duration": 1422,
    "start_time": "2021-07-06T14:21:46.775Z"
   },
   {
    "duration": 37,
    "start_time": "2021-07-06T14:22:04.998Z"
   },
   {
    "duration": 44,
    "start_time": "2021-07-06T14:24:35.343Z"
   },
   {
    "duration": 41,
    "start_time": "2021-07-06T14:26:27.682Z"
   },
   {
    "duration": 24,
    "start_time": "2021-07-06T14:26:59.589Z"
   },
   {
    "duration": 376,
    "start_time": "2021-07-06T14:29:43.185Z"
   },
   {
    "duration": 26,
    "start_time": "2021-07-06T14:29:53.653Z"
   },
   {
    "duration": 478,
    "start_time": "2021-07-06T14:30:01.067Z"
   },
   {
    "duration": 26,
    "start_time": "2021-07-06T14:39:59.774Z"
   },
   {
    "duration": 466,
    "start_time": "2021-07-06T14:40:04.724Z"
   },
   {
    "duration": 32,
    "start_time": "2021-07-06T14:40:15.170Z"
   },
   {
    "duration": 30,
    "start_time": "2021-07-06T14:40:17.304Z"
   },
   {
    "duration": 30,
    "start_time": "2021-07-06T14:40:19.144Z"
   },
   {
    "duration": 8,
    "start_time": "2021-07-06T14:41:02.163Z"
   },
   {
    "duration": 880,
    "start_time": "2021-07-06T14:41:04.276Z"
   },
   {
    "duration": 934,
    "start_time": "2021-07-06T14:41:07.281Z"
   },
   {
    "duration": 616,
    "start_time": "2021-07-06T14:41:13.631Z"
   },
   {
    "duration": 17,
    "start_time": "2021-07-06T14:41:18.701Z"
   },
   {
    "duration": 17,
    "start_time": "2021-07-06T14:41:24.525Z"
   },
   {
    "duration": 17,
    "start_time": "2021-07-06T14:41:31.942Z"
   },
   {
    "duration": 217,
    "start_time": "2021-07-07T06:56:14.935Z"
   },
   {
    "duration": 1397,
    "start_time": "2021-07-07T06:56:25.049Z"
   },
   {
    "duration": 40,
    "start_time": "2021-07-07T06:56:26.448Z"
   },
   {
    "duration": 37,
    "start_time": "2021-07-07T06:56:26.489Z"
   },
   {
    "duration": 18,
    "start_time": "2021-07-07T06:56:26.527Z"
   },
   {
    "duration": 10,
    "start_time": "2021-07-07T06:56:26.547Z"
   },
   {
    "duration": 12,
    "start_time": "2021-07-07T06:56:26.585Z"
   },
   {
    "duration": 68,
    "start_time": "2021-07-07T06:56:26.599Z"
   },
   {
    "duration": 17,
    "start_time": "2021-07-07T06:56:26.669Z"
   },
   {
    "duration": 62,
    "start_time": "2021-07-07T06:56:26.688Z"
   },
   {
    "duration": 4,
    "start_time": "2021-07-07T06:56:26.751Z"
   },
   {
    "duration": 80,
    "start_time": "2021-07-07T06:56:26.757Z"
   },
   {
    "duration": 26,
    "start_time": "2021-07-07T06:56:26.839Z"
   },
   {
    "duration": 26,
    "start_time": "2021-07-07T06:56:26.866Z"
   },
   {
    "duration": 14,
    "start_time": "2021-07-07T06:56:26.893Z"
   },
   {
    "duration": 5,
    "start_time": "2021-07-07T06:56:26.909Z"
   },
   {
    "duration": 8,
    "start_time": "2021-07-07T06:56:26.916Z"
   },
   {
    "duration": 294,
    "start_time": "2021-07-07T06:56:26.926Z"
   },
   {
    "duration": 18,
    "start_time": "2021-07-07T06:56:27.222Z"
   },
   {
    "duration": 18,
    "start_time": "2021-07-07T06:56:27.242Z"
   },
   {
    "duration": 38,
    "start_time": "2021-07-07T06:56:27.262Z"
   },
   {
    "duration": 30,
    "start_time": "2021-07-07T06:56:27.302Z"
   },
   {
    "duration": 75,
    "start_time": "2021-07-07T06:56:27.334Z"
   },
   {
    "duration": 5,
    "start_time": "2021-07-07T06:56:27.412Z"
   },
   {
    "duration": 543,
    "start_time": "2021-07-07T06:56:27.418Z"
   },
   {
    "duration": 554,
    "start_time": "2021-07-07T06:56:27.963Z"
   },
   {
    "duration": 368,
    "start_time": "2021-07-07T06:56:28.518Z"
   },
   {
    "duration": 11,
    "start_time": "2021-07-07T06:56:28.888Z"
   },
   {
    "duration": 12,
    "start_time": "2021-07-07T06:56:28.900Z"
   },
   {
    "duration": 10,
    "start_time": "2021-07-07T06:56:28.914Z"
   }
  ],
  "kernelspec": {
   "display_name": "Python 3",
   "language": "python",
   "name": "python3"
  },
  "language_info": {
   "codemirror_mode": {
    "name": "ipython",
    "version": 3
   },
   "file_extension": ".py",
   "mimetype": "text/x-python",
   "name": "python",
   "nbconvert_exporter": "python",
   "pygments_lexer": "ipython3",
   "version": "3.7.12"
  },
  "toc": {
   "base_numbering": 1,
   "nav_menu": {},
   "number_sections": true,
   "sideBar": true,
   "skip_h1_title": true,
   "title_cell": "Table of Contents",
   "title_sidebar": "Contents",
   "toc_cell": false,
   "toc_position": {
    "height": "calc(100% - 180px)",
    "left": "10px",
    "top": "150px",
    "width": "180px"
   },
   "toc_section_display": true,
   "toc_window_display": true
  }
 },
 "nbformat": 4,
 "nbformat_minor": 2
}
